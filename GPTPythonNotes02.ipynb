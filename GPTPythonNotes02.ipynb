{
  "nbformat": 4,
  "nbformat_minor": 0,
  "metadata": {
    "colab": {
      "provenance": []
    },
    "kernelspec": {
      "name": "python3",
      "display_name": "Python 3"
    },
    "language_info": {
      "name": "python"
    }
  },
  "cells": [
    {
      "cell_type": "markdown",
      "source": [
        "# 2. Math Operations and Expressions || Operaciones y expresiones matemáticas"
      ],
      "metadata": {
        "id": "YqdIDiUtcPYH"
      }
    },
    {
      "cell_type": "markdown",
      "source": [
        "**Operators** are used to perform actions on variables and values.\n",
        "\n",
        "Operator groups:\n",
        "- arithmetic\n",
        "- assignments\n",
        "- comparisons\n",
        "- logical\n",
        "- identity\n",
        "- belonging\n",
        "- bitwise\n",
        "\n",
        "Los **Operadores** se utilizan para realizar acciones sobre variables y valores.\n",
        "\n",
        "Grupos de operadores:\n",
        "- aritmética\n",
        "- asignaciones\n",
        "- comparaciones\n",
        "- lógico\n",
        "- identidad\n",
        "- pertenencia\n",
        "- operadores bit a bit"
      ],
      "metadata": {
        "id": "zqTaLWBeldtn"
      }
    },
    {
      "cell_type": "code",
      "source": [
        "import numbers, decimal, math, cmath, random\n",
        "import fractions, statistics, numpy, sympy"
      ],
      "metadata": {
        "id": "8bvi43mWFXIu"
      },
      "execution_count": null,
      "outputs": []
    },
    {
      "cell_type": "markdown",
      "source": [
        "Arithmetic\n",
        "\n",
        "| | | |\n",
        "|--|--|--|\n",
        "|`+`|adding|`4 + 5`|\n",
        "|`—`|subtraction|`8 — 3`|\n",
        "|`*`|multiplication|`5 * 5`|\n",
        "|`/`|division|`4 / 2`|\n",
        "|`%`|remainder|`7 % 2`|\n",
        "|`**`|exponentiation|`2 ** 3`|\n",
        "|`//`|integer division|`15 // 4`|\n",
        "\n",
        "Aritmética\n",
        "\n",
        "| | | |\n",
        "|--|--|--|\n",
        "|`+`|sumando|`4 + 5`|\n",
        "|`—`|sustracción|`8 — 3`|\n",
        "|`*`|multiplicación|`5 * 5`|\n",
        "|`/`|división|`4 / 2`|\n",
        "|`%`|resto de la división|`7 % 2`|\n",
        "|`**`|exponenciación|`2 ** 3`|\n",
        "|`//`|división entera|`15 // 4`|"
      ],
      "metadata": {
        "id": "-UadsdMPmSmc"
      }
    },
    {
      "cell_type": "code",
      "execution_count": null,
      "metadata": {
        "id": "bbD8-k5BcOJb",
        "colab": {
          "base_uri": "https://localhost:8080/"
        },
        "outputId": "25b16733-c9fe-45d5-93cd-e298d3ff3f1a"
      },
      "outputs": [
        {
          "output_type": "stream",
          "name": "stdout",
          "text": [
            "20 5.0\n",
            "2417851639229258349412352 4096\n"
          ]
        }
      ],
      "source": [
        "print(50 - 5 * 6, (50 - 5 * 6) / 4)\n",
        "print(2 ** 3 ** 4, (2 ** 3) ** 4)"
      ]
    },
    {
      "cell_type": "markdown",
      "source": [
        "Assignments / Asignaciones\n",
        "\n",
        "|  |  |  |\n",
        "|--|--|--|\n",
        "|`=`|`x = 5`|`x = 5`|\n",
        "|`+=`|`x += 3`|`x = x + 3`|\n",
        "|`-=`|`x -= 3`|`x = x — 3`|\n",
        "|`*=`|`x *= 3`|`x = x * 3`|\n",
        "|`/=`|`x /= 3`|`x = x / 3`|\n",
        "|`%=`|`x %= 3`|`x = x % 3`|\n",
        "|`//=`|`x //= 3`|`x = x // 3`|\n",
        "|`**=`|`x **= 3`|`x = x ** 3`|\n",
        "|`&=`|`x &= 3`|`x = x & 3`|\n",
        "|<b>&#160;&#124;</b>=|&#160; x&#160; <b>&#124;</b>=&#160; 3|&#160; x&#160; =&#160; x<b>&#160; &#124;&#160; </b>3|\n",
        "|`^=`|`x ^= 3`|`x = x ^ 3`|\n",
        "|`>>=`|`x >>= 3`|`x = x >> 3`|\n",
        "|`<<=`|`x <<= 3`|`x = x << 3`|"
      ],
      "metadata": {
        "id": "CxrIiuIVmoi6"
      }
    },
    {
      "cell_type": "code",
      "source": [
        "x, y, z = \"X\", \"Y\", \"Z\"\n",
        "print(x, y, z)\n",
        "letters = [\"A\", \"B\", \"C\"]\n",
        "a, b, c = letters\n",
        "print(a, b, c)"
      ],
      "metadata": {
        "id": "luxhnKvYnFx5",
        "colab": {
          "base_uri": "https://localhost:8080/"
        },
        "outputId": "131ef72b-6161-4f51-99d1-1751c92c1325"
      },
      "execution_count": null,
      "outputs": [
        {
          "output_type": "stream",
          "name": "stdout",
          "text": [
            "X Y Z\n",
            "A B C\n"
          ]
        }
      ]
    },
    {
      "cell_type": "markdown",
      "source": [
        "Comparisons\n",
        "\n",
        "| | | |\n",
        "|--|--|--|\n",
        "|`==`|equals|`x == y`|\n",
        "|`!=`|not equal|`x != y`|\n",
        "|`>`|greater than|`x > y`|\n",
        "|`<`|less than|`x < y`|\n",
        "|`>=`|greater than or equal to|`x >= y`|\n",
        "|`<=`|less than or equal to|`x <= y`|\n",
        "\n",
        "Comparaciones\n",
        "\n",
        "| | | |\n",
        "|--|--|--|\n",
        "|`==`|es igual|`x == y`|\n",
        "|`!=`|no es igual|`x != y`|\n",
        "|`>`|mayor que|`x > y`|\n",
        "|`<`|menor que|`x < y`|\n",
        "|`>=`|mayor o igual a|`x >= y`|\n",
        "|`<=`|menor o igual a|`x <= y`|"
      ],
      "metadata": {
        "id": "EGIpelNlnGT7"
      }
    },
    {
      "cell_type": "code",
      "source": [
        "5 < 3, 2 == 2.0"
      ],
      "metadata": {
        "id": "xpdlvR3CnHrk",
        "colab": {
          "base_uri": "https://localhost:8080/"
        },
        "outputId": "e4a1d71f-e823-4311-bec9-7947e13ea742"
      },
      "execution_count": null,
      "outputs": [
        {
          "output_type": "execute_result",
          "data": {
            "text/plain": [
              "(False, True)"
            ]
          },
          "metadata": {},
          "execution_count": 4
        }
      ]
    },
    {
      "cell_type": "markdown",
      "source": [
        "Logical\n",
        "\n",
        "| | | | |\n",
        "|--|--|--|--|\n",
        "|`and`|Returns `True` if both statements are true|`(x < 5) and (x < 10)`|\n",
        "|`or`|Returns `True` if one of the statements is true|`(x < 5) or (x < 4)`|\n",
        "|`not`|Changes the result, returns `False` if the result is `True`|`not((x < 5) and (x < 10))`|\n",
        "\n",
        "Lógico\n",
        "\n",
        "| | | | |\n",
        "|--|--|--|--|\n",
        "|`and`|Devuelve `Verdadero` si ambas afirmaciones son verdaderas|`(x < 5) y (x < 10)`|\n",
        "|`or`|Devuelve `Verdadero` si una de las afirmaciones es verdadera|`(x < 5) o (x < 4)`|\n",
        "|`not`|Cambia el resultado, devuelve `False` si el resultado es `True`|`not((x < 5) y (x < 10))`|"
      ],
      "metadata": {
        "id": "LBnypGE9pVBL"
      }
    },
    {
      "cell_type": "markdown",
      "source": [
        "Identity\n",
        "\n",
        "| | | | |\n",
        "|--|--|--|--|\n",
        "|`is`|Returns `True` if the variables are the same object|`x is y`|\n",
        "|`is not`|Returns `True` if the variables are different|`x is not y`|\n",
        "\n",
        "Identidad\n",
        "\n",
        "| | | | |\n",
        "|--|--|--|--|\n",
        "|`is`|Devuelve `True` si las variables son el mismo objeto|`x es y`|\n",
        "|`no es`|Devuelve `Verdadero` si las variables son diferentes|`x no es y`|"
      ],
      "metadata": {
        "id": "wyjv0BsUp6oj"
      }
    },
    {
      "cell_type": "markdown",
      "source": [
        "Belonging\n",
        "\n",
        "| | | | |\n",
        "|--|--|--|--|\n",
        "|`in`|Returns `True` if the sequence is present in the object|`x in y`|\n",
        "|`not in`|Returns `True` if the sequence is not present in the object| `x not in y`|\n",
        "\n",
        "Pertenencia\n",
        "\n",
        "| | | | |\n",
        "|--|--|--|--|\n",
        "|`in`|Devuelve `True` si la secuencia está presente en el objeto|`x in y`|\n",
        "|`not in`|Devuelve `True` si la secuencia no está presente en el objeto| `x no en y`|"
      ],
      "metadata": {
        "id": "_wJyQaWaqYss"
      }
    },
    {
      "cell_type": "code",
      "source": [
        "print((5 < 3) or (3 < 4), (True == 1) and (False == 0), end='\\n\\n')\n",
        "print([2] is [2.], {1., 2., 3.} is {1, 2, 3}, {1., 2., 3.} is not {1, 2, 3},\n",
        "      end='\\n\\n')\n",
        "print(1 in [1, 2, 3], 2 in [1., 2., 3.], 2 not in [1., 2., 3.], end='\\n\\n')"
      ],
      "metadata": {
        "id": "3DF73VGRpwgL",
        "colab": {
          "base_uri": "https://localhost:8080/"
        },
        "outputId": "2bb2986d-602a-44b9-8cbb-1a92c81e9336"
      },
      "execution_count": null,
      "outputs": [
        {
          "output_type": "stream",
          "name": "stdout",
          "text": [
            "True True\n",
            "\n",
            "False False True\n",
            "\n",
            "True True False\n",
            "\n"
          ]
        }
      ]
    },
    {
      "cell_type": "code",
      "source": [
        "# logical laws and truth tables / leyes lógicas y tablas de verdad\n",
        "import numpy, sympy, itertools\n",
        "sympy.init_printing(use_unicode=True)\n",
        "from sympy.logic import simplify_logic, satisfiable\n",
        "from sympy.logic import And, Or, Not, Xor, Implies, Equivalent\n",
        "for i in range(1,11): exec(f\"x{i} = sympy.symbols('x{i}')\")\n",
        "eq1 = Or(x1, Not(x2)) & (x3 | ~x4)\n",
        "eq2 = Or(x3, Not(x4)) & (x5 | ~x6)\n",
        "eq3 = Or(x5, Not(x6)) & (x7 | ~x8)\n",
        "eq4 = Or(x7, Not(x8)) & (x9 | ~x10)\n",
        "eq = simplify_logic(And(eq1, eq2) & And(eq3, eq4))\n",
        "s = list(satisfiable(eq, all_models=True))\n",
        "eqsubs1 = eq.subs({x1:1, x2:1, x3:1, x4:1, x5:1,\n",
        "                   x6:1, x7:1, x8:1, x9:1, x10:1})\n",
        "for el in [eq, eqsubs1, s[0], eq.subs(s[0])]:\n",
        "    print(el, '\\n')"
      ],
      "metadata": {
        "colab": {
          "base_uri": "https://localhost:8080/"
        },
        "id": "eZpt4a8VsoQ6",
        "outputId": "fcc80a2c-e963-44de-81be-3add5d1f4694"
      },
      "execution_count": null,
      "outputs": [
        {
          "output_type": "stream",
          "name": "stdout",
          "text": [
            "(x1 | ~x2) & (x3 | ~x4) & (x5 | ~x6) & (x7 | ~x8) & (x9 | ~x10) \n",
            "\n",
            "1 \n",
            "\n",
            "{x5: True, x9: True, x7: True, x1: True, x3: True, x4: False, x2: False, x8: False, x10: False, x6: False} \n",
            "\n",
            "True \n",
            "\n"
          ]
        }
      ]
    },
    {
      "cell_type": "code",
      "source": [
        "# sympy - as logical / - como lógico\n",
        "for (t1, t2) in [(False, False), (False, True),\n",
        "                 (True, False), (True, True)]:\n",
        "    print((~x1 & ~x2).subs({x1:t1, x2:t2}), end=' ')\n",
        "    print(And(Not(x1), Not(x2)).subs({x1:t1, x2:t2}))"
      ],
      "metadata": {
        "colab": {
          "base_uri": "https://localhost:8080/"
        },
        "id": "l5dDJ2qGs43C",
        "outputId": "aeef1e00-b97d-4738-a9de-7530f779334f"
      },
      "execution_count": null,
      "outputs": [
        {
          "output_type": "stream",
          "name": "stdout",
          "text": [
            "True True\n",
            "False False\n",
            "False False\n",
            "False False\n"
          ]
        }
      ]
    },
    {
      "cell_type": "markdown",
      "source": [
        "Bitwise Operators /Operadores bit a bit\n",
        "\n",
        "| | | |\n",
        "|--|--|--|\n",
        "|`&`|`a & b`|Bitwise `AND`|\n",
        "|`\\|`|`a \\| b`|Bitwise `OR`|\n",
        "|`^`|`a ^ b`|Bitwise `XOR` (exclusive `OR`)|\n",
        "|`~`|``~a`|Bitwise `NOT`|\n",
        "|`<<`|`a << n`|Bitwise `left shift`|\n",
        "|`>>`|`a >> n`|Bitwise `right shift`|\n"
      ],
      "metadata": {
        "id": "pOaHZJfwSY5g"
      }
    },
    {
      "cell_type": "code",
      "source": [
        "1 & 1, 1 | 0, 8 << 1, 8 >> 1"
      ],
      "metadata": {
        "id": "N5-fUxPKqYBK",
        "colab": {
          "base_uri": "https://localhost:8080/",
          "height": 37
        },
        "outputId": "d44360c5-8f14-4a48-a0a2-9354f5a95ba7"
      },
      "execution_count": null,
      "outputs": [
        {
          "output_type": "execute_result",
          "data": {
            "text/plain": [
              "(1, 1, 16, 4)"
            ],
            "text/latex": "$\\displaystyle \\left( 1, \\  1, \\  16, \\  4\\right)$"
          },
          "metadata": {},
          "execution_count": 8
        }
      ]
    },
    {
      "cell_type": "markdown",
      "source": [
        "`is vs ==`"
      ],
      "metadata": {
        "id": "ysiXA-NXbSMJ"
      }
    },
    {
      "cell_type": "code",
      "source": [
        "# is => identity (CPython - memory adresses), == => equality\n",
        "# is => a key word, == =>  an operator\n",
        "# is => identidad (Python - direcciones de memoria), == => igualdad\n",
        "# is => una palabra clave, == => un operador\n",
        "2 is 2, 2 == 2"
      ],
      "metadata": {
        "id": "hSXRyWPcbUnU",
        "colab": {
          "base_uri": "https://localhost:8080/"
        },
        "outputId": "ed129b08-a506-44ca-8fbb-823a548c14d0"
      },
      "execution_count": 30,
      "outputs": [
        {
          "output_type": "stream",
          "name": "stderr",
          "text": [
            "<>:5: SyntaxWarning: \"is\" with a literal. Did you mean \"==\"?\n",
            "<>:5: SyntaxWarning: \"is\" with a literal. Did you mean \"==\"?\n",
            "<ipython-input-30-185706af8bfc>:5: SyntaxWarning: \"is\" with a literal. Did you mean \"==\"?\n",
            "  2 is 2, 2 == 2\n"
          ]
        },
        {
          "output_type": "execute_result",
          "data": {
            "text/plain": [
              "(True, True)"
            ]
          },
          "metadata": {},
          "execution_count": 30
        }
      ]
    },
    {
      "cell_type": "code",
      "source": [
        "lst1 = ['a', 'b', 'c', 'd', 'e']\n",
        "lst2 = ['a', 'b', 'c', 'd', 'e']\n",
        "print(id(lst1), id(lst2), lst1 == lst2, id(lst1) == id(lst2), lst1 is lst2)\n",
        "lst1 = ['a', 'b', 'c', 'd', 'e']\n",
        "lst2 = lst1\n",
        "lst1.append('f')\n",
        "print( lst1, lst2, id(lst1), id(lst2), lst1 == lst2, id(lst1) == id(lst2), lst1 is lst2)\n",
        "lst1 = ['a', 'b', 'c', 'd', 'e']\n",
        "lst2 = lst1.copy()\n",
        "print( lst1, lst2, id(lst1), id(lst2), lst1 == lst2, id(lst1) == id(lst2), lst1 is lst2)"
      ],
      "metadata": {
        "colab": {
          "base_uri": "https://localhost:8080/"
        },
        "id": "QHBzH2bBbh8l",
        "outputId": "6b400359-5f45-4726-eb25-03553d930db1"
      },
      "execution_count": 31,
      "outputs": [
        {
          "output_type": "stream",
          "name": "stdout",
          "text": [
            "135727885843392 135727885843584 True False False\n",
            "['a', 'b', 'c', 'd', 'e', 'f'] ['a', 'b', 'c', 'd', 'e', 'f'] 135727885832448 135727885832448 True True True\n",
            "['a', 'b', 'c', 'd', 'e'] ['a', 'b', 'c', 'd', 'e'] 135727885843392 135727885843584 True False False\n"
          ]
        }
      ]
    },
    {
      "cell_type": "code",
      "source": [
        "t1 = ('a', 'b', 'c', 'd', 'e')\n",
        "t2 = ('a', 'b', 'c', 'd', 'e')\n",
        "id(t1), id(t2), hash(t1), hash(t2), \\\n",
        "t1 == t2, hash(t1) == hash(t2), id(t1) == id(t2), t1 is t2"
      ],
      "metadata": {
        "colab": {
          "base_uri": "https://localhost:8080/"
        },
        "id": "OdwH97oGbn15",
        "outputId": "1e3ad5b1-2aae-418b-e481-ec27fe0c3ca4"
      },
      "execution_count": 32,
      "outputs": [
        {
          "output_type": "execute_result",
          "data": {
            "text/plain": [
              "(135727885788768,\n",
              " 135727885981536,\n",
              " -5072414162966213943,\n",
              " -5072414162966213943,\n",
              " True,\n",
              " True,\n",
              " False,\n",
              " False)"
            ]
          },
          "metadata": {},
          "execution_count": 32
        }
      ]
    },
    {
      "cell_type": "code",
      "source": [
        "# do not use for comparing values\n",
        "# no usar para comparar valores\n",
        "a1 = 'hello'\n",
        "b1 = 'hello'\n",
        "a2 = 'hello hola привет world mundo мир'\n",
        "b2 = 'hello hola привет world mundo мир'\n",
        "print(a1 is b1, a2 is b2)"
      ],
      "metadata": {
        "colab": {
          "base_uri": "https://localhost:8080/"
        },
        "id": "-s82g0Bjbtot",
        "outputId": "8abfea49-841b-4f59-a320-fc06b086cb3c"
      },
      "execution_count": 33,
      "outputs": [
        {
          "output_type": "stream",
          "name": "stdout",
          "text": [
            "True False\n"
          ]
        }
      ]
    },
    {
      "cell_type": "code",
      "source": [
        "# each object will be stored at a singular and fixed place in memory\n",
        "# cada objeto se almacenará en un lugar singular y fijo en la memoria\n",
        "from sys import intern\n",
        "a2 = intern(a2)\n",
        "b2 = intern(b2)\n",
        "print(a1 is b1, a2 is b2)"
      ],
      "metadata": {
        "colab": {
          "base_uri": "https://localhost:8080/"
        },
        "id": "qE0C0SNkby3b",
        "outputId": "dedeb113-eae4-4111-d284-dc18d9f9d7e6"
      },
      "execution_count": 34,
      "outputs": [
        {
          "output_type": "stream",
          "name": "stdout",
          "text": [
            "True True\n"
          ]
        }
      ]
    },
    {
      "cell_type": "code",
      "source": [
        "# integers are intered by default\n",
        "# números enteros están intercalados por defecto\n",
        "a3, b3 = 1, 1\n",
        "a4, b4 = 10**12, 10**12\n",
        "print(a3 is b3, a4 is b4)"
      ],
      "metadata": {
        "colab": {
          "base_uri": "https://localhost:8080/"
        },
        "id": "AUz3AYwNb3Qy",
        "outputId": "25e9464a-12d5-4fcd-a2ca-ee78c3388e28"
      },
      "execution_count": 35,
      "outputs": [
        {
          "output_type": "stream",
          "name": "stdout",
          "text": [
            "True True\n"
          ]
        }
      ]
    },
    {
      "cell_type": "markdown",
      "source": [
        "### Built-in math functions / Funciones matemáticas integradas"
      ],
      "metadata": {
        "id": "2puWYmjBZmdP"
      }
    },
    {
      "cell_type": "code",
      "source": [
        "(abs(-25)) ** .5, (-25) ** .5"
      ],
      "metadata": {
        "colab": {
          "base_uri": "https://localhost:8080/"
        },
        "id": "y1kD0CAmZzrv",
        "outputId": "d17c97c8-4545-4956-ea7b-3eea58ffe978"
      },
      "execution_count": null,
      "outputs": [
        {
          "output_type": "execute_result",
          "data": {
            "text/plain": [
              "(5.0, (3.061616997868383e-16+5j))"
            ]
          },
          "metadata": {},
          "execution_count": 9
        }
      ]
    },
    {
      "cell_type": "code",
      "source": [
        "d = {'a': 2, 'b': 3, 'c': 5}\n",
        "print(max(d))"
      ],
      "metadata": {
        "colab": {
          "base_uri": "https://localhost:8080/"
        },
        "id": "so_8I2lZct_N",
        "outputId": "9bf1965a-dbb7-464b-943f-4256c509d1a4"
      },
      "execution_count": null,
      "outputs": [
        {
          "output_type": "stream",
          "name": "stdout",
          "text": [
            "c\n"
          ]
        }
      ]
    },
    {
      "cell_type": "code",
      "source": [
        "print(complex(3, 4), complex(3, 4) ** (1/2),\n",
        "      complex(2, 1) ** 2, complex(2, 1))\n",
        "print(complex(3, -4), complex(3, -4) ** (1/2),\n",
        "      complex(2, -1) ** 2, complex(2, -1))\n",
        "sympy.sqrt(3 + 4 * sympy.I), sympy.sqrt(3 - 4 * sympy.I)"
      ],
      "metadata": {
        "colab": {
          "base_uri": "https://localhost:8080/",
          "height": 73
        },
        "id": "o4sS1YiVWD40",
        "outputId": "cbed83e0-b265-4fce-d1cb-ea09fe104127"
      },
      "execution_count": null,
      "outputs": [
        {
          "output_type": "stream",
          "name": "stdout",
          "text": [
            "(3+4j) (2+1j) (3+4j) (2+1j)\n",
            "(3-4j) (2-1j) (3-4j) (2-1j)\n"
          ]
        },
        {
          "output_type": "execute_result",
          "data": {
            "text/plain": [
              "(2 + ⅈ, 2 - ⅈ)"
            ],
            "text/latex": "$\\displaystyle \\left( 2 + i, \\  2 - i\\right)$"
          },
          "metadata": {},
          "execution_count": 11
        }
      ]
    },
    {
      "cell_type": "code",
      "source": [
        "# how many units are in the binary record of the number 197\n",
        "# cuantas unidades hay en el registro binario del número 197\n",
        "bin(197), bin(197)[2:].count('1')"
      ],
      "metadata": {
        "colab": {
          "base_uri": "https://localhost:8080/"
        },
        "id": "fdzoTBn6wLjx",
        "outputId": "b433258b-ad51-45e7-c2ba-f270c939c69f"
      },
      "execution_count": null,
      "outputs": [
        {
          "output_type": "execute_result",
          "data": {
            "text/plain": [
              "('0b11000101', 4)"
            ]
          },
          "metadata": {},
          "execution_count": 12
        }
      ]
    },
    {
      "cell_type": "markdown",
      "source": [
        "The Task Examples\n",
        "\n",
        "## #1\n",
        "\n",
        "The message is sent through a communication channel, it consists only of symbols А, Б, В and Г.\n",
        "\n",
        "These symbols are encoded unequally (by the length) with the follow code: <i style=\"font-size:150%;color:#348ABD;\" class=\"font-effect-3d\">A-0, Б-10, В-110, Г-111</i>.\n",
        "\n",
        "The initial message: <i style=\"font-size:150%;color:#348ABD;\" class=\"font-effect-3d\">ВГВБАВА</i>.\n",
        "\n",
        "Encode the message with this code.\n",
        "\n",
        "Obtain the resulting sequence in a hexadecimal form.\n",
        "\n",
        "\n",
        "Los ejemplos de la tarea\n",
        "\n",
        "## #1\n",
        "\n",
        "El mensaje se envía a través de un canal de comunicación y consta únicamente de los símbolos А, Б, В y Г.\n",
        "\n",
        "Estos símbolos están codificados de manera desigual (por longitud) con el siguiente código: <i style=\"font-size:150%;color:#348ABD;\" class=\"font-effect-3d\">A-0, Б-10, В-110, Г-111</i>.\n",
        "\n",
        "El mensaje inicial: <i style=\"font-size:150%;color:#348ABD;\" class=\"font-effect-3d\">ВГВБАВА</i>.\n",
        "\n",
        "Codifique el mensaje con este código.\n",
        "\n",
        "Obtenga la secuencia resultante en forma hexadecimal."
      ],
      "metadata": {
        "id": "81fDwlSMxkxX"
      }
    },
    {
      "cell_type": "code",
      "source": [
        "string = 'ВГВБАВА'\n",
        "print(string)\n",
        "for t in [('А','0'), ('Б','10'), ('В','110'), ('Г','111')]:\n",
        "    string = string.replace(*t)\n",
        "print(string)\n",
        "print(hex(int(string,2))[2:].upper())"
      ],
      "metadata": {
        "colab": {
          "base_uri": "https://localhost:8080/"
        },
        "id": "A6QLrGiZw-k4",
        "outputId": "b0a4d05a-7d53-4176-c1a8-413ac80ddada"
      },
      "execution_count": null,
      "outputs": [
        {
          "output_type": "stream",
          "name": "stdout",
          "text": [
            "ВГВБАВА\n",
            "1101111101001100\n",
            "DF4C\n"
          ]
        }
      ]
    },
    {
      "cell_type": "markdown",
      "source": [
        "Four digits in the binary system correspond to one digit in the hexadecimal system.\n",
        "\n",
        "Cuatro dígitos en el sistema binario corresponden a un dígito en el sistema hexadecimal.\n",
        "\n",
        "$1101_2 = 2^3 + 2^2 + 2^0 = 13_{10} = D_{16}$\n",
        "\n",
        "$1111_2 = 2^3 + 2^2 + 2^1 + 2^0 = 15_{10} = F_{16}$\n",
        "\n",
        "$0100_2 = 2^2 = 4_{10} = 4_{16}$\n",
        "\n",
        "$1100_2 = 2^3 + 2^2 = 12_{10} = C_{16}$\n",
        "\n",
        "$1101111101001100_2 = DF4C_{16}$"
      ],
      "metadata": {
        "id": "cqOx0cLsypAi"
      }
    },
    {
      "cell_type": "code",
      "source": [
        "# 2\n",
        "# FAREWELL ROUND A 2023, TASK 2\n",
        "def update(i, start, end, radius, condition, answer):\n",
        "    while (i < N):\n",
        "        if X[i] - start > radius: break\n",
        "        else: end = X[i]\n",
        "        i += 1\n",
        "    if end != condition:\n",
        "        answer += [end]\n",
        "        start = end\n",
        "    else:\n",
        "        answer = []\n",
        "    return i,start,end,answer\n",
        "# T = int(input())\n",
        "T = 1\n",
        "for t in range(T):\n",
        "#     [M, R, N] = list(map(int, input().split()))\n",
        "    [M, R, N] = list(map(int, '10 2 4'.split()))\n",
        "#     X = list(map(int, input().split()))\n",
        "    X = list(map(int, '2 3 7 9'.split()))\n",
        "    i, start, end, answer = 0, 0, -1, []\n",
        "    i, start, end, answer = update(i, start, end, R, -1, answer)\n",
        "    while ((i < N) and (answer != []) and (end + R < M)):\n",
        "        i, start, end, answer = update(i, start, end, 2*R, start, answer)\n",
        "    if M - end > R: answer = []\n",
        "    if answer != []:\n",
        "        print('Case #{}: {}'.format((t + 1), len(answer)))\n",
        "    else:\n",
        "        print('Case #{}: IMPOSSIBLE'.format(t + 1))"
      ],
      "metadata": {
        "colab": {
          "base_uri": "https://localhost:8080/"
        },
        "id": "JBcCgqZG6r74",
        "outputId": "bed474ae-1fdc-4dbf-9f23-76f71f220b16"
      },
      "execution_count": null,
      "outputs": [
        {
          "output_type": "stream",
          "name": "stdout",
          "text": [
            "Case #1: 4\n"
          ]
        }
      ]
    },
    {
      "cell_type": "markdown",
      "source": [
        "### Examples of mathematical calculations / Examples of mathematical calculations"
      ],
      "metadata": {
        "id": "s-jQAMM1Nmjk"
      }
    },
    {
      "cell_type": "code",
      "source": [
        "# simple math calculations / cálculos matemáticos simples\n",
        "(math.cos(math.pi),\n",
        " math.sin(math.degrees(math.pi/2)),\n",
        " math.degrees(math.pi/2),\n",
        " math.sqrt(625), math.log(1),\n",
        " math.ceil(-7.2), math.ceil(7.2))"
      ],
      "metadata": {
        "colab": {
          "base_uri": "https://localhost:8080/",
          "height": 37
        },
        "id": "VwE_oV-Tnx66",
        "outputId": "7b576863-32be-44c9-e3ba-d8f66e11acf5"
      },
      "execution_count": null,
      "outputs": [
        {
          "output_type": "execute_result",
          "data": {
            "text/plain": [
              "(-1.0, 0.8939966636005579, 90.0, 25.0, 0.0, -7, 8)"
            ],
            "text/latex": "$\\displaystyle \\left( -1.0, \\  0.893996663600558, \\  90.0, \\  25.0, \\  0.0, \\  -7, \\  8\\right)$"
          },
          "metadata": {},
          "execution_count": 15
        }
      ]
    },
    {
      "cell_type": "code",
      "source": [
        "# combinatorics calculations / cálculos combinatorios\n",
        "from sympy.combinatorics.permutations import Permutation\n",
        "X = [3, 2, 4, 1, 5, 7, 6]\n",
        "X1, X2 = [2, 1, 3, 0, 4, 5, 6], [0, 1, 2, 3, 4, 6, 5]\n",
        "P = Permutation([x-1 for x in X])\n",
        "ST = ['Permutation indices / Índices de permutación:',\n",
        "      [P.list(), P.array_form],\n",
        "      [P.atoms(), P.size],\n",
        "      [P.ascents(), P.descents()],\n",
        "      'Cycles in P / Ciclos en P:',\n",
        "      P.cyclic_form, P.full_cyclic_form,\n",
        "      'Product of cycles == P / Producto de ciclos == P',\n",
        "      Permutation(X1) * Permutation(X2) == P,\n",
        "      'Transpositions in P / Transposiciones en P:',\n",
        "      P.transpositions(),\n",
        "      'Inversions in P / Inversiones en P:',\n",
        "      [P.inversion_vector(), P.inversions()],\n",
        "      'Adjacency matrix / Matriz de adyacencia: ',\n",
        "      P.get_adjacency_matrix().__repr__()]\n",
        "for st in ST: print(st)"
      ],
      "metadata": {
        "id": "KTooLWl3sB7p",
        "colab": {
          "base_uri": "https://localhost:8080/"
        },
        "outputId": "b9287254-d33e-4085-d4b5-fbed025c19dd"
      },
      "execution_count": null,
      "outputs": [
        {
          "output_type": "stream",
          "name": "stdout",
          "text": [
            "Permutation indices / Índices de permutación:\n",
            "[[2, 1, 3, 0, 4, 6, 5], [2, 1, 3, 0, 4, 6, 5]]\n",
            "[{0, 1, 2, 3, 4, 5, 6}, 7]\n",
            "[[1, 3, 4], [0, 2, 5]]\n",
            "Cycles in P / Ciclos en P:\n",
            "[[0, 2, 3], [5, 6]]\n",
            "[[0, 2, 3], [1], [4], [5, 6]]\n",
            "Product of cycles == P / Producto de ciclos == P\n",
            "True\n",
            "Transpositions in P / Transposiciones en P:\n",
            "[(0, 3), (0, 2), (5, 6)]\n",
            "Inversions in P / Inversiones en P:\n",
            "[[2, 1, 1, 0, 0, 1], 5]\n",
            "Adjacency matrix / Matriz de adyacencia: \n",
            "Matrix([\n",
            "[0, 0, 0, 0, 1, 0, 0],\n",
            "[0, 0, 0, 1, 0, 0, 0],\n",
            "[0, 1, 0, 0, 0, 0, 0],\n",
            "[1, 0, 0, 0, 0, 0, 0],\n",
            "[0, 0, 0, 0, 0, 0, 1],\n",
            "[0, 0, 0, 0, 0, 0, 0],\n",
            "[0, 0, 0, 0, 0, 1, 0]])\n"
          ]
        }
      ]
    },
    {
      "cell_type": "code",
      "source": [
        "from sympy.utilities.iterables import multiset_permutations\n",
        "S=['☜','☞','☝︎','☟']\n",
        "list(multiset_permutations(S))"
      ],
      "metadata": {
        "colab": {
          "base_uri": "https://localhost:8080/"
        },
        "id": "hCRZdP1imzBX",
        "outputId": "740f728e-cfae-452e-ccfc-91c6d2427791"
      },
      "execution_count": null,
      "outputs": [
        {
          "output_type": "execute_result",
          "data": {
            "text/plain": [
              "[['☜', '☝︎', '☞', '☟'],\n",
              " ['☜', '☝︎', '☟', '☞'],\n",
              " ['☜', '☞', '☝︎', '☟'],\n",
              " ['☜', '☞', '☟', '☝︎'],\n",
              " ['☜', '☟', '☝︎', '☞'],\n",
              " ['☜', '☟', '☞', '☝︎'],\n",
              " ['☝︎', '☜', '☞', '☟'],\n",
              " ['☝︎', '☜', '☟', '☞'],\n",
              " ['☝︎', '☞', '☜', '☟'],\n",
              " ['☝︎', '☞', '☟', '☜'],\n",
              " ['☝︎', '☟', '☜', '☞'],\n",
              " ['☝︎', '☟', '☞', '☜'],\n",
              " ['☞', '☜', '☝︎', '☟'],\n",
              " ['☞', '☜', '☟', '☝︎'],\n",
              " ['☞', '☝︎', '☜', '☟'],\n",
              " ['☞', '☝︎', '☟', '☜'],\n",
              " ['☞', '☟', '☜', '☝︎'],\n",
              " ['☞', '☟', '☝︎', '☜'],\n",
              " ['☟', '☜', '☝︎', '☞'],\n",
              " ['☟', '☜', '☞', '☝︎'],\n",
              " ['☟', '☝︎', '☜', '☞'],\n",
              " ['☟', '☝︎', '☞', '☜'],\n",
              " ['☟', '☞', '☜', '☝︎'],\n",
              " ['☟', '☞', '☝︎', '☜']]"
            ]
          },
          "metadata": {},
          "execution_count": 17
        }
      ]
    },
    {
      "cell_type": "code",
      "source": [
        "# matrix operations / operaciones matriciales\n",
        "A1 = numpy.matrix(numpy.random.randint(0, 100, size=(5, 7)))\n",
        "B1 = numpy.matrix(numpy.random.randint(-100, 0, size=(5, 7)))\n",
        "C1 = numpy.matrix([[1, 3, 5, 7],[2, 4, 6, 8]])\n",
        "E1 = numpy.matrix(numpy.eye(3))\n",
        "for el in [A1, B1, C1, E1]:\n",
        "    print(el, '=>', el.shape, end='\\n\\n')"
      ],
      "metadata": {
        "colab": {
          "base_uri": "https://localhost:8080/"
        },
        "id": "_0rFFWHvh_zT",
        "outputId": "a1ae981b-d975-4ffa-8632-f97c0411e4b9"
      },
      "execution_count": null,
      "outputs": [
        {
          "output_type": "stream",
          "name": "stdout",
          "text": [
            "[[65  7 63 23 79 98 98]\n",
            " [65 57 87 83 99 86 56]\n",
            " [72 89 73 10  2 91 55]\n",
            " [75 20 26 69 59 97  6]\n",
            " [ 6 32 13 44 44 78 25]] => (5, 7)\n",
            "\n",
            "[[-67 -11 -47 -17 -95 -79 -17]\n",
            " [-36 -91 -82 -48 -18  -7 -30]\n",
            " [-59 -54 -87 -35  -4 -23 -98]\n",
            " [-48 -12 -74 -24 -64 -74 -36]\n",
            " [-46 -56 -22 -96 -96 -47 -93]] => (5, 7)\n",
            "\n",
            "[[1 3 5 7]\n",
            " [2 4 6 8]] => (2, 4)\n",
            "\n",
            "[[1. 0. 0.]\n",
            " [0. 1. 0.]\n",
            " [0. 0. 1.]] => (3, 3)\n",
            "\n"
          ]
        }
      ]
    },
    {
      "cell_type": "code",
      "source": [
        "print(A1 * B1.T, B1.T * A1, sep='\\n\\n', end='\\n\\n')\n",
        "print(numpy.dot(A1, B1.T) == A1 * B1.T)\n",
        "print(numpy.trace(A1), sum(numpy.diagonal(A1)) == numpy.trace(A1))"
      ],
      "metadata": {
        "colab": {
          "base_uri": "https://localhost:8080/"
        },
        "id": "lbYVXO3hA9f_",
        "outputId": "b6566329-db20-4f75-a4f1-b53013b7e958"
      },
      "execution_count": null,
      "outputs": [
        {
          "output_type": "stream",
          "name": "stdout",
          "text": [
            "[[-24697 -14295 -22673 -24254 -28280]\n",
            " [-27633 -22709 -25249 -26950 -34818]\n",
            " [-17718 -19480 -23246 -19008 -20446]\n",
            " [-21010 -11885 -13237 -18590 -22547]\n",
            " [-12880  -8394  -9173 -12178 -16793]]\n",
            "\n",
            "[[-14819 -10204 -13506 -10455 -13831 -23275 -13265]\n",
            " [-11754 -12102 -13592 -11638 -13158 -19350 -10616]\n",
            " [-20331 -14930 -18656 -14831 -17339 -28469 -14977]\n",
            " [ -9121  -9522  -9674 -10605 -11805 -18795  -8823]\n",
            " [-13009  -6399 -10755 -12359 -17295 -24918 -13322]\n",
            " [-13078  -5983  -9800  -9802 -13414 -21281 -11018]\n",
            " [-13369 -14247 -12980 -10437 -10725 -23910 -11277]]\n",
            "\n",
            "[[ True  True  True  True  True]\n",
            " [ True  True  True  True  True]\n",
            " [ True  True  True  True  True]\n",
            " [ True  True  True  True  True]\n",
            " [ True  True  True  True  True]]\n",
            "308 True\n"
          ]
        }
      ]
    },
    {
      "cell_type": "code",
      "source": [
        "A2 = sympy.Matrix([[-3, -3, -6, -3],[-4, -7, 8, -7]])\n",
        "B2 = sympy.Matrix([[2, 10, 7], [-5, -6, -2],\n",
        "                   [-8, 4, -8], [7, 4, -6]])\n",
        "C2 = sympy.Matrix([[-8, -4, 5, 2],[3, -5, 8, -2]])\n",
        "E2 = sympy.Identity(3)\n",
        "for el in [A2, B2, C2, E2.as_explicit()]:\n",
        "    display((el, el.shape)); print()"
      ],
      "metadata": {
        "colab": {
          "base_uri": "https://localhost:8080/",
          "height": 310
        },
        "id": "nS7MGih6mzcs",
        "outputId": "add915f3-b930-4761-d1db-367e826092d4"
      },
      "execution_count": null,
      "outputs": [
        {
          "output_type": "display_data",
          "data": {
            "text/plain": [
              "⎛⎡-3  -3  -6  -3⎤        ⎞\n",
              "⎜⎢              ⎥, (2, 4)⎟\n",
              "⎝⎣-4  -7  8   -7⎦        ⎠"
            ],
            "text/latex": "$\\displaystyle \\left( \\left[\\begin{matrix}-3 & -3 & -6 & -3\\\\-4 & -7 & 8 & -7\\end{matrix}\\right], \\  \\left( 2, \\  4\\right)\\right)$"
          },
          "metadata": {}
        },
        {
          "output_type": "stream",
          "name": "stdout",
          "text": [
            "\n"
          ]
        },
        {
          "output_type": "display_data",
          "data": {
            "text/plain": [
              "⎛⎡2   10  7 ⎤        ⎞\n",
              "⎜⎢          ⎥        ⎟\n",
              "⎜⎢-5  -6  -2⎥        ⎟\n",
              "⎜⎢          ⎥, (4, 3)⎟\n",
              "⎜⎢-8  4   -8⎥        ⎟\n",
              "⎜⎢          ⎥        ⎟\n",
              "⎝⎣7   4   -6⎦        ⎠"
            ],
            "text/latex": "$\\displaystyle \\left( \\left[\\begin{matrix}2 & 10 & 7\\\\-5 & -6 & -2\\\\-8 & 4 & -8\\\\7 & 4 & -6\\end{matrix}\\right], \\  \\left( 4, \\  3\\right)\\right)$"
          },
          "metadata": {}
        },
        {
          "output_type": "stream",
          "name": "stdout",
          "text": [
            "\n"
          ]
        },
        {
          "output_type": "display_data",
          "data": {
            "text/plain": [
              "⎛⎡-8  -4  5  2 ⎤        ⎞\n",
              "⎜⎢             ⎥, (2, 4)⎟\n",
              "⎝⎣3   -5  8  -2⎦        ⎠"
            ],
            "text/latex": "$\\displaystyle \\left( \\left[\\begin{matrix}-8 & -4 & 5 & 2\\\\3 & -5 & 8 & -2\\end{matrix}\\right], \\  \\left( 2, \\  4\\right)\\right)$"
          },
          "metadata": {}
        },
        {
          "output_type": "stream",
          "name": "stdout",
          "text": [
            "\n"
          ]
        },
        {
          "output_type": "display_data",
          "data": {
            "text/plain": [
              "⎛⎡1  0  0⎤        ⎞\n",
              "⎜⎢       ⎥        ⎟\n",
              "⎜⎢0  1  0⎥, (3, 3)⎟\n",
              "⎜⎢       ⎥        ⎟\n",
              "⎝⎣0  0  1⎦        ⎠"
            ],
            "text/latex": "$\\displaystyle \\left( \\left[\\begin{matrix}1 & 0 & 0\\\\0 & 1 & 0\\\\0 & 0 & 1\\end{matrix}\\right], \\  \\left( 3, \\  3\\right)\\right)$"
          },
          "metadata": {}
        },
        {
          "output_type": "stream",
          "name": "stdout",
          "text": [
            "\n"
          ]
        }
      ]
    },
    {
      "cell_type": "code",
      "source": [
        "sympy.pprint(A2 * C2.T)\n",
        "sympy.pprint(C2.T * A2)\n",
        "print(A2 * C2.T == C2.T * A2)\n",
        "sympy.trace(C2.T * A2), sum(sympy.diag(C2.T * A2))"
      ],
      "metadata": {
        "colab": {
          "base_uri": "https://localhost:8080/",
          "height": 228
        },
        "id": "Re6PeNFYpdiO",
        "outputId": "43672182-ed32-49d3-aea9-1b1f029d578c"
      },
      "execution_count": null,
      "outputs": [
        {
          "output_type": "stream",
          "name": "stdout",
          "text": [
            "⎡0   -36⎤\n",
            "⎢       ⎥\n",
            "⎣86  101⎦\n",
            "⎡12    3   72    3 ⎤\n",
            "⎢                  ⎥\n",
            "⎢32   47   -16  47 ⎥\n",
            "⎢                  ⎥\n",
            "⎢-47  -71  34   -71⎥\n",
            "⎢                  ⎥\n",
            "⎣ 2    8   -28   8 ⎦\n",
            "False\n"
          ]
        },
        {
          "output_type": "execute_result",
          "data": {
            "text/plain": [
              "(101, 35)"
            ],
            "text/latex": "$\\displaystyle \\left( 101, \\  35\\right)$"
          },
          "metadata": {},
          "execution_count": 21
        }
      ]
    },
    {
      "cell_type": "code",
      "source": [
        "# solve systems of linear equations\n",
        "# resolver sistemas de ecuaciones lineales\n",
        "NA2 = numpy.array([[8,-5,-2,-2],[-2,4,-4,1],\n",
        "                   [-2,1,4,4],[4,1,3,10]])\n",
        "Nb2 = numpy.array([35,-8,-11,10])\n",
        "print(numpy.linalg.solve(NA2, Nb2))"
      ],
      "metadata": {
        "colab": {
          "base_uri": "https://localhost:8080/"
        },
        "id": "xuWsodxqigxj",
        "outputId": "81903daa-d4b4-4de6-cc4b-801c530bfca1"
      },
      "execution_count": null,
      "outputs": [
        {
          "output_type": "stream",
          "name": "stdout",
          "text": [
            "[ 1. -5. -3.  2.]\n"
          ]
        }
      ]
    },
    {
      "cell_type": "code",
      "source": [
        "from sympy.abc import x,y,z,a,b,c,d\n",
        "system1 = sympy.Matrix([[1,1,-1,0],[8,-1,-5,0],[-5,1,3,0]])\n",
        "SA1 = sympy.Matrix([[1,1,-1],[8,-1,-5],[-5,1,3]])\n",
        "Sb1 = sympy.Matrix([0,0,0])\n",
        "display(sympy.solve_linear_system(system1, x, y, z))\n",
        "display(SA1.gauss_jordan_solve(Sb1))\n",
        "system2 = sympy.Matrix(\n",
        "    [[8,-5,-2,-2,35],[-2,4,-4,1,-8],\n",
        "     [-2,1,4,4,-11],[4,1,3,10,10]])\n",
        "SA2 = sympy.Matrix([[8,-5,-2,-2],[-2,4,-4,1],\n",
        "                    [-2,1,4,4],[4,1,3,10]])\n",
        "Sb2 = sympy.Matrix([35,-8,-11,10])\n",
        "display(sympy.solve_linear_system(system2, a, b, c, d))\n",
        "display(SA2.gauss_jordan_solve(Sb2))"
      ],
      "metadata": {
        "colab": {
          "base_uri": "https://localhost:8080/",
          "height": 222
        },
        "id": "yU3m_vKAijhG",
        "outputId": "5a11a865-ab44-44db-a4b1-cc1ed50ff671"
      },
      "execution_count": null,
      "outputs": [
        {
          "output_type": "display_data",
          "data": {
            "text/plain": [
              "⎧   2⋅z     z⎫\n",
              "⎨x: ───, y: ─⎬\n",
              "⎩    3      3⎭"
            ],
            "text/latex": "$\\displaystyle \\left\\{ x : \\frac{2 z}{3}, \\  y : \\frac{z}{3}\\right\\}$"
          },
          "metadata": {}
        },
        {
          "output_type": "display_data",
          "data": {
            "text/plain": [
              "⎛⎡2⋅τ₀⎤      ⎞\n",
              "⎜⎢────⎥      ⎟\n",
              "⎜⎢ 3  ⎥      ⎟\n",
              "⎜⎢    ⎥      ⎟\n",
              "⎜⎢ τ₀ ⎥, [τ₀]⎟\n",
              "⎜⎢ ── ⎥      ⎟\n",
              "⎜⎢ 3  ⎥      ⎟\n",
              "⎜⎢    ⎥      ⎟\n",
              "⎝⎣ τ₀ ⎦      ⎠"
            ],
            "text/latex": "$\\displaystyle \\left( \\left[\\begin{matrix}\\frac{2 \\tau_{0}}{3}\\\\\\frac{\\tau_{0}}{3}\\\\\\tau_{0}\\end{matrix}\\right], \\  \\left[\\begin{matrix}\\tau_{0}\\end{matrix}\\right]\\right)$"
          },
          "metadata": {}
        },
        {
          "output_type": "display_data",
          "data": {
            "text/plain": [
              "{a: 1, b: -5, c: -3, d: 2}"
            ],
            "text/latex": "$\\displaystyle \\left\\{ a : 1, \\  b : -5, \\  c : -3, \\  d : 2\\right\\}$"
          },
          "metadata": {}
        },
        {
          "output_type": "display_data",
          "data": {
            "text/plain": [
              "⎛⎡1 ⎤    ⎞\n",
              "⎜⎢  ⎥    ⎟\n",
              "⎜⎢-5⎥    ⎟\n",
              "⎜⎢  ⎥, []⎟\n",
              "⎜⎢-3⎥    ⎟\n",
              "⎜⎢  ⎥    ⎟\n",
              "⎝⎣2 ⎦    ⎠"
            ],
            "text/latex": "$\\displaystyle \\left( \\left[\\begin{matrix}1\\\\-5\\\\-3\\\\2\\end{matrix}\\right], \\  \\left[\\begin{matrix}\\end{matrix}\\right]\\right)$"
          },
          "metadata": {}
        }
      ]
    },
    {
      "cell_type": "code",
      "source": [
        "# factorization / factorización\n",
        "from sympy import symbols, Eq, apart\n",
        "x = symbols('x')\n",
        "eq0 = 24 / (x ** 5 - 5 * x ** 3 + 4 * x)\n",
        "display(Eq(eq0, apart(eq0, x)))"
      ],
      "metadata": {
        "colab": {
          "base_uri": "https://localhost:8080/",
          "height": 52
        },
        "id": "QqvO9RECoaV4",
        "outputId": "397f6857-b372-40ae-e5c0-41ba122c9873"
      },
      "execution_count": null,
      "outputs": [
        {
          "output_type": "display_data",
          "data": {
            "text/plain": [
              "       24           1       4       4       1     6\n",
              "─────────────── = ───── - ───── - ───── + ───── + ─\n",
              " 5      3         x + 2   x + 1   x - 1   x - 2   x\n",
              "x  - 5⋅x  + 4⋅x                                    "
            ],
            "text/latex": "$\\displaystyle \\frac{24}{x^{5} - 5 x^{3} + 4 x} = \\frac{1}{x + 2} - \\frac{4}{x + 1} - \\frac{4}{x - 1} + \\frac{1}{x - 2} + \\frac{6}{x}$"
          },
          "metadata": {}
        }
      ]
    },
    {
      "cell_type": "code",
      "source": [
        "# Cardano's formula / Método de Cardano\n",
        "from sympy import symbols, sqrt, solve, factor, I, Eq\n",
        "p, q, x = symbols('p q x')\n",
        "eq0 = x ** 3 + p * x + q\n",
        "display(Eq(eq0.subs({p: -1, q: -2/(3*sqrt(3))}), 0))\n",
        "sol0 = solve(eq0.subs({p: -1, q: -2/(3*sqrt(3))}), x)\n",
        "display([sol0[i] for i in range(3)])\n",
        "display([factor(sol0[i]) for i in range(3)])\n",
        "k = p**3 / 27 + q**2 / 4\n",
        "a = (-q/2 + sqrt(k))**(1/3)\n",
        "b = (-q/2 - sqrt(k))**(1/3)\n",
        "sol1 = -(a + b) / 2 + I * sqrt(3) * (a - b) / 2\n",
        "sol2 = -(a + b) / 2 - I * sqrt(3) * (a - b) / 2\n",
        "sol3 = a + b\n",
        "for sol in [sol1, sol2, sol3]:\n",
        "    display(sol.subs({p: -1, q: -2 / (3 * sqrt(3))}))"
      ],
      "metadata": {
        "colab": {
          "base_uri": "https://localhost:8080/",
          "height": 233
        },
        "id": "23ayhRlbrCpB",
        "outputId": "892ee93d-f893-431c-d7db-259c3c7bed0a"
      },
      "execution_count": null,
      "outputs": [
        {
          "output_type": "display_data",
          "data": {
            "text/plain": [
              " 3       2⋅√3    \n",
              "x  - x - ──── = 0\n",
              "          9      "
            ],
            "text/latex": "$\\displaystyle x^{3} - x - \\frac{2 \\sqrt{3}}{9} = 0$"
          },
          "metadata": {}
        },
        {
          "output_type": "display_data",
          "data": {
            "text/plain": [
              "⎡         ⎛  1   √3⋅ⅈ⎞                                       ⎛  1   √3⋅ⅈ⎞⎤\n",
              "⎢      √3⋅⎜- ─ - ────⎟                                    √3⋅⎜- ─ + ────⎟⎥\n",
              "⎢2⋅√3     ⎝  2    2  ⎠         √3              √3            ⎝  2    2  ⎠⎥\n",
              "⎢────, ─────────────── + ──────────────, ────────────── + ───────────────⎥\n",
              "⎢ 3           3            ⎛  1   √3⋅ⅈ⎞    ⎛  1   √3⋅ⅈ⎞          3       ⎥\n",
              "⎢                        3⋅⎜- ─ - ────⎟  3⋅⎜- ─ + ────⎟                  ⎥\n",
              "⎣                          ⎝  2    2  ⎠    ⎝  2    2  ⎠                  ⎦"
            ],
            "text/latex": "$\\displaystyle \\left[ \\frac{2 \\sqrt{3}}{3}, \\  \\frac{\\sqrt{3} \\left(- \\frac{1}{2} - \\frac{\\sqrt{3} i}{2}\\right)}{3} + \\frac{\\sqrt{3}}{3 \\left(- \\frac{1}{2} - \\frac{\\sqrt{3} i}{2}\\right)}, \\  \\frac{\\sqrt{3}}{3 \\left(- \\frac{1}{2} + \\frac{\\sqrt{3} i}{2}\\right)} + \\frac{\\sqrt{3} \\left(- \\frac{1}{2} + \\frac{\\sqrt{3} i}{2}\\right)}{3}\\right]$"
          },
          "metadata": {}
        },
        {
          "output_type": "display_data",
          "data": {
            "text/plain": [
              "⎡2⋅√3  -√3   -√3 ⎤\n",
              "⎢────, ────, ────⎥\n",
              "⎣ 3     3     3  ⎦"
            ],
            "text/latex": "$\\displaystyle \\left[ \\frac{2 \\sqrt{3}}{3}, \\  - \\frac{\\sqrt{3}}{3}, \\  - \\frac{\\sqrt{3}}{3}\\right]$"
          },
          "metadata": {}
        },
        {
          "output_type": "display_data",
          "data": {
            "text/plain": [
              "-0.577350269189626"
            ],
            "text/latex": "$\\displaystyle -0.577350269189626$"
          },
          "metadata": {}
        },
        {
          "output_type": "display_data",
          "data": {
            "text/plain": [
              "-0.577350269189626"
            ],
            "text/latex": "$\\displaystyle -0.577350269189626$"
          },
          "metadata": {}
        },
        {
          "output_type": "display_data",
          "data": {
            "text/plain": [
              "1.15470053837925"
            ],
            "text/latex": "$\\displaystyle 1.15470053837925$"
          },
          "metadata": {}
        }
      ]
    },
    {
      "cell_type": "code",
      "source": [
        "# quick checking of solutions\n",
        "# comprobación rápida de soluciones\n",
        "from IPython.display import Latex\n",
        "latex_exp=[\n",
        "    '$x^2+xy+y^2=a^2$', '$y^2+yz+z^2=b^2$', '$x^2+xz+z^2=c^2$',\n",
        "    '$xy+xz+yz=?$', '$\\;$',\n",
        "    '$x^2-2*cos(\\\\frac{2\\\\pi}{3})*x*y+y^2=a^2$',\n",
        "    '$y^2-2*cos(\\\\frac{2\\\\pi}{3})*y*z+z^2=b^2$',\n",
        "    '$z^2-2*cos(\\\\frac{2\\\\pi}{3})*z*x+x^2=c^2$',\n",
        "    '$S_{\\\\triangle xya}=\\\\frac{x*y}{2}*sin(\\\\frac{2\\\\pi}{3}); \\\\;'+\\\n",
        "    'S_{\\\\triangle yzb}=\\\\frac{y*z}{2}*sin(\\\\frac{2\\\\pi}{3}); \\\\;'+\\\n",
        "    'S_{\\\\triangle zxc}=\\\\frac{z*x}{2}*sin(\\\\frac{2\\\\pi}{3})$',\n",
        "    '$S_{\\\\triangle abc}=S_{\\\\triangle xya}+S_{\\\\triangle yzb}+S_{\\\\triangle zxc}$',\n",
        "    '$S_{\\\\triangle abc}=\\\\frac{\\\\sqrt{3}}{4}*(x*y+y*z+z*x)$',\n",
        "    '$S_{\\\\triangle abc}=\\\\sqrt{p*(p-a)*(p-b)*(p-c)},\\\\; p=\\\\frac{a+b+c}{2}$',\n",
        "    '$x*y+y*z+z*x=4*\\\\sqrt{\\\\frac{p*(p-a)*(p-b)*(p-c)}{3}},\\\\; p=\\\\frac{a+b+c}{2}$']\n",
        "for el in latex_exp:\n",
        "    display(Latex(el))"
      ],
      "metadata": {
        "colab": {
          "base_uri": "https://localhost:8080/",
          "height": 306
        },
        "id": "Z6gEmeO-QGF8",
        "outputId": "6ece5f08-70f5-4ba9-f642-62e91ef18dfe"
      },
      "execution_count": null,
      "outputs": [
        {
          "output_type": "display_data",
          "data": {
            "text/plain": [
              "<IPython.core.display.Latex object>"
            ],
            "text/latex": "$x^2+xy+y^2=a^2$"
          },
          "metadata": {}
        },
        {
          "output_type": "display_data",
          "data": {
            "text/plain": [
              "<IPython.core.display.Latex object>"
            ],
            "text/latex": "$y^2+yz+z^2=b^2$"
          },
          "metadata": {}
        },
        {
          "output_type": "display_data",
          "data": {
            "text/plain": [
              "<IPython.core.display.Latex object>"
            ],
            "text/latex": "$x^2+xz+z^2=c^2$"
          },
          "metadata": {}
        },
        {
          "output_type": "display_data",
          "data": {
            "text/plain": [
              "<IPython.core.display.Latex object>"
            ],
            "text/latex": "$xy+xz+yz=?$"
          },
          "metadata": {}
        },
        {
          "output_type": "display_data",
          "data": {
            "text/plain": [
              "<IPython.core.display.Latex object>"
            ],
            "text/latex": "$\\;$"
          },
          "metadata": {}
        },
        {
          "output_type": "display_data",
          "data": {
            "text/plain": [
              "<IPython.core.display.Latex object>"
            ],
            "text/latex": "$x^2-2*cos(\\frac{2\\pi}{3})*x*y+y^2=a^2$"
          },
          "metadata": {}
        },
        {
          "output_type": "display_data",
          "data": {
            "text/plain": [
              "<IPython.core.display.Latex object>"
            ],
            "text/latex": "$y^2-2*cos(\\frac{2\\pi}{3})*y*z+z^2=b^2$"
          },
          "metadata": {}
        },
        {
          "output_type": "display_data",
          "data": {
            "text/plain": [
              "<IPython.core.display.Latex object>"
            ],
            "text/latex": "$z^2-2*cos(\\frac{2\\pi}{3})*z*x+x^2=c^2$"
          },
          "metadata": {}
        },
        {
          "output_type": "display_data",
          "data": {
            "text/plain": [
              "<IPython.core.display.Latex object>"
            ],
            "text/latex": "$S_{\\triangle xya}=\\frac{x*y}{2}*sin(\\frac{2\\pi}{3}); \\;S_{\\triangle yzb}=\\frac{y*z}{2}*sin(\\frac{2\\pi}{3}); \\;S_{\\triangle zxc}=\\frac{z*x}{2}*sin(\\frac{2\\pi}{3})$"
          },
          "metadata": {}
        },
        {
          "output_type": "display_data",
          "data": {
            "text/plain": [
              "<IPython.core.display.Latex object>"
            ],
            "text/latex": "$S_{\\triangle abc}=S_{\\triangle xya}+S_{\\triangle yzb}+S_{\\triangle zxc}$"
          },
          "metadata": {}
        },
        {
          "output_type": "display_data",
          "data": {
            "text/plain": [
              "<IPython.core.display.Latex object>"
            ],
            "text/latex": "$S_{\\triangle abc}=\\frac{\\sqrt{3}}{4}*(x*y+y*z+z*x)$"
          },
          "metadata": {}
        },
        {
          "output_type": "display_data",
          "data": {
            "text/plain": [
              "<IPython.core.display.Latex object>"
            ],
            "text/latex": "$S_{\\triangle abc}=\\sqrt{p*(p-a)*(p-b)*(p-c)},\\; p=\\frac{a+b+c}{2}$"
          },
          "metadata": {}
        },
        {
          "output_type": "display_data",
          "data": {
            "text/plain": [
              "<IPython.core.display.Latex object>"
            ],
            "text/latex": "$x*y+y*z+z*x=4*\\sqrt{\\frac{p*(p-a)*(p-b)*(p-c)}{3}},\\; p=\\frac{a+b+c}{2}$"
          },
          "metadata": {}
        }
      ]
    },
    {
      "cell_type": "code",
      "source": [
        "from sympy import symbols, sqrt\n",
        "a, b, c, p, x, y, z = symbols('a b c p x y z')\n",
        "exp1=4*sqrt(p*(p-a)*(p-b)*(p-c)/3)\n",
        "display(exp1)\n",
        "exp2=exp1.subs({p:((a+b+c)/2)})**2\n",
        "display(exp2)\n",
        "exp3=exp2.subs({\n",
        "    a:sqrt(x**2+x*y+y**2),\n",
        "    b:sqrt(y**2+y*z+z**2),\n",
        "    c:sqrt(z**2+z*x+x**2)})\n",
        "display(exp3.expand().simplify())\n",
        "eq4=x*y+y*z+x*z\n",
        "display((eq4**2).expand())"
      ],
      "metadata": {
        "colab": {
          "base_uri": "https://localhost:8080/",
          "height": 138
        },
        "id": "IlFxQloQTBF7",
        "outputId": "357d5f34-607e-4bf8-882e-57a30e7cd202"
      },
      "execution_count": null,
      "outputs": [
        {
          "output_type": "display_data",
          "data": {
            "text/plain": [
              "       ______________________________\n",
              "4⋅√3⋅╲╱ p⋅(-a + p)⋅(-b + p)⋅(-c + p) \n",
              "─────────────────────────────────────\n",
              "                  3                  "
            ],
            "text/latex": "$\\displaystyle \\frac{4 \\sqrt{3} \\sqrt{p \\left(- a + p\\right) \\left(- b + p\\right) \\left(- c + p\\right)}}{3}$"
          },
          "metadata": {}
        },
        {
          "output_type": "display_data",
          "data": {
            "text/plain": [
              "   ⎛  a   b   c⎞ ⎛a   b   c⎞ ⎛a   b   c⎞ ⎛a   b   c⎞\n",
              "16⋅⎜- ─ + ─ + ─⎟⋅⎜─ - ─ + ─⎟⋅⎜─ + ─ - ─⎟⋅⎜─ + ─ + ─⎟\n",
              "   ⎝  2   2   2⎠ ⎝2   2   2⎠ ⎝2   2   2⎠ ⎝2   2   2⎠\n",
              "────────────────────────────────────────────────────\n",
              "                         3                          "
            ],
            "text/latex": "$\\displaystyle \\frac{16 \\left(- \\frac{a}{2} + \\frac{b}{2} + \\frac{c}{2}\\right) \\left(\\frac{a}{2} - \\frac{b}{2} + \\frac{c}{2}\\right) \\left(\\frac{a}{2} + \\frac{b}{2} - \\frac{c}{2}\\right) \\left(\\frac{a}{2} + \\frac{b}{2} + \\frac{c}{2}\\right)}{3}$"
          },
          "metadata": {}
        },
        {
          "output_type": "display_data",
          "data": {
            "text/plain": [
              " 2  2      2        2  2        2            2    2  2\n",
              "x ⋅y  + 2⋅x ⋅y⋅z + x ⋅z  + 2⋅x⋅y ⋅z + 2⋅x⋅y⋅z  + y ⋅z "
            ],
            "text/latex": "$\\displaystyle x^{2} y^{2} + 2 x^{2} y z + x^{2} z^{2} + 2 x y^{2} z + 2 x y z^{2} + y^{2} z^{2}$"
          },
          "metadata": {}
        },
        {
          "output_type": "display_data",
          "data": {
            "text/plain": [
              " 2  2      2        2  2        2            2    2  2\n",
              "x ⋅y  + 2⋅x ⋅y⋅z + x ⋅z  + 2⋅x⋅y ⋅z + 2⋅x⋅y⋅z  + y ⋅z "
            ],
            "text/latex": "$\\displaystyle x^{2} y^{2} + 2 x^{2} y z + x^{2} z^{2} + 2 x y^{2} z + 2 x y z^{2} + y^{2} z^{2}$"
          },
          "metadata": {}
        }
      ]
    },
    {
      "cell_type": "code",
      "source": [
        "# solve differential equations / resolver ecuaciones diferenciales\n",
        "from sympy import symbols, Function, dsolve, Eq\n",
        "t, a = symbols('t alpha')\n",
        "y = Function('y')(t)\n",
        "expr = Eq(y.diff(t), -a*y)\n",
        "display(expr); print(); display(dsolve(expr))"
      ],
      "metadata": {
        "colab": {
          "base_uri": "https://localhost:8080/",
          "height": 90
        },
        "id": "8QsLvt2UcqEO",
        "outputId": "6fe10d0a-8d5a-492f-8f28-990222b7ce0d"
      },
      "execution_count": null,
      "outputs": [
        {
          "output_type": "display_data",
          "data": {
            "text/plain": [
              "d                 \n",
              "──(y(t)) = -α⋅y(t)\n",
              "dt                "
            ],
            "text/latex": "$\\displaystyle \\frac{d}{d t} y{\\left(t \\right)} = - \\alpha y{\\left(t \\right)}$"
          },
          "metadata": {}
        },
        {
          "output_type": "stream",
          "name": "stdout",
          "text": [
            "\n"
          ]
        },
        {
          "output_type": "display_data",
          "data": {
            "text/plain": [
              "           -α⋅t\n",
              "y(t) = C₁⋅ℯ    "
            ],
            "text/latex": "$\\displaystyle y{\\left(t \\right)} = C_{1} e^{- \\alpha t}$"
          },
          "metadata": {}
        }
      ]
    },
    {
      "cell_type": "code",
      "source": [
        "# solve inequality / solucionar la desigualdad\n",
        "from sympy import Symbol, sqrt, plot, latex, solve\n",
        "x = Symbol('x')\n",
        "p1 = (x ** 3 - 8 + 6 * x * (2 - x)) / abs(5 - 2 * x)\n",
        "p2 = sqrt(2 * x - 5)\n",
        "g = plot(p1, p2, (x,0,5), legend=True, xlabel='x', ylabel='f(x)', show=False)\n",
        "g[0].line_color='b'; g[1].line_color='g'; g.show()\n",
        "display(p1 <= p2); print(' <=> ')\n",
        "display(solve(p1 <= p2))"
      ],
      "metadata": {
        "colab": {
          "base_uri": "https://localhost:8080/",
          "height": 567
        },
        "id": "WUm6dlfTxsrc",
        "outputId": "b1458a4c-a222-464f-b097-60661a524ca1"
      },
      "execution_count": null,
      "outputs": [
        {
          "output_type": "display_data",
          "data": {
            "text/plain": [
              "<Figure size 640x480 with 1 Axes>"
            ],
            "image/png": "[encoded data removed]"
          },
          "metadata": {}
        },
        {
          "output_type": "display_data",
          "data": {
            "text/plain": [
              " 3                                \n",
              "x  + 6⋅x⋅(2 - x) - 8     _________\n",
              "──────────────────── ≤ ╲╱ 2⋅x - 5 \n",
              "     │2⋅x - 5│                    "
            ],
            "text/latex": "$\\displaystyle \\frac{x^{3} + 6 x \\left(2 - x\\right) - 8}{\\left|{2 x - 5}\\right|} \\leq \\sqrt{2 x - 5}$"
          },
          "metadata": {}
        },
        {
          "output_type": "stream",
          "name": "stdout",
          "text": [
            " <=> \n"
          ]
        },
        {
          "output_type": "display_data",
          "data": {
            "text/plain": [
              "x = 3"
            ],
            "text/latex": "$\\displaystyle x = 3$"
          },
          "metadata": {}
        }
      ]
    }
  ]
}