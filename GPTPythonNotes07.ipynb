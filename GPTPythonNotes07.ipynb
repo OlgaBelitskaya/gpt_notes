{
  "nbformat": 4,
  "nbformat_minor": 0,
  "metadata": {
    "colab": {
      "provenance": []
    },
    "kernelspec": {
      "name": "python3",
      "display_name": "Python 3"
    },
    "language_info": {
      "name": "python"
    }
  },
  "cells": [
    {
      "cell_type": "markdown",
      "source": [
        "# 7. Control flow statements & patterns\n",
        "# 7. Declaraciones de flujo de control & patrones\n",
        "\n",
        "Basic control constructs of the language:\n",
        "- conditions: `if ... elif ... else ...`\n",
        "- loops: `for ... in ... else ...`, `while ... else ...`\n",
        "- exceptions: `try ... except ... else ... finally`\n",
        "\n",
        "Construcciones de control básicas del lenguaje:\n",
        "- condiciones: `if ... elif ... else ...`\n",
        "- bucles (ciclos): `for ... in ... else ...`, `while ... else ...`\n",
        "- excepciones: `try ... except ... else ... finally`"
      ],
      "metadata": {
        "id": "hC6nmluOPYga"
      }
    },
    {
      "cell_type": "code",
      "source": [
        "v = 49\n",
        "print('is the simple condition is met?', v >= 25)\n",
        "print('is the compound condition met?', (v >= 25) and (v < 40))"
      ],
      "metadata": {
        "colab": {
          "base_uri": "https://localhost:8080/"
        },
        "id": "zf6t_EvxaWD4",
        "outputId": "b8b5acc6-2be1-4c86-acd0-9a2aa619592a"
      },
      "execution_count": 1,
      "outputs": [
        {
          "output_type": "stream",
          "name": "stdout",
          "text": [
            "is the simple condition is met? True\n",
            "is the compound condition met? False\n"
          ]
        }
      ]
    },
    {
      "cell_type": "code",
      "source": [
        "a, b = 10, 20\n",
        "print( (a, b) [a < b] ) # (a, b)[1]\n",
        "print({0: a, 1: b} [a < b])\n",
        "print({False: a, True: b} [a < b])\n",
        "print((lambda: a, lambda: b)[a < b]())"
      ],
      "metadata": {
        "colab": {
          "base_uri": "https://localhost:8080/"
        },
        "id": "B9O1rBnY41Nm",
        "outputId": "111af1a0-b0b6-4fcd-e9d6-855481d1d445"
      },
      "execution_count": 2,
      "outputs": [
        {
          "output_type": "stream",
          "name": "stdout",
          "text": [
            "20\n",
            "20\n",
            "20\n",
            "20\n"
          ]
        }
      ]
    },
    {
      "cell_type": "code",
      "source": [
        "# I. if: simple conditions / condiciones simples\n",
        "string = 'hello hola hey oye'\n",
        "if ' ' in string:\n",
        "    print('There are white spaces in the printed line.')\n",
        "    print(string)"
      ],
      "metadata": {
        "colab": {
          "base_uri": "https://localhost:8080/"
        },
        "id": "3cxv1xYiCYra",
        "outputId": "c21e5ad9-ec95-4a9c-e2b4-538f16b53a90"
      },
      "execution_count": 3,
      "outputs": [
        {
          "output_type": "stream",
          "name": "stdout",
          "text": [
            "There are white spaces in the printed line.\n",
            "hello hola hey oye\n"
          ]
        }
      ]
    },
    {
      "cell_type": "code",
      "source": [
        "if (0 == 1) or (0 != 1): # tautology\n",
        "    print(\"At least one of the conditions is True.\")"
      ],
      "metadata": {
        "colab": {
          "base_uri": "https://localhost:8080/"
        },
        "id": "KATMxcYaiSQv",
        "outputId": "5eddfe81-43f0-4493-ac77-562280bc1b26"
      },
      "execution_count": 4,
      "outputs": [
        {
          "output_type": "stream",
          "name": "stdout",
          "text": [
            "At least one of the conditions is True.\n"
          ]
        }
      ]
    },
    {
      "cell_type": "code",
      "source": [
        "# II. if-else\n",
        "a, b = map(float, '13.56 23.567'.split())\n",
        "# a, b = map(float, '13.56 23.567'[::-1].split())\n",
        "if a <= b:\n",
        "    print(f'{a:.2f} <= {b:.2f}')\n",
        "else:\n",
        "    print(f'{a:.2f} > {b:.2f}')"
      ],
      "metadata": {
        "colab": {
          "base_uri": "https://localhost:8080/"
        },
        "id": "4J3rdAJ8DCz5",
        "outputId": "ce754038-91a3-4d20-ac2a-cd67ecbf291c"
      },
      "execution_count": 5,
      "outputs": [
        {
          "output_type": "stream",
          "name": "stdout",
          "text": [
            "13.56 <= 23.57\n"
          ]
        }
      ]
    },
    {
      "cell_type": "code",
      "source": [
        "if ... : pass\n",
        "else: print('if Ellipsis')\n",
        "print(f'{bool(...) = }, {type(...) = }')\n",
        "print(f'{bool(None) = }, {type(None) = }')\n",
        "if None: pass # 0, {}, (), []\n",
        "else: print('`if` None => `else` will be done')"
      ],
      "metadata": {
        "colab": {
          "base_uri": "https://localhost:8080/"
        },
        "id": "UCkmjHVuGn43",
        "outputId": "5380b1ff-cb2c-4fbd-fb80-d7d4a6ccb0c4"
      },
      "execution_count": 6,
      "outputs": [
        {
          "output_type": "stream",
          "name": "stdout",
          "text": [
            "bool(...) = True, type(...) = <class 'ellipsis'>\n",
            "bool(None) = False, type(None) = <class 'NoneType'>\n",
            "`if` None => `else` will be done\n"
          ]
        }
      ]
    },
    {
      "cell_type": "code",
      "source": [
        "sample_text = \"this text contains scientific notations:  -1.00e+21, 1.00e+21\"\n",
        "import re\n",
        "def scientific_notation(text):\n",
        "    re_pattern= re.compile('[-+]?[\\d]+\\.?[\\d]*[Ee](?:[-+]?[\\d]+)?')\n",
        "    findings = re.findall(re_pattern, text)\n",
        "    if not findings:\n",
        "        print(\"scientific notations were not found\")\n",
        "        return\n",
        "    else:\n",
        "        print(\"scientific notations were found\")\n",
        "        return findings\n",
        "scientific_notation(sample_text)"
      ],
      "metadata": {
        "colab": {
          "base_uri": "https://localhost:8080/"
        },
        "id": "aGqAHPtm2Ub1",
        "outputId": "5ea6f548-bfc2-4f64-948c-9d7272fb57cd"
      },
      "execution_count": 7,
      "outputs": [
        {
          "output_type": "stream",
          "name": "stdout",
          "text": [
            "scientific notations were found\n"
          ]
        },
        {
          "output_type": "execute_result",
          "data": {
            "text/plain": [
              "['-1.00e+21', '1.00e+21']"
            ]
          },
          "metadata": {},
          "execution_count": 7
        }
      ]
    },
    {
      "cell_type": "code",
      "source": [
        "# III. if-elif-else\n",
        "import random\n",
        "x = random.randint(-100, 100)\n",
        "if x > 0:\n",
        "     print(f'{x} is a positive number')\n",
        "elif x < 0:\n",
        "     print(f'{x} is a negative number')\n",
        "else:\n",
        "     print(f'{x} is zero')"
      ],
      "metadata": {
        "colab": {
          "base_uri": "https://localhost:8080/"
        },
        "id": "yGeUdmH6Ky3P",
        "outputId": "fb2c737e-f221-44d4-966a-2d1b33ac722d"
      },
      "execution_count": 8,
      "outputs": [
        {
          "output_type": "stream",
          "name": "stdout",
          "text": [
            "35 is a positive number\n"
          ]
        }
      ]
    },
    {
      "cell_type": "code",
      "source": [
        "# IV. if-if-elif-elif-...-else-else\n",
        "x = 80\n",
        "if 0 <= x <= 200:\n",
        "    print(\"0 <= х <= 200\")\n",
        "    if x > 150:\n",
        "        print(\"150 < x <= 200\")\n",
        "    elif x == 100:\n",
        "        print(\"x = 100\")\n",
        "    elif x < 50:\n",
        "        print(\"0 <= x < 50\")\n",
        "    else:\n",
        "        print(\"50 <= x <= 150 & x <> 100\")\n",
        "else:\n",
        "    print(\"x < 0 | x > 200 \")"
      ],
      "metadata": {
        "colab": {
          "base_uri": "https://localhost:8080/"
        },
        "id": "OJhHhw7nX5wf",
        "outputId": "58252e1b-6df6-44a6-9a4d-6d75ac360142"
      },
      "execution_count": 9,
      "outputs": [
        {
          "output_type": "stream",
          "name": "stdout",
          "text": [
            "0 <= х <= 200\n",
            "50 <= x <= 150 & x <> 100\n"
          ]
        }
      ]
    },
    {
      "cell_type": "code",
      "source": [
        "# V. `if` in one line / `if` en una línea\n",
        "x = -10\n",
        "print(\"х < 0\") if x < 0 else print(\"x >= 0\")\n",
        "cond = True\n",
        "print('hello hola hey oye') if cond else None\n",
        "a, b = 10, 20\n",
        "print(\"a>b\") if a > b else print(\"a=b\") if a == b else print(\"a<b\")\n",
        "if ' ' in 'hello hola': print(1); print(2); print(3)"
      ],
      "metadata": {
        "colab": {
          "base_uri": "https://localhost:8080/"
        },
        "id": "SU99Al2kcj8j",
        "outputId": "22be3a8c-32f8-45e4-a3cf-e9c9cd3fd4cd"
      },
      "execution_count": 10,
      "outputs": [
        {
          "output_type": "stream",
          "name": "stdout",
          "text": [
            "х < 0\n",
            "hello hola hey oye\n",
            "a<b\n",
            "1\n",
            "2\n",
            "3\n"
          ]
        }
      ]
    },
    {
      "cell_type": "code",
      "source": [
        "x, y = 10, 100\n",
        "z1 = 1 + (x if x > y else y) + 2\n",
        "z2 = 1 + (x or y) + 2\n",
        "z3 = 1 + (x and y) + 2\n",
        "z1, z2, z3"
      ],
      "metadata": {
        "colab": {
          "base_uri": "https://localhost:8080/"
        },
        "id": "jdyOtWHp_Umd",
        "outputId": "7cc8136b-cadb-4789-b063-295fe04f47c2"
      },
      "execution_count": 11,
      "outputs": [
        {
          "output_type": "execute_result",
          "data": {
            "text/plain": [
              "(103, 13, 103)"
            ]
          },
          "metadata": {},
          "execution_count": 11
        }
      ]
    },
    {
      "cell_type": "code",
      "source": [
        "import random\n",
        "x = random.randint(-100, 100)\n",
        "pos = lambda x: print(f'{x} is a positive number')\n",
        "neg = lambda x: print(f'{x} is a negative number')\n",
        "zero = lambda x: print(f'{x} is zero')\n",
        "pos(x) if x > 0 else neg(x) if x < 0 else zero(x)"
      ],
      "metadata": {
        "colab": {
          "base_uri": "https://localhost:8080/"
        },
        "id": "dJZPbDn3fagN",
        "outputId": "cce3ab67-5758-4fd2-b6d6-4471533f4d69"
      },
      "execution_count": 12,
      "outputs": [
        {
          "output_type": "stream",
          "name": "stdout",
          "text": [
            "-35 is a negative number\n"
          ]
        }
      ]
    },
    {
      "cell_type": "code",
      "source": [
        "def loop_digit_sum(n, s=0):\n",
        "    while n > 0: s += n % 10; n = n // 10\n",
        "    return s\n",
        "print(loop_digit_sum(123456789))\n",
        "def loop_exponent(x, n, p=1):\n",
        "    while n > 0: p *= x; n -= 1\n",
        "    return p\n",
        "print(loop_exponent(3, 101))"
      ],
      "metadata": {
        "colab": {
          "base_uri": "https://localhost:8080/"
        },
        "id": "k7YOt45dOccd",
        "outputId": "078cd29e-0306-4729-f424-80f2fae04c03"
      },
      "execution_count": 13,
      "outputs": [
        {
          "output_type": "stream",
          "name": "stdout",
          "text": [
            "45\n",
            "1546132562196033993109383389296863818106322566003\n"
          ]
        }
      ]
    },
    {
      "cell_type": "code",
      "source": [
        "# the `for` loop with no content\n",
        "# el bucle `for` sin contenido\n",
        "for x in [0, 1, 2]: pass"
      ],
      "metadata": {
        "id": "USc28YAOQRYY"
      },
      "execution_count": 14,
      "outputs": []
    },
    {
      "cell_type": "code",
      "execution_count": 15,
      "metadata": {
        "id": "IbVKtdr3PXCh",
        "colab": {
          "base_uri": "https://localhost:8080/"
        },
        "outputId": "8ddcc1bb-75b9-4393-b58f-156abbefb3ae"
      },
      "outputs": [
        {
          "output_type": "stream",
          "name": "stdout",
          "text": [
            "1 256 823543 10000000000 302875106592253 \n",
            "[1, 256, 823543, 10000000000, 302875106592253]\n",
            "{256, 1, 10000000000, 823543, 302875106592253}\n",
            "{1: 1, 4: 256, 7: 823543, 10: 10000000000, 13: 302875106592253}\n",
            "<generator object <genexpr> at 0x79639ba8f0d0>\n",
            "1 256 823543 10000000000 302875106592253\n"
          ]
        }
      ],
      "source": [
        "# I. for-in: simple loops / bucles simples\n",
        "for i in range(1, 16, 3):\n",
        "    print(i ** i, end=' ')\n",
        "print()\n",
        "print([i ** i for i in range(1, 16, 3)])\n",
        "print({i ** i for i in range(1, 16, 3)})\n",
        "print({i:i ** i for i in range(1, 16, 3)})\n",
        "print((i ** i for i in range(1, 16, 3)))\n",
        "print(*(i ** i for i in range(1, 16, 3)))"
      ]
    },
    {
      "cell_type": "code",
      "source": [
        "# II. for-in: nested loops / bucles anidados\n",
        "d = {}\n",
        "for i in ['a', 'b', 'c']:\n",
        "    d[i] = []\n",
        "    for j in range(1, 4):\n",
        "        d[i].append(i * j)\n",
        "print(d)\n",
        "print({i:[i * j for j in range(1, 4)] for i in ['a','b','c']})"
      ],
      "metadata": {
        "colab": {
          "base_uri": "https://localhost:8080/"
        },
        "id": "klXt2yEtf0FG",
        "outputId": "9a2d7161-92d0-44a1-d53a-0aa1ae614539"
      },
      "execution_count": 16,
      "outputs": [
        {
          "output_type": "stream",
          "name": "stdout",
          "text": [
            "{'a': ['a', 'aa', 'aaa'], 'b': ['b', 'bb', 'bbb'], 'c': ['c', 'cc', 'ccc']}\n",
            "{'a': ['a', 'aa', 'aaa'], 'b': ['b', 'bb', 'bbb'], 'c': ['c', 'cc', 'ccc']}\n"
          ]
        }
      ]
    },
    {
      "cell_type": "code",
      "source": [
        "# III. for-in=>if-else: loops & conditions / bucles & condiciones\n",
        "for i in range(7):\n",
        "    if i %2 != 0:\n",
        "        print(i ** i, end=' ')\n",
        "    else:\n",
        "        print(i, end=' ')\n",
        "print()\n",
        "print([i ** i if i %2 != 0 else i for i in range(7)])"
      ],
      "metadata": {
        "colab": {
          "base_uri": "https://localhost:8080/"
        },
        "id": "l0dcL7BriR1i",
        "outputId": "249f7324-4910-4b94-e308-d7864f17003d"
      },
      "execution_count": 17,
      "outputs": [
        {
          "output_type": "stream",
          "name": "stdout",
          "text": [
            "0 1 2 27 4 3125 6 \n",
            "[0, 1, 2, 27, 4, 3125, 6]\n"
          ]
        }
      ]
    },
    {
      "cell_type": "code",
      "source": [
        "for i in range(15):\n",
        "    if i % 7 != 0:\n",
        "        pass\n",
        "    else:\n",
        "        print(f'{i} is a multiple of 7')"
      ],
      "metadata": {
        "colab": {
          "base_uri": "https://localhost:8080/"
        },
        "id": "FpeGHaQ2E_Tc",
        "outputId": "0ca942a7-f61a-4836-fc12-5139e9b9ce22"
      },
      "execution_count": 18,
      "outputs": [
        {
          "output_type": "stream",
          "name": "stdout",
          "text": [
            "0 is a multiple of 7\n",
            "7 is a multiple of 7\n",
            "14 is a multiple of 7\n"
          ]
        }
      ]
    },
    {
      "cell_type": "code",
      "source": [
        "count_k, sum_k = 0, 0\n",
        "list_k = [3, 8, None, 4, 9, None, 7]\n",
        "for k in list_k:\n",
        "    if k is None:\n",
        "        continue\n",
        "    sum_k += k; count_k += 1\n",
        "mean_k = sum_k / count_k\n",
        "print(f'The mean value in the list {list_k} is equal {mean_k}.')"
      ],
      "metadata": {
        "colab": {
          "base_uri": "https://localhost:8080/"
        },
        "id": "hjGv4q1kMhEk",
        "outputId": "444d6444-6ab9-4c00-85d0-df938bb3a372"
      },
      "execution_count": 19,
      "outputs": [
        {
          "output_type": "stream",
          "name": "stdout",
          "text": [
            "The mean value in the list [3, 8, None, 4, 9, None, 7] is equal 6.2.\n"
          ]
        }
      ]
    },
    {
      "cell_type": "code",
      "source": [
        "# IV. for-in-else\n",
        "# the `for` loop is completely done => `else` will be done too\n",
        "# el bucle `for` está completamente hecho => `else` también se hará\n",
        "c, n = 1, 7\n",
        "for i in range(1, n):\n",
        "    c *= i\n",
        "else:\n",
        "    c *= n\n",
        "print(f'{c = }')\n",
        "f = lambda n: 1 if n <= 1 else n * f(n - 1)\n",
        "print(f'{f(n) = }')\n",
        "f = lambda x: x and x * f(x - 1) or 1\n",
        "print(f'{f(n) = }')\n",
        "f = lambda x, c: x * c and x * f(x - 1, c) or c\n",
        "print(f'{f(n, c=1) = }')"
      ],
      "metadata": {
        "colab": {
          "base_uri": "https://localhost:8080/"
        },
        "id": "2xz3tGw6-0km",
        "outputId": "fa6ea8ed-acf2-4471-df95-b58942815ae7"
      },
      "execution_count": 20,
      "outputs": [
        {
          "output_type": "stream",
          "name": "stdout",
          "text": [
            "c = 5040\n",
            "f(n) = 5040\n",
            "f(n) = 5040\n",
            "f(n, c=1) = 5040\n"
          ]
        }
      ]
    },
    {
      "cell_type": "code",
      "source": [
        "# `break` => `else` will not be done too\n",
        "# `break` => `else` tampoco se hará\n",
        "c, n = 1, 7\n",
        "for i in range(1,n):\n",
        "    c *= i\n",
        "    if i == 6:\n",
        "        break\n",
        "else:\n",
        "    c *= n\n",
        "print(f'{c = }')\n",
        "print(f'{f(n, c=1) / n = }')"
      ],
      "metadata": {
        "colab": {
          "base_uri": "https://localhost:8080/"
        },
        "id": "gS-3Zs0nFWtM",
        "outputId": "179539b0-d813-4104-e3c5-e3f6af6e450d"
      },
      "execution_count": 21,
      "outputs": [
        {
          "output_type": "stream",
          "name": "stdout",
          "text": [
            "c = 720\n",
            "f(n, c=1) / n = 720.0\n"
          ]
        }
      ]
    },
    {
      "cell_type": "code",
      "source": [
        "# for-in-(for-in-break)-else\n",
        "def number_filter(n):\n",
        "    prime, not_prime = [], [ ]\n",
        "    for i in range(2, n):\n",
        "        for x in range(2, i):\n",
        "            if i % x == 0:\n",
        "                not_prime.append(i)\n",
        "                break\n",
        "        else:\n",
        "            prime.append(i)\n",
        "    return prime, not_prime\n",
        "prime, not_prime = number_filter(30)\n",
        "print(f'{prime = }', f'{not_prime = }', sep='\\n')"
      ],
      "metadata": {
        "colab": {
          "base_uri": "https://localhost:8080/"
        },
        "id": "wGQqUsLuu-yf",
        "outputId": "08b19e59-2403-4596-b1f0-e278c84cb6cb"
      },
      "execution_count": 22,
      "outputs": [
        {
          "output_type": "stream",
          "name": "stdout",
          "text": [
            "prime = [2, 3, 5, 7, 11, 13, 17, 19, 23, 29]\n",
            "not_prime = [4, 6, 8, 9, 10, 12, 14, 15, 16, 18, 20, 21, 22, 24, 25, 26, 27, 28]\n"
          ]
        }
      ]
    },
    {
      "cell_type": "code",
      "source": [
        "# V. `for-if` in one line / `for-if` en una línea\n",
        "print([i for i in [1, 2, 3, 2] if i==2])\n",
        "print([i if i==2 else 0 for i in [1, 2, 3, 2]])"
      ],
      "metadata": {
        "colab": {
          "base_uri": "https://localhost:8080/"
        },
        "id": "0RBRX1xaCi9L",
        "outputId": "e4c6b34c-61da-4afe-ccd6-cfafd8cdeb98"
      },
      "execution_count": 23,
      "outputs": [
        {
          "output_type": "stream",
          "name": "stdout",
          "text": [
            "[2, 2]\n",
            "[0, 2, 0, 2]\n"
          ]
        }
      ]
    },
    {
      "cell_type": "code",
      "source": [
        "# I. while\n",
        "c = 7\n",
        "while c > 0:\n",
        "    c -= 1\n",
        "print(f'{c = }')"
      ],
      "metadata": {
        "colab": {
          "base_uri": "https://localhost:8080/"
        },
        "id": "EpMwu8AvF8sl",
        "outputId": "0d5e9061-3644-4d6a-ee65-a676c936fd12"
      },
      "execution_count": 24,
      "outputs": [
        {
          "output_type": "stream",
          "name": "stdout",
          "text": [
            "c = 0\n"
          ]
        }
      ]
    },
    {
      "cell_type": "code",
      "source": [
        "# II. while-else\n",
        "x, s, m = 0, 0, 500\n",
        "while (s < m - x):\n",
        "    s += x\n",
        "    x += 1\n",
        "else:\n",
        "    print(f'the sum of integers from 0 to {x - 1} '\n",
        "          f'is equal to {s} and less than {m}')\n",
        "print(sum([i for i in range(32)]))"
      ],
      "metadata": {
        "colab": {
          "base_uri": "https://localhost:8080/"
        },
        "id": "zPmpd5JrG-ji",
        "outputId": "3631c1fe-4f13-4397-f852-7194b497b40c"
      },
      "execution_count": 25,
      "outputs": [
        {
          "output_type": "stream",
          "name": "stdout",
          "text": [
            "the sum of integers from 0 to 31 is equal to 496 and less than 500\n",
            "496\n"
          ]
        }
      ]
    },
    {
      "cell_type": "code",
      "source": [
        "# III. while-if-break-else\n",
        "x, s, m, n = 0, 0, 500, 30\n",
        "while (s < m - x):\n",
        "    s += x\n",
        "    x += 1\n",
        "    if (x > n):\n",
        "        break\n",
        "else:\n",
        "    print('`break` => `else` will not be done')\n",
        "print(f'the sum of integers from 0 to {n} '\n",
        "      f'is equal to {s} and less than {m}')\n",
        "print(sum([i for i in range(31)]))"
      ],
      "metadata": {
        "colab": {
          "base_uri": "https://localhost:8080/"
        },
        "id": "rOPIrHyOZfjw",
        "outputId": "20ccd274-4ae6-4cdd-8b1c-dcb59f7c1e62"
      },
      "execution_count": 26,
      "outputs": [
        {
          "output_type": "stream",
          "name": "stdout",
          "text": [
            "the sum of integers from 0 to 30 is equal to 465 and less than 500\n",
            "465\n"
          ]
        }
      ]
    },
    {
      "cell_type": "code",
      "source": [
        "factorial, n = 1, 7\n",
        "while True:\n",
        "    factorial = factorial * n\n",
        "    n -= 1\n",
        "    if n == 1:\n",
        "        break\n",
        "print(factorial)"
      ],
      "metadata": {
        "colab": {
          "base_uri": "https://localhost:8080/"
        },
        "id": "ZVDboQiDXEy7",
        "outputId": "5c5bd13d-ea76-4696-bf54-3ef476cb4320"
      },
      "execution_count": 27,
      "outputs": [
        {
          "output_type": "stream",
          "name": "stdout",
          "text": [
            "5040\n"
          ]
        }
      ]
    },
    {
      "cell_type": "markdown",
      "source": [
        "[Dynamic Programming](https://www.geeksforgeeks.org/dynamic-programming/)"
      ],
      "metadata": {
        "id": "NsPsybkVaxKl"
      }
    },
    {
      "cell_type": "code",
      "source": [
        "%%timeit\n",
        "# dynamic programming is mainly an optimization over recursion\n",
        "# la programación dinámica es principalmente una optimización sobre la recursividad\n",
        "recursive_digit_sum = lambda n: n if n<10 else (n%10) + recursive_digit_sum(n//10)\n",
        "recursive_digit_sum(123456789123456789123456789)\n",
        "recursive_exponent = lambda x, n: 1 if n==0 else x*recursive_exponent(x, n-1)\n",
        "recursive_exponent(3, 101)"
      ],
      "metadata": {
        "colab": {
          "base_uri": "https://localhost:8080/"
        },
        "id": "uyyg5zrBS-x0",
        "outputId": "7489692f-2629-4d12-a02c-9ba0c2979248"
      },
      "execution_count": 28,
      "outputs": [
        {
          "output_type": "stream",
          "name": "stdout",
          "text": [
            "33.2 µs ± 9.77 µs per loop (mean ± std. dev. of 7 runs, 10000 loops each)\n"
          ]
        }
      ]
    },
    {
      "cell_type": "code",
      "source": [
        "%%timeit\n",
        "def loop_digit_sum(n, s=0):\n",
        "    while n > 0: s += n % 10; n = n // 10\n",
        "    return s\n",
        "loop_digit_sum(123456789123456789123456789)\n",
        "def loop_exponent(x, n, p=1):\n",
        "    while n > 0: p *= x; n -= 1\n",
        "    return p\n",
        "loop_exponent(3, 101)"
      ],
      "metadata": {
        "colab": {
          "base_uri": "https://localhost:8080/"
        },
        "id": "FlHshJlJTAaO",
        "outputId": "86248e83-8ad0-4b28-c9da-c7d784bef742"
      },
      "execution_count": 29,
      "outputs": [
        {
          "output_type": "stream",
          "name": "stdout",
          "text": [
            "18.7 µs ± 4.22 µs per loop (mean ± std. dev. of 7 runs, 100000 loops each)\n"
          ]
        }
      ]
    },
    {
      "cell_type": "code",
      "source": [
        "# lst - list(int), n = len(lst), s - sum\n",
        "# task: how many ways to get s by summation of given integers\n",
        "# tarea: cuántas formas de obtener s mediante la suma de números enteros dados\n",
        "def recursive_count(lst, s, n):\n",
        "    if (s < 0) or (n <= 0):\n",
        "        return 0\n",
        "    elif (s == 0):\n",
        "        return 1\n",
        "    return recursive_count(lst, s, n-1) + recursive_count(lst, s-lst[n-1], n)\n",
        "lst = [2, 6, 3, 5]\n",
        "n = len(lst); s = 10\n",
        "print(recursive_count(lst, s, n))\n",
        "func_string = ('rec_count = lambda lst, s, n: '\n",
        "               '0 if (s < 0) or (n <= 0) else 1 if (s == 0) else '\n",
        "               'rec_count(lst, s, n-1) + rec_count(lst, s-lst[n-1], n)')\n",
        "exec(func_string)\n",
        "print(rec_count(lst, s, n))\n",
        "# 5 ways: [2, 2, 2, 2, 2], [2, 2, 3, 3], [2, 2, 6], [2, 3, 5], [5, 5]"
      ],
      "metadata": {
        "colab": {
          "base_uri": "https://localhost:8080/"
        },
        "id": "Sy12r3Gc6QIR",
        "outputId": "90395c0e-0683-409c-81e7-7411f319cb04"
      },
      "execution_count": 30,
      "outputs": [
        {
          "output_type": "stream",
          "name": "stdout",
          "text": [
            "5\n",
            "5\n"
          ]
        }
      ]
    },
    {
      "cell_type": "code",
      "source": [
        "def update_count(lst, s, n, tab):\n",
        "    if (n <= 0) or (s < 0):\n",
        "        return 0\n",
        "    if (s == 0):\n",
        "        tab[n][s] = 1\n",
        "        return tab[n][s]\n",
        "    if (tab[n][s] != -1):\n",
        "        return tab[n][s]\n",
        "    tab[n][s] = update_count(lst, s-lst[n-1], n, tab)\n",
        "    tab[n][s] += update_count(lst, s, n-1, tab)\n",
        "    return tab[n][s]\n",
        "lst = [2, 6, 3, 5]\n",
        "n = len(lst); s = 10\n",
        "tab = [[-1 for _ in range(s+1)] for _ in range(n+1)]\n",
        "print(update_count(lst, s, n, tab))\n",
        "print('\\n'.join(''.join(f'{str(_):^3}' for _ in t) for t in tab))"
      ],
      "metadata": {
        "colab": {
          "base_uri": "https://localhost:8080/"
        },
        "id": "G1H918bHOdvl",
        "outputId": "896e6ab0-2510-4b1f-c40c-ca0e7af1ea31"
      },
      "execution_count": 31,
      "outputs": [
        {
          "output_type": "stream",
          "name": "stdout",
          "text": [
            "5\n",
            "-1 -1 -1 -1 -1 -1 -1 -1 -1 -1 -1 \n",
            " 1  0  1  0  1  0  1  0  1 -1  1 \n",
            "-1  0  1 -1  1  0 -1  0 -1 -1  2 \n",
            "-1  0  1 -1  1  1 -1  1 -1 -1  3 \n",
            " 1 -1 -1 -1 -1  2 -1 -1 -1 -1  5 \n"
          ]
        }
      ]
    },
    {
      "cell_type": "code",
      "source": [
        "def loop_count(lst, n, s):\n",
        "    tab = [1] + [0 for _ in range(s)]\n",
        "    for i in range(0, n):\n",
        "        for j in range(lst[i], s+1):\n",
        "            tab[j] += tab[j-lst[i]]\n",
        "    print(tab)\n",
        "    return tab[s]\n",
        "lst = [2, 6, 3, 5]\n",
        "n = len(lst); s = 10\n",
        "loop_count(lst, n, s)"
      ],
      "metadata": {
        "colab": {
          "base_uri": "https://localhost:8080/"
        },
        "id": "63vmu0tBmmOL",
        "outputId": "1bfbaef1-9672-4c3d-9428-f20ca857a976"
      },
      "execution_count": 32,
      "outputs": [
        {
          "output_type": "stream",
          "name": "stdout",
          "text": [
            "[1, 0, 1, 1, 1, 2, 3, 2, 4, 4, 5]\n"
          ]
        },
        {
          "output_type": "execute_result",
          "data": {
            "text/plain": [
              "5"
            ]
          },
          "metadata": {},
          "execution_count": 32
        }
      ]
    },
    {
      "cell_type": "code",
      "source": [
        "# IV. while-if-else, while-if-continue\n",
        "i = 0\n",
        "while i < 7:\n",
        "    i += 1\n",
        "    if i % 3 == 0:\n",
        "        print(f'{i * i = };', end=' ')\n",
        "    else:\n",
        "        print(f'{i = };', end=' ')\n",
        "print()\n",
        "i = 0\n",
        "while i < 10:\n",
        "    i += 1\n",
        "    if i % 3 == 0:\n",
        "        continue\n",
        "    print(f'{i = };', end=' ')"
      ],
      "metadata": {
        "colab": {
          "base_uri": "https://localhost:8080/"
        },
        "id": "iikdT7ZVW1Ad",
        "outputId": "86eae34a-4ee6-4c00-e2a2-4a35f614f4e5"
      },
      "execution_count": 33,
      "outputs": [
        {
          "output_type": "stream",
          "name": "stdout",
          "text": [
            "i = 1; i = 2; i * i = 9; i = 4; i = 5; i * i = 36; i = 7; \n",
            "i = 1; i = 2; i = 4; i = 5; i = 7; i = 8; i = 10; "
          ]
        }
      ]
    },
    {
      "cell_type": "code",
      "source": [
        "# V. `while` in one line / `while` en una línea\n",
        "while True: print('hello || hola'); break\n",
        "cond = 1 # True\n",
        "while cond: print('yes || no'); cond = 0"
      ],
      "metadata": {
        "colab": {
          "base_uri": "https://localhost:8080/"
        },
        "id": "F2kKHU9_QMF4",
        "outputId": "09ca3170-45af-483c-f65b-5e7444393d59"
      },
      "execution_count": 34,
      "outputs": [
        {
          "output_type": "stream",
          "name": "stdout",
          "text": [
            "hello || hola\n",
            "yes || no\n"
          ]
        }
      ]
    },
    {
      "cell_type": "code",
      "source": [
        "# `while` in one line with lambda functions\n",
        "# `while` en una línea con funciones lambda\n",
        "end_c = lambda c, n: (c < n)*' ' + (c == n)*'\\n'\n",
        "c, n = 0, 9\n",
        "while c <= n: print(c ** 3, end=end_c(c, n)); c = c + 1"
      ],
      "metadata": {
        "colab": {
          "base_uri": "https://localhost:8080/"
        },
        "id": "-I3egS1hisgH",
        "outputId": "84232797-a20d-46bb-c947-25f7911fdfc5"
      },
      "execution_count": 35,
      "outputs": [
        {
          "output_type": "stream",
          "name": "stdout",
          "text": [
            "0 1 8 27 64 125 216 343 512 729\n"
          ]
        }
      ]
    },
    {
      "cell_type": "code",
      "source": [
        "# custom functions / funciones personalizadas\n",
        "# this one contains an iteration in a loop\n",
        "# este contiene una iteración en un bucle\n",
        "def update_1(): global c; print(c, end=' '); c += 1\n",
        "# this one contains a loop exit\n",
        "# este contiene una salida de bucle\n",
        "def update_2(): global c; print('\\n%d^3 = 125' % c); c = 10\n",
        "c = 0\n",
        "while c < 10: update_1() if (c ** 3 != 125) else update_2()"
      ],
      "metadata": {
        "colab": {
          "base_uri": "https://localhost:8080/"
        },
        "id": "EWepKamolbPA",
        "outputId": "cd10d0a5-d04d-45a1-a831-8de58f7a45c1"
      },
      "execution_count": 36,
      "outputs": [
        {
          "output_type": "stream",
          "name": "stdout",
          "text": [
            "0 1 2 3 4 \n",
            "5^3 = 125\n"
          ]
        }
      ]
    },
    {
      "cell_type": "code",
      "source": [
        "# VI. while-while\n",
        "def prime_divisors(n):\n",
        "    divs, d = {1}, 2\n",
        "    while n > 1:\n",
        "        while n % d == 0:\n",
        "            divs.add(d)\n",
        "            n = n // d\n",
        "        d += 1\n",
        "    return divs\n",
        "prime_divisors(18361258)"
      ],
      "metadata": {
        "colab": {
          "base_uri": "https://localhost:8080/"
        },
        "id": "6cFLcvEHlU9B",
        "outputId": "7ad7d47a-b06e-4a33-b882-d27fe451744e"
      },
      "execution_count": 37,
      "outputs": [
        {
          "output_type": "execute_result",
          "data": {
            "text/plain": [
              "{1, 2, 17, 19, 43, 661}"
            ]
          },
          "metadata": {},
          "execution_count": 37
        }
      ]
    },
    {
      "cell_type": "code",
      "source": [
        "# I. try-except (assert)\n",
        "try:\n",
        "    x, y = 1, 0\n",
        "    print(x / y)\n",
        "except ZeroDivisionError as msg:\n",
        "    print(msg)\n",
        "print(\"The program still runs!\")\n",
        "print(50*'-')\n",
        "try:\n",
        "    x, y = 1, 0\n",
        "    assert y !=0 , \"Division by zero is impossible!\"\n",
        "    print(x / y)\n",
        "except AssertionError as msg:\n",
        "    print(msg)\n",
        "print(\"The program still runs!\")"
      ],
      "metadata": {
        "colab": {
          "base_uri": "https://localhost:8080/"
        },
        "id": "_EmE-fzh1amQ",
        "outputId": "f3383d27-0ac0-4c1e-8991-e5d9a8203f7d"
      },
      "execution_count": 38,
      "outputs": [
        {
          "output_type": "stream",
          "name": "stdout",
          "text": [
            "division by zero\n",
            "The program still runs!\n",
            "--------------------------------------------------\n",
            "Division by zero is impossible!\n",
            "The program still runs!\n"
          ]
        }
      ]
    },
    {
      "cell_type": "code",
      "source": [
        "odd_lambda = lambda x: int(x) if (x%2 != 0) and (int(x) == x) else None\n",
        "def odd_assert(x):\n",
        "    assert((x % 2 != 0) and (int(x) == x))\n",
        "    return x\n",
        "odd_lambda(3), odd_lambda(3.1), odd_assert(3), # odd_assert(3.1) # AssertionError"
      ],
      "metadata": {
        "colab": {
          "base_uri": "https://localhost:8080/"
        },
        "id": "7Xd4DkQeDhOo",
        "outputId": "7a57ec25-c495-4203-f057-445a56a94cd2"
      },
      "execution_count": 39,
      "outputs": [
        {
          "output_type": "execute_result",
          "data": {
            "text/plain": [
              "(3, None, 3)"
            ]
          },
          "metadata": {},
          "execution_count": 39
        }
      ]
    },
    {
      "cell_type": "code",
      "source": [
        "def assert1(cond):\n",
        "    assert cond\n",
        "def assert2(cond):\n",
        "    try:\n",
        "        assert cond\n",
        "    except AssertionError:\n",
        "        print(\"the assertion error!\")\n",
        "eq1 = lambda x, y: assert1(x == y)\n",
        "eq2 = lambda x, y: assert2(x == y)\n",
        "print(f'{eq1([1, 0], [1., 0.]) = }', end='\\n'+50*'-'+'\\n')\n",
        "print(f'{eq2([1, 0], [2., 0.]) = }')"
      ],
      "metadata": {
        "colab": {
          "base_uri": "https://localhost:8080/"
        },
        "id": "-dChcFgPFB6b",
        "outputId": "d91fcc96-9c17-4ec4-bdaf-2e2e843e1f3d"
      },
      "execution_count": 40,
      "outputs": [
        {
          "output_type": "stream",
          "name": "stdout",
          "text": [
            "eq1([1, 0], [1., 0.]) = None\n",
            "--------------------------------------------------\n",
            "the assertion error!\n",
            "eq2([1, 0], [2., 0.]) = None\n"
          ]
        }
      ]
    },
    {
      "cell_type": "code",
      "source": [
        "# II. try-except-except\n",
        "try:\n",
        "    print(name, 1 / 0)\n",
        "except NameError:\n",
        "    print(\"The variable `name` is not defined\")\n",
        "except:\n",
        "    print(\"Something else went wrong\")\n",
        "print(50*'-')\n",
        "try:\n",
        "    print(1 / 0, name)\n",
        "except NameError:\n",
        "    print(\"The variable `name` is not defined\")\n",
        "except:\n",
        "    print(\"Something else went wrong\")"
      ],
      "metadata": {
        "colab": {
          "base_uri": "https://localhost:8080/"
        },
        "id": "iy_T8ul218hW",
        "outputId": "d4c1b6a5-78ee-4c39-ef14-278ea12ddb56"
      },
      "execution_count": 41,
      "outputs": [
        {
          "output_type": "stream",
          "name": "stdout",
          "text": [
            "The variable `name` is not defined\n",
            "--------------------------------------------------\n",
            "Something else went wrong\n"
          ]
        }
      ]
    },
    {
      "cell_type": "code",
      "source": [
        "# III. try-except-else\n",
        "for x, y in [(10, 10), (10, 20)]:\n",
        "    print(f'{x == y = }')\n",
        "    try:\n",
        "        assert(x == y)\n",
        "        print('run commands after try')\n",
        "    except AssertionError as error:\n",
        "        print(\"the assertion error!\")\n",
        "        print('run commands after except')\n",
        "    else:\n",
        "        print('run commands after else')\n",
        "    print()"
      ],
      "metadata": {
        "colab": {
          "base_uri": "https://localhost:8080/"
        },
        "id": "0v9-3uqzMbf1",
        "outputId": "9f6f11f6-0c85-40a0-ab28-2545269fb144"
      },
      "execution_count": 42,
      "outputs": [
        {
          "output_type": "stream",
          "name": "stdout",
          "text": [
            "x == y = True\n",
            "run commands after try\n",
            "run commands after else\n",
            "\n",
            "x == y = False\n",
            "the assertion error!\n",
            "run commands after except\n",
            "\n"
          ]
        }
      ]
    },
    {
      "cell_type": "code",
      "source": [
        "# IV.  try-assert-except-else-try-assert-except-finally\n",
        "x, y = 10, 10.5\n",
        "for x, y in [(10, 10.5), (10.5, 10.5), (10, 10)]:\n",
        "    try:\n",
        "        assert(x == y)\n",
        "    except AssertionError as error1:\n",
        "        print(f'the numbers {x, y} are not equal')\n",
        "    else:\n",
        "        try:\n",
        "            assert(x == int(x))\n",
        "            assert(y == int(y))\n",
        "        except AssertionError as error2:\n",
        "            print(f'the numbers {x, y} are not integer')\n",
        "    finally:\n",
        "        print(f'detected exceptions for {x, y} are printed' +'\\n')"
      ],
      "metadata": {
        "colab": {
          "base_uri": "https://localhost:8080/"
        },
        "id": "xzwVg75fnNuh",
        "outputId": "a7af6254-ba3c-4a7d-fe12-ea6139cecb44"
      },
      "execution_count": 43,
      "outputs": [
        {
          "output_type": "stream",
          "name": "stdout",
          "text": [
            "the numbers (10, 10.5) are not equal\n",
            "detected exceptions for (10, 10.5) are printed\n",
            "\n",
            "the numbers (10.5, 10.5) are not integer\n",
            "detected exceptions for (10.5, 10.5) are printed\n",
            "\n",
            "detected exceptions for (10, 10) are printed\n",
            "\n"
          ]
        }
      ]
    },
    {
      "cell_type": "code",
      "source": [
        "def try_test(lst, id):\n",
        "    try:\n",
        "        print('run the try block =>')\n",
        "        lst[id]\n",
        "    except Exception as e:\n",
        "        print('run the exception block =>', e)\n",
        "    else:\n",
        "        print('run the else block =>')\n",
        "    finally:\n",
        "        print('run the finally block =>')\n",
        "try_test([1], 0); print(50*'='); try_test([1], 1)"
      ],
      "metadata": {
        "colab": {
          "base_uri": "https://localhost:8080/"
        },
        "id": "zA7wY7e5jvSp",
        "outputId": "85a7c585-417a-4c1f-90e5-14c21bee07c2"
      },
      "execution_count": 44,
      "outputs": [
        {
          "output_type": "stream",
          "name": "stdout",
          "text": [
            "run the try block =>\n",
            "run the else block =>\n",
            "run the finally block =>\n",
            "==================================================\n",
            "run the try block =>\n",
            "run the exception block => list index out of range\n",
            "run the finally block =>\n"
          ]
        }
      ]
    },
    {
      "cell_type": "code",
      "source": [
        "# V.  if-(try-raise-except)-else\n",
        "x = 10\n",
        "if x > 5:\n",
        "    try:\n",
        "        raise Exception\n",
        "    except Exception as error:\n",
        "        print(f'x must be <= 5, x was equal {x}')\n",
        "else:\n",
        "    print(x)"
      ],
      "metadata": {
        "colab": {
          "base_uri": "https://localhost:8080/"
        },
        "id": "AxJbFkpFklMT",
        "outputId": "f6cc27ed-e2d7-4586-c64b-53612332ec22"
      },
      "execution_count": 45,
      "outputs": [
        {
          "output_type": "stream",
          "name": "stdout",
          "text": [
            "x must be <= 5, x was equal 10\n"
          ]
        }
      ]
    },
    {
      "cell_type": "code",
      "source": [
        "# build custom exceptions / crear excepciones personalizadas\n",
        "class UserError1(Exception):\n",
        "    def __init__(self, value):\n",
        "        self.value = value\n",
        "    def __repr__(self):\n",
        "        return repr(f'the error value: {self.value}')\n",
        "# any numeric value / cualquier valor numérico\n",
        "try:\n",
        "    raise UserError1(10e12)\n",
        "# the value of this exception is in errors\n",
        "# el valor de esta excepción está en errores\n",
        "except UserError1 as error:\n",
        "    print(f'custom exception #1: {error, error.value}')"
      ],
      "metadata": {
        "colab": {
          "base_uri": "https://localhost:8080/"
        },
        "id": "tOMu3pccmk9j",
        "outputId": "ca0cea99-42d3-49c1-c25e-940cdd8cc124"
      },
      "execution_count": 46,
      "outputs": [
        {
          "output_type": "stream",
          "name": "stdout",
          "text": [
            "custom exception #1: ('the error value: 10000000000000.0', 10000000000000.0)\n"
          ]
        }
      ]
    },
    {
      "cell_type": "code",
      "source": [
        "class UserError2(ValueError):\n",
        "    def __init__(self, args):\n",
        "        self.args = args\n",
        "    def __repr__(self):\n",
        "        return repr('the error value: ' +\\\n",
        "                    ''.join(str(arg) for arg in self.args))\n",
        "try:\n",
        "    raise UserError2(\"hello\")\n",
        "except UserError2 as error:\n",
        "    print(f'custom exception #2: {error, error.args}')"
      ],
      "metadata": {
        "colab": {
          "base_uri": "https://localhost:8080/"
        },
        "id": "0ysXRI7EnjZx",
        "outputId": "dd501405-a154-488f-bb78-1c74d57bccd1"
      },
      "execution_count": 47,
      "outputs": [
        {
          "output_type": "stream",
          "name": "stdout",
          "text": [
            "custom exception #2: ('the error value: hello', ('h', 'e', 'l', 'l', 'o'))\n"
          ]
        }
      ]
    },
    {
      "cell_type": "code",
      "source": [
        "class Error(Exception):\n",
        "    pass\n",
        "class UserError3(Error):\n",
        "    def __init__(self, msg, prev, next):\n",
        "        self.prev = prev\n",
        "        self.next = next\n",
        "        self.msg = msg\n",
        "try:\n",
        "    raise UserError3('the error values:', -10**21, 10e20)\n",
        "except UserError3 as error:\n",
        "    print(f'{error.msg}: {error.prev:.2e}, {error.next:.2e}')"
      ],
      "metadata": {
        "colab": {
          "base_uri": "https://localhost:8080/"
        },
        "id": "OIogSJ8o0A83",
        "outputId": "60645568-dd50-4f11-bb95-0202ef6ad0e2"
      },
      "execution_count": 48,
      "outputs": [
        {
          "output_type": "stream",
          "name": "stdout",
          "text": [
            "the error values:: -1.00e+21, 1.00e+21\n"
          ]
        }
      ]
    },
    {
      "cell_type": "code",
      "source": [
        "class Error(Exception): pass\n",
        "class ZeroValue(Error): pass\n",
        "def check_number(n):\n",
        "    try:\n",
        "        if n != 0: return n\n",
        "        else: raise ZeroValue\n",
        "    except ZeroValue:\n",
        "        print(\"the argument is equal to zero, select another value\")\n",
        "check_number(0), check_number(5)"
      ],
      "metadata": {
        "colab": {
          "base_uri": "https://localhost:8080/"
        },
        "id": "W11M6ZwME5tI",
        "outputId": "6d7658db-ab14-479f-b0e3-10391f3d508d"
      },
      "execution_count": 49,
      "outputs": [
        {
          "output_type": "stream",
          "name": "stdout",
          "text": [
            "the argument is equal to zero, select another value\n"
          ]
        },
        {
          "output_type": "execute_result",
          "data": {
            "text/plain": [
              "(None, 5)"
            ]
          },
          "metadata": {},
          "execution_count": 49
        }
      ]
    },
    {
      "cell_type": "code",
      "source": [
        "from urllib.request import urlopen\n",
        "def check_web(url):\n",
        "    try:\n",
        "        w = urlopen(url)\n",
        "        if w.info().get_content_type() == 'text/html':\n",
        "             return w.read().decode('utf-8')\n",
        "    except IOError:\n",
        "        print('try another Python module to read the link:\\n',url)\n",
        "url='http://olympus.realpython.org/profiles/dionysus'\n",
        "html = check_web(url)\n",
        "print(html)\n",
        "url='https://realpython.com/python-web-scraping-practical-introduction/'\n",
        "html = check_web(url)"
      ],
      "metadata": {
        "colab": {
          "base_uri": "https://localhost:8080/"
        },
        "id": "TDjRHCkCGEIe",
        "outputId": "e064c894-3960-4b29-9ec4-c6c7adf673ac"
      },
      "execution_count": 50,
      "outputs": [
        {
          "output_type": "stream",
          "name": "stdout",
          "text": [
            "<html>\n",
            "<head>\n",
            "<TITLE >Profile: Dionysus</title  / >\n",
            "</head>\n",
            "<body bgcolor=\"yellow\">\n",
            "<center>\n",
            "<br><br>\n",
            "<img src=\"/static/dionysus.jpg\" />\n",
            "<h2>Name: Dionysus</h2>\n",
            "<img src=\"/static/grapes.png\"><br><br>\n",
            "Hometown: Mount Olympus\n",
            "<br><br>\n",
            "Favorite animal: Leopard <br>\n",
            "<br>\n",
            "Favorite Color: Wine\n",
            "</center>\n",
            "</body>\n",
            "</html>\n",
            "\n",
            "try another Python module to read the link:\n",
            " https://realpython.com/python-web-scraping-practical-introduction/\n"
          ]
        }
      ]
    },
    {
      "cell_type": "markdown",
      "source": [
        "`match & case` statements"
      ],
      "metadata": {
        "id": "NuIeaY3WzPss"
      }
    },
    {
      "cell_type": "code",
      "source": [
        "class Point:\n",
        "    def __init__(self, x, y):\n",
        "        self.x = x\n",
        "        self.y = y\n",
        "def where_is(point):\n",
        "    match point:\n",
        "        case Point(x=0, y=0): return \"O: (0, 0)\"\n",
        "        case Point(x=0, y=y): return f\"OY: (0, {y})\"\n",
        "        case Point(x=x, y=0): return f\"OX: ({x}, 0)\"\n",
        "        case Point(x=x, y=y) if x == y: return f\"XY: {x, x}\"\n",
        "        case Point(x=x, y=y): return f\"XOY: {x, y}\"\n",
        "        case _: return \"Not a point\"\n",
        "for p in [Point(0, 1), Point(1, 1), (0, 0)]:\n",
        "    print(where_is(p))"
      ],
      "metadata": {
        "colab": {
          "base_uri": "https://localhost:8080/"
        },
        "id": "sUI7fGsrzCvj",
        "outputId": "ba98a24b-b651-4e1e-f458-c0bb22cba543"
      },
      "execution_count": 51,
      "outputs": [
        {
          "output_type": "stream",
          "name": "stdout",
          "text": [
            "OY: (0, 1)\n",
            "XY: (1, 1)\n",
            "Not a point\n"
          ]
        }
      ]
    },
    {
      "cell_type": "code",
      "source": [
        "class Point3D:\n",
        "    __match_args__ = ('x', 'y', 'z')\n",
        "    def __init__(self, x, y, z):\n",
        "        self.x = x\n",
        "        self.y = y\n",
        "        self.z = z\n",
        "    def __repr__(self):\n",
        "        return f\"Point3D(x={self.x}, y={self.y}, z={self.z})\"\n",
        "def where_are(points):\n",
        "    match points:\n",
        "        case []: return \"No points\"\n",
        "        case [Point3D(x=0, y=0, z=0)]: return \"O: (0, 0, 0)\"\n",
        "        case [Point3D(x=x, y=y, z=z)]:\n",
        "            return f\"XYZ: {x, x, x}\" if x==y==z else f\"3D: {x, y, z}\"\n",
        "        case [Point3D(x=x1, y=y1, z=0), Point3D(x=x2, y=y2, z=0)]:\n",
        "            return f\"XOY: {(x1, y1, 0), (x2, y2, 0)}\"\n",
        "        case [Point3D(x=0, y=y1, z=z1), Point3D(x=0, y=y2, z=z2)]:\n",
        "            return f\"YOZ: {(0, y1, z1), (0, y2, z2)}\"\n",
        "        case [Point3D(x=x1, y=0, z=z1), Point3D(x=x2, y=0, z=z2)]:\n",
        "            return f\"XOZ: {(x1, 0, z1), (x2, 0, z2)}\"\n",
        "        # ...\n",
        "for p in [[], [Point3D(0, 0, 0)], [Point3D(2, 2, 2)], [Point3D(2, 2, 3)],\n",
        "          [Point3D(x, 0, z) for [x, z] in [[1, 2], [3, 4]]]]:\n",
        "    print(where_are(p))\n"
      ],
      "metadata": {
        "colab": {
          "base_uri": "https://localhost:8080/"
        },
        "id": "5XfcCVZZIsss",
        "outputId": "e9d202df-4105-481b-9683-703b7858bb51"
      },
      "execution_count": 52,
      "outputs": [
        {
          "output_type": "stream",
          "name": "stdout",
          "text": [
            "No points\n",
            "O: (0, 0, 0)\n",
            "XYZ: (2, 2, 2)\n",
            "3D: (2, 2, 3)\n",
            "XOZ: ((1, 0, 2), (3, 0, 4))\n"
          ]
        }
      ]
    },
    {
      "cell_type": "code",
      "source": [
        "def type_of(var):\n",
        "    match var:\n",
        "        case None as var: return \"<none>\"\n",
        "        case bool() as var: return \"<boolean>\"\n",
        "        case int() | float() | complex() as var: return \"<number>\"\n",
        "        case dict() as var: return \"<dictionary>\"\n",
        "        case list() | tuple() as var: return \"<list or tuple>\"\n",
        "        case frozenset() | set() as var: return \"<set or frozenset>\"\n",
        "        case str() as var: return \"<string>\"\n",
        "        case _: return \"<another type>\"\n",
        "print(type_of(None), type_of(...), type_of(True), type_of([1, 2]),)"
      ],
      "metadata": {
        "colab": {
          "base_uri": "https://localhost:8080/"
        },
        "id": "Oa2zWNCOq20t",
        "outputId": "f0ca5626-1911-44cf-b685-b178b0dcfc6a"
      },
      "execution_count": 53,
      "outputs": [
        {
          "output_type": "stream",
          "name": "stdout",
          "text": [
            "<none> <another type> <boolean> <list or tuple>\n"
          ]
        }
      ]
    },
    {
      "cell_type": "code",
      "source": [
        "def match_dict(dict_):\n",
        "    match dict_:\n",
        "        case {\"name\": \"Tom\", \"age\": 29, \"level\": 4.8}:\n",
        "            return f\"items are exactly the same with {dict_}\"\n",
        "        case {\"name\": \"Tom\", \"age\": 29} | {\"name\": \"Tom\", \"level\": 4.8}:\n",
        "            return f\"two default items are in {dict_}\"\n",
        "        case {\"name\": \"Tom\"}:\n",
        "            return f\"there is one default item in {dict_}\"\n",
        "        case _:\n",
        "            return \"no matches\"\n",
        "(match_dict({\"name\": \"Tom\", \"age\": 29, \"level\": 4.8}),\n",
        " match_dict({\"name\": \"Tom\", \"age\": 31, \"level\": 4.8}),\n",
        " match_dict({\"name\": \"Tom\", \"age\": 31, \"level\": 4.7}),\n",
        " match_dict({\"name\": \"Jim\", \"age\": 31, \"level\": 4.7}))"
      ],
      "metadata": {
        "colab": {
          "base_uri": "https://localhost:8080/"
        },
        "id": "GA7GEEmisNdr",
        "outputId": "b48adfd6-0000-4c55-8c5a-ae0030c6a5e9"
      },
      "execution_count": 54,
      "outputs": [
        {
          "output_type": "execute_result",
          "data": {
            "text/plain": [
              "(\"items are exactly the same with {'name': 'Tom', 'age': 29, 'level': 4.8}\",\n",
              " \"two default items are in {'name': 'Tom', 'age': 31, 'level': 4.8}\",\n",
              " \"there is one default item in {'name': 'Tom', 'age': 31, 'level': 4.7}\",\n",
              " 'no matches')"
            ]
          },
          "metadata": {},
          "execution_count": 54
        }
      ]
    }
  ]
}