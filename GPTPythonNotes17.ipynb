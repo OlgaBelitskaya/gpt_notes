{
  "nbformat": 4,
  "nbformat_minor": 0,
  "metadata": {
    "colab": {
      "provenance": []
    },
    "kernelspec": {
      "name": "python3",
      "display_name": "Python 3"
    },
    "language_info": {
      "name": "python"
    }
  },
  "cells": [
    {
      "cell_type": "markdown",
      "source": [
        "# 17. Object-oriented programming (classes and objects)\n",
        "# 17. Programación orientada a objetos (clases y objetos)\n",
        "OOP is a paradigm, i.e. a system of tools and programming methods in a certain style.\n",
        "\n",
        "La programación orientada a objetos es un paradigma, es decir, un sistema de herramientas y métodos de programación con un estilo determinado.\n",
        "\n",
        "Principles and advantages of OOP\n",
        "- Abstraction\n",
        "   - modeling of real world objects using software objects,\n",
        "having properties and behavior\n",
        "   - simplified presentation of aspects of the study\n",
        "- Encapsulation\n",
        "   - access control (the ability to see and change internal content)\n",
        "   - three access levels:\n",
        "    - public (no special syntax)\n",
        "    - protected (one underscore at the beginning of the name)\n",
        "    - private (two underscores at the beginning of the name)\n",
        "\n",
        "An attempt to obtain private data or run a private method => program errors.\n",
        "\n",
        "- Inheritance\n",
        "  - the ability of one class to inherit (accept) the properties of another\n",
        "  - reflects relationships in the real world well\n",
        "  - code is reused (DRY)\n",
        "  - transitivity (transitivity)\n",
        "    - class B inherits properties from A => all subclasses of B inherit these properties from A\n",
        "- Polymorphism (many forms)\n",
        "  - using a single element to represent different types in multiple use cases\n",
        "    - method, operator or object\n",
        "\n",
        "Principios y ventajas de la programación orientada a objetos\n",
        "- Abstracción\n",
        "    - modelado de objetos del mundo real utilizando objetos de software,\n",
        "tener propiedades y comportamiento\n",
        "    - presentación simplificada de aspectos del estudio\n",
        "- Encapsulación\n",
        "    - control de acceso (la capacidad de ver y cambiar el contenido interno)\n",
        "    - tres niveles de acceso:\n",
        "     - público (sin sintaxis especial)\n",
        "     - protegido (un guión bajo al principio del nombre)\n",
        "     - privado (dos guiones bajos al principio del nombre)\n",
        "\n",
        "Un intento de obtener datos privados o ejecutar un método privado => errores de programa.\n",
        "\n",
        "- Herencia\n",
        "   - la capacidad de una clase de heredar (aceptar) las propiedades de otra\n",
        "   - refleja bien las relaciones en el mundo real\n",
        "   - el código se reutiliza (SECO)\n",
        "   - transitividad (transitividad)\n",
        "     - la clase B hereda propiedades de A => todas las subclases de B heredan estas propiedades de A\n",
        "- Polimorfismo (muchas formas)\n",
        "   - usar un solo elemento para representar diferentes tipos en múltiples casos de uso\n",
        "     - método, operador u objeto"
      ],
      "metadata": {
        "id": "XMhivn5fhylu"
      }
    },
    {
      "cell_type": "code",
      "execution_count": 1,
      "metadata": {
        "id": "M7V1y5Y5hltN"
      },
      "outputs": [],
      "source": [
        "class Phone:\n",
        "    user_name = \"Olga\" # public variable\n",
        "    __phone_number = \"495 232 22 33\" # private variable\n",
        "    def call(self): # public method\n",
        "        print( \"Ding!\" )\n",
        "    def __turnon(self): # private method\n",
        "        print( \"Hi there!\" )\n",
        "class Phone2:\n",
        "    def __init__(self, number):\n",
        "        # magic method / initiator\n",
        "        print( \"The phone number is created\" )\n",
        "        self.number = number\n",
        "    def __lt__(self, other):\n",
        "        # magic method / advanced comparison\n",
        "        return self.number < other.number"
      ]
    },
    {
      "cell_type": "markdown",
      "source": [
        "\"Magic\" class methods\n",
        "- define the behavior of objects with respect to standard language operators\n",
        "- are designated by the terms magic, special, dunder\n",
        "- the full list => on the documentation page\n",
        "- have no access levels\n",
        "- are related to the internal structure of a programming language\n",
        "\n",
        "Métodos de clase \"mágicos\"\n",
        "- definir el comportamiento de los objetos con respecto a los operadores del lenguaje estándar\n",
        "- se designan con los términos mágico, especial, dunder\n",
        "- la lista completa => en la página de documentación\n",
        "- no tener niveles de acceso\n",
        "- están relacionados con la estructura interna de un lenguaje de programación"
      ],
      "metadata": {
        "id": "TjzJM5nonFQ2"
      }
    },
    {
      "cell_type": "code",
      "source": [
        "import random\n",
        "# inheritance: Blob parent => GreenBlob child\n",
        "# super() - dynamic access to the base (parent class)\n",
        "class Blob():\n",
        "    def __init__(self, color, x_boundary, y_boundary):\n",
        "        self.color = color\n",
        "        self.x_boundary = x_boundary\n",
        "        self.y_boundary = y_boundary\n",
        "class GreenBlob(Blob):\n",
        "    def __init__(self, color, x_boundary, y_boundary):\n",
        "        # Blob.__init__(self, color, x_boundary, y_boundary)\n",
        "        super().__init__(color, x_boundary, y_boundary)\n",
        "        self.color = \"green\"\n",
        "    def move_fast(self):\n",
        "        self.x_boundary += random.randrange(-5.5)\n",
        "        self.y_boundary += random.randrange(-5.5)"
      ],
      "metadata": {
        "id": "K3iorJFvnJmc"
      },
      "execution_count": 2,
      "outputs": []
    },
    {
      "cell_type": "markdown",
      "source": [
        "Advantages of OOP\n",
        "- clear modular structure\n",
        "   - simple and effective interpretation system\n",
        "- reuse or modification of objects\n",
        "   - saving project costs and development time\n",
        "- simplification of reality\n",
        "   - reducing the complexity of software design and implementation\n",
        "   \n",
        "Ventajas de la programación orientada a objetos\n",
        "- estructura modular clara\n",
        "    - sistema de interpretación simple y eficaz\n",
        "- reutilización o modificación de objetos\n",
        "    - ahorrar costos de proyecto y tiempo de desarrollo\n",
        "- simplificación de la realidad\n",
        "    - reducir la complejidad del diseño y la implementación del software"
      ],
      "metadata": {
        "id": "jjzKifcOpRdT"
      }
    },
    {
      "cell_type": "code",
      "source": [
        "class FinancialAccount:\n",
        "    def __init__(self):\n",
        "        self.balance = 0\n",
        "    def withdraw(self, amount):\n",
        "        self.balance -= amount\n",
        "        return self.balance\n",
        "    def deposit(self, amount):\n",
        "        self.balance += amount\n",
        "        return self.balance\n",
        "class PhoneFinancialAccount(FinancialAccount):\n",
        "    def __init__(self, minimum_balance):\n",
        "        FinancialAccount.__init__(self)\n",
        "        self.minimum_balance = minimum_balance\n",
        "    def withdraw(self, amount):\n",
        "        if self.balance - amount < self.minimum_balance:\n",
        "            print(f'the operation is impossible, ' + \\\n",
        "                  f'minimum account balance is {self.minimum_balance} USD')\n",
        "        else:\n",
        "            FinancialAccount.withdraw(self, amount)"
      ],
      "metadata": {
        "id": "7PEnvYHFpS5g"
      },
      "execution_count": 3,
      "outputs": []
    },
    {
      "cell_type": "code",
      "source": [
        "class BankAccount:\n",
        "    def __init__(self, balance):\n",
        "        self.__balance = balance\n",
        "    def deposit(self, amount):\n",
        "        if amount > 0:\n",
        "            self.__balance += amount\n",
        "    def withdraw(self, amount):\n",
        "        if amount > 0 and amount <= self.__balance:\n",
        "            self.__balance -= amount\n",
        "    def get_balance(self):\n",
        "        return self.__balance\n",
        "account = BankAccount(1000)\n",
        "account.deposit(500)\n",
        "account.withdraw(200)\n",
        "print(account.get_balance())"
      ],
      "metadata": {
        "id": "2R1ob-DUsI11",
        "outputId": "2e38c3a8-8879-4b95-b7cc-73ae233c4709",
        "colab": {
          "base_uri": "https://localhost:8080/"
        }
      },
      "execution_count": 4,
      "outputs": [
        {
          "output_type": "stream",
          "name": "stdout",
          "text": [
            "1300\n"
          ]
        }
      ]
    },
    {
      "cell_type": "markdown",
      "source": [
        "#### Classes and objects\n",
        "Class is a template (“blueprint”) for creating objects that provides\n",
        "- initial state values (initialization of variable fields)\n",
        "- implementing the behavior of functions or methods\n",
        "  - by what “rules” do changes occur\n",
        "  - how it responds to calls in programs\n",
        "  \n",
        "Python adds classes with a minimum of new syntax and semantics\n",
        "\n",
        "Python class is a data type consisting of\n",
        "- a set of attributes (properties)\n",
        "- a set of methods - functions for working with these attributes\n",
        "\n",
        "Classes have the dynamic nature of Python:\n",
        "- are created at runtime\n",
        "- subject to change after initiation\n",
        "\n",
        "All classes in Python have a common parent class - object\n",
        "\n",
        "The object class provides all its descendants with a set of service attributes\n",
        "- for example `__dict__` and `__doc__`\n",
        "\n",
        "#### Clases y objetos\n",
        "La clase es una plantilla (“plano”) para crear objetos que proporciona\n",
        "- valores de estado inicial (inicialización de campos variables)\n",
        "- implementar el comportamiento de funciones o métodos\n",
        "   - ¿Según qué “reglas” se producen los cambios?\n",
        "   - cómo responde a las llamadas en los programas\n",
        "\n",
        "Python agrega clases con un mínimo de sintaxis y semántica nuevas\n",
        "\n",
        "La clase Python es un tipo de datos que consta de\n",
        "- un conjunto de atributos (propiedades)\n",
        "- un conjunto de métodos - funciones para trabajar con estos atributos\n",
        "\n",
        "Las clases tienen la naturaleza dinámica de Python:\n",
        "- se crean en tiempo de ejecución\n",
        "- sujeto a cambios después del inicio\n",
        "\n",
        "Todas las clases en Python tienen una clase principal común: object\n",
        "\n",
        "La clase de objeto proporciona a todos sus descendientes un conjunto de atributos de servicio\n",
        "- por ejemplo `__dict__` y `__doc__`"
      ],
      "metadata": {
        "id": "mkD_mvF7l0QW"
      }
    },
    {
      "cell_type": "code",
      "source": [
        "class Dog:\n",
        "# static attributes (direct assignment to a class)\n",
        "    class_ = \"mammal\" # properties\n",
        "    species_ = \"dog\" # properties\n",
        "# custom methods\n",
        "    def variable(self):\n",
        "        return [k for k,v in globals().items() if v is self]\n",
        "    def fun(self):\n",
        "        print(f\"Hello! I am {self.variable()[0]}.\\n\" +\\\n",
        "              f\"I am a {self.class_} and a {self.species_}\")\n",
        "\n",
        "# the class instance\n",
        "Rodger = Dog()\n",
        "# method calls\n",
        "Rodger.fun()\n",
        "# another instance of the class\n",
        "Jack = Dog()\n",
        "# access to attributes and methods\n",
        "print(Jack.variable(), Jack.class_, Jack.species_)"
      ],
      "metadata": {
        "colab": {
          "base_uri": "https://localhost:8080/"
        },
        "id": "DfOOn5aKl2XV",
        "outputId": "bf05efa6-d4b8-4ec7-8bf0-38e06dc2f7d5"
      },
      "execution_count": 5,
      "outputs": [
        {
          "output_type": "stream",
          "name": "stdout",
          "text": [
            "Hello! I am Rodger.\n",
            "I am a mammal and a dog\n",
            "['Jack'] mammal dog\n"
          ]
        }
      ]
    },
    {
      "cell_type": "markdown",
      "source": [
        "An object is an element of the program space that has a certain state and behavior.\n",
        "\n",
        "A Python object is an instance of a class that has:\n",
        "- uniqueness (identity)\n",
        "  - a name, interaction with other objects, etc.\n",
        "- the certain condition\n",
        "  - attributes that reflect the properties of a given instance\n",
        "- behavior\n",
        "  - methods that reflect changes or interactions with other objects\n",
        "  \n",
        "Un objeto es un elemento del espacio del programa que tiene un determinado estado y comportamiento.\n",
        "\n",
        "Un objeto Python es una instancia de una clase que tiene:\n",
        "- unicidad (identidad)\n",
        "   - un nombre, interacción con otros objetos, etc.\n",
        "- la cierta condición\n",
        "   - atributos que reflejan las propiedades de una instancia determinada\n",
        "- comportamiento\n",
        "   - métodos que reflejan cambios o interacciones con otros objetos"
      ],
      "metadata": {
        "id": "Vd_cTFL60NmR"
      }
    },
    {
      "cell_type": "code",
      "source": [
        "class Point:\n",
        "# the initiator-constructor / el constructor-iniciador\n",
        "# dynamic attributes (class object level) / atributos dinámicos (nivel de objeto de clase)\n",
        "# self - for the  instance / para la instancia\n",
        "    def __init__( self, x=0, y=0):\n",
        "        self.x = x\n",
        "        self.y = y\n",
        "# the magic destructor method / el método del destructor mágico\n",
        "    def __del__(self):\n",
        "        class_name = self.__class__.__name__\n",
        "        print(f\"the object `{class_name}` is destroyed\")\n",
        "pt1 = Point()\n",
        "pt2 = pt1\n",
        "del pt1; del pt2"
      ],
      "metadata": {
        "colab": {
          "base_uri": "https://localhost:8080/"
        },
        "id": "AiYtBwGo0O_Z",
        "outputId": "03dd9bbc-26d9-4426-fd97-85ae972f5f4f"
      },
      "execution_count": 6,
      "outputs": [
        {
          "output_type": "stream",
          "name": "stdout",
          "text": [
            "the object `Point` is destroyed\n"
          ]
        }
      ]
    },
    {
      "cell_type": "markdown",
      "source": [
        "Attribute classification\n",
        "- built-in and custom\n",
        "- static (in the class body) and dynamic (in the constructor)\n",
        "\n",
        "Clasificación de atributos\n",
        "- incorporado y personalizado\n",
        "- estático (en el cuerpo de la clase) y dinámico (en el constructor)\n",
        "\n",
        "`self`\n",
        "- reference to the current instance of the class\n",
        "- access to attributes and methods of a class inside an object\n",
        "\n",
        "\n",
        "- referencia a la instancia actual de la clase\n",
        "- acceso a atributos y métodos de una clase dentro de un objeto"
      ],
      "metadata": {
        "id": "RU1vtziz3COp"
      }
    },
    {
      "cell_type": "code",
      "source": [
        "class Point2:\n",
        "    \"\"\"\n",
        "    A class representing a point in 2D space.\n",
        "\n",
        "    Attributes:\n",
        "        x (float): The x-coordinate of the point.\n",
        "        y (float): The y-coordinate of the point.\n",
        "\n",
        "    Methods:\n",
        "        __init__(coordinates): Initializes a Point2 object with the given coordinates.\n",
        "        move(delta): Moves the point by the given delta values in the x and y directions.\n",
        "    \"\"\"\n",
        "    def __init__(self, coordinates ):\n",
        "        self.x = coordinates[0]\n",
        "        self.y = coordinates[1]\n",
        "    def move(self, delta):\n",
        "        self.x = self.x + delta[0]\n",
        "        self.y = self.y + delta[1]\n",
        "p1 = Point2([1, 3])\n",
        "p1.move([4, 2])\n",
        "print(p1.x, p1.y)"
      ],
      "metadata": {
        "colab": {
          "base_uri": "https://localhost:8080/"
        },
        "id": "u03tWI0Q3Dyw",
        "outputId": "dcd6caad-eb0b-46eb-9939-700756ed3e57"
      },
      "execution_count": 7,
      "outputs": [
        {
          "output_type": "stream",
          "name": "stdout",
          "text": [
            "5 5\n"
          ]
        }
      ]
    },
    {
      "cell_type": "markdown",
      "source": [
        "Built-in class attributes\n",
        "- `__qualname__` - full class name\n",
        "  - dot format for displaying the structure of nested classes\n",
        "- `__bases__` - list of base classes\n",
        "- `__dict __` - dictionary with class attributes\n",
        "- `__doc__` - class documentation text\n",
        "  - in the class body as the first line or\n",
        "  - assign a value to the field\n",
        "- `__module__` - class module\n",
        "- `__mro__` - class inheritance chain\n",
        "- `__name__` - class name\n",
        "\n",
        "Atributos de clase incorporados\n",
        "- `__qualname__` - nombre completo de la clase\n",
        "   - formato de puntos para mostrar la estructura de clases anidadas\n",
        "- `__bases__` - lista de clases base\n",
        "- `__dict __` - diccionario con atributos de clase\n",
        "- `__doc__` - texto de documentación de clase\n",
        "   - en el cuerpo de la clase como primera línea o\n",
        "   - asignar un valor al campo\n",
        "- `__module__` - módulo de clase\n",
        "- `__mro__` - cadena de herencia de clases\n",
        "- `__name__` - nombre de clase"
      ],
      "metadata": {
        "id": "ikBdV49JUgt_"
      }
    },
    {
      "cell_type": "code",
      "source": [
        "(Point2.__qualname__, Blob.__qualname__, Dog.__qualname__,\n",
        " Point.__bases__, Phone.__bases__, FinancialAccount.__bases__,\n",
        " Point2.__module__, Point2.__mro__, Point2.__name__)"
      ],
      "metadata": {
        "colab": {
          "base_uri": "https://localhost:8080/"
        },
        "id": "YaqQWA6rUfyO",
        "outputId": "c1990dc2-f4ad-4c14-81c8-d76697fdbd3f"
      },
      "execution_count": 8,
      "outputs": [
        {
          "output_type": "execute_result",
          "data": {
            "text/plain": [
              "('Point2',\n",
              " 'Blob',\n",
              " 'Dog',\n",
              " (object,),\n",
              " (object,),\n",
              " (object,),\n",
              " '__main__',\n",
              " (__main__.Point2, object),\n",
              " 'Point2')"
            ]
          },
          "metadata": {},
          "execution_count": 8
        }
      ]
    },
    {
      "cell_type": "code",
      "source": [
        "list(Point2.__dict__)"
      ],
      "metadata": {
        "colab": {
          "base_uri": "https://localhost:8080/"
        },
        "id": "R4bQOTKVUoa0",
        "outputId": "bc587603-cfb1-4c0e-83fa-b403f1a40b2c"
      },
      "execution_count": 9,
      "outputs": [
        {
          "output_type": "execute_result",
          "data": {
            "text/plain": [
              "['__module__', '__doc__', '__init__', 'move', '__dict__', '__weakref__']"
            ]
          },
          "metadata": {},
          "execution_count": 9
        }
      ]
    },
    {
      "cell_type": "code",
      "source": [
        "print(Point2.__doc__)"
      ],
      "metadata": {
        "colab": {
          "base_uri": "https://localhost:8080/"
        },
        "id": "2yr4BdApWbJS",
        "outputId": "acdcafbc-259f-49f3-d13d-7892a777a188"
      },
      "execution_count": 10,
      "outputs": [
        {
          "output_type": "stream",
          "name": "stdout",
          "text": [
            "\n",
            "    A class representing a point in 2D space.\n",
            "\n",
            "    Attributes:\n",
            "        x (float): The x-coordinate of the point.\n",
            "        y (float): The y-coordinate of the point.\n",
            "\n",
            "    Methods:\n",
            "        __init__(coordinates): Initializes a Point2 object with the given coordinates.\n",
            "        move(delta): Moves the point by the given delta values in the x and y directions.\n",
            "    \n"
          ]
        }
      ]
    },
    {
      "cell_type": "code",
      "source": [
        "class Noop:\n",
        "    \"\"\"I do nothing at all.\"\"\"\n",
        "    static_attribute = 0\n",
        "Noop.__dict__"
      ],
      "metadata": {
        "colab": {
          "base_uri": "https://localhost:8080/"
        },
        "id": "Ebk0beQ7XUKg",
        "outputId": "9a9d191f-cee2-473d-f1fe-94c944663796"
      },
      "execution_count": 11,
      "outputs": [
        {
          "output_type": "execute_result",
          "data": {
            "text/plain": [
              "mappingproxy({'__module__': '__main__',\n",
              "              '__doc__': 'I do nothing at all.',\n",
              "              'static_attribute': 0,\n",
              "              '__dict__': <attribute '__dict__' of 'Noop' objects>,\n",
              "              '__weakref__': <attribute '__weakref__' of 'Noop' objects>})"
            ]
          },
          "metadata": {},
          "execution_count": 11
        }
      ]
    },
    {
      "cell_type": "code",
      "source": [
        "# incorrect definition of class attributes\n",
        "# definición incorrecta de atributos de clase\n",
        "class Dog2:\n",
        "    # static attributes are set incorrectly\n",
        "    # atributos estáticos están configurados incorrectamente\n",
        "    tricks = []\n",
        "    def __init__(self, name):\n",
        "        self.name = name\n",
        "    def add_trick(self, trick):\n",
        "        self.tricks.append(trick)\n",
        "b = Dog2('Buddy')\n",
        "f = Dog2('Fido')\n",
        "b.add_trick('chew slippers')\n",
        "f.add_trick('run in the yard')\n",
        "# incorrect behavior of objects\n",
        "# comportamiento incorrecto de los objetos\n",
        "b.tricks"
      ],
      "metadata": {
        "colab": {
          "base_uri": "https://localhost:8080/"
        },
        "id": "iW9vkRJB-6pX",
        "outputId": "3a3fc52e-6faa-4e8d-f62c-4ae3e7ee0fe6"
      },
      "execution_count": 12,
      "outputs": [
        {
          "output_type": "execute_result",
          "data": {
            "text/plain": [
              "['chew slippers', 'run in the yard']"
            ]
          },
          "metadata": {},
          "execution_count": 12
        }
      ]
    },
    {
      "cell_type": "markdown",
      "source": [
        "#### `__slots__`\n",
        "a special attribute allows you to specify what attributes you expect from instances of your object\n",
        "\n",
        "Result of application\n",
        "- faster access to attributes\n",
        "- saving memory space\n",
        "\n",
        "The savings are achieved due to the following reasons:\n",
        "- saving references to values in slots instead of `__dict__`\n",
        "- avoid creating `__dict__` and `__weakref__` if parent classes deny them and you declare `__slots__`\n",
        "\n",
        "un atributo especial le permite especificar qué atributos espera de las instancias de su objeto\n",
        "\n",
        "Resultado de la aplicación\n",
        "- acceso más rápido a los atributos\n",
        "- ahorrar espacio en la memoria\n",
        "\n",
        "Los ahorros se logran por las siguientes razones:\n",
        "- guardar referencias a valores en espacios en lugar de `__dict__`\n",
        "- Evite crear `__dict__` y `__weakref__` si las clases principales los niegan y usted declara `__slots__`\n",
        "\n",
        "The biggest limitation to using slots concerns multiple inheritance\n",
        "- multiple parent classes with non-empty slots cannot be combined\n",
        "\n",
        "La mayor limitación en el uso de slots tiene que ver con la herencia múltiple\n",
        "- no se pueden combinar varias clases para padres con espacios no vacíos"
      ],
      "metadata": {
        "id": "LBsn26chBZQl"
      }
    },
    {
      "cell_type": "code",
      "source": [
        "class Base:\n",
        "    __slots__ = ['attr1', 'attr2']\n",
        "class RightChild(Base):\n",
        "    __slots__ = ['attr3']\n",
        "class WrongChild(Base):\n",
        "    __slots__ = ['attr1', 'attr2', 'attr3']\n",
        "from sys import getsizeof\n",
        "print(getsizeof(Base()), getsizeof(RightChild()), getsizeof(WrongChild()))\n",
        "Base.__dict__, RightChild.__dict__, WrongChild.__dict__"
      ],
      "metadata": {
        "colab": {
          "base_uri": "https://localhost:8080/"
        },
        "id": "gdJZM0aKBcw3",
        "outputId": "9d6b70ea-081c-4e68-e945-8b3131224d33"
      },
      "execution_count": 13,
      "outputs": [
        {
          "output_type": "stream",
          "name": "stdout",
          "text": [
            "48 56 72\n"
          ]
        },
        {
          "output_type": "execute_result",
          "data": {
            "text/plain": [
              "(mappingproxy({'__module__': '__main__',\n",
              "               '__slots__': ['attr1', 'attr2'],\n",
              "               'attr1': <member 'attr1' of 'Base' objects>,\n",
              "               'attr2': <member 'attr2' of 'Base' objects>,\n",
              "               '__doc__': None}),\n",
              " mappingproxy({'__module__': '__main__',\n",
              "               '__slots__': ['attr3'],\n",
              "               'attr3': <member 'attr3' of 'RightChild' objects>,\n",
              "               '__doc__': None}),\n",
              " mappingproxy({'__module__': '__main__',\n",
              "               '__slots__': ['attr1', 'attr2', 'attr3'],\n",
              "               'attr1': <member 'attr1' of 'WrongChild' objects>,\n",
              "               'attr2': <member 'attr2' of 'WrongChild' objects>,\n",
              "               'attr3': <member 'attr3' of 'WrongChild' objects>,\n",
              "               '__doc__': None}))"
            ]
          },
          "metadata": {},
          "execution_count": 13
        }
      ]
    },
    {
      "cell_type": "markdown",
      "source": [
        "#### Classification of methods\n",
        "Magic - internal class methods:\n",
        "- control access to object attributes\n",
        "- define a string representation of an instance\n",
        "- change how an object is hashed\n",
        "- allow you to overload operators (multiplication, comparison, ...)\n",
        "\n",
        "Mágicos methods are not intended to be called directly by the user,\n",
        "\n",
        "they are called within the class during a certain action\n",
        "\n",
        "#### Clasificación de métodos.\n",
        "Magia - métodos de clase internos:\n",
        "- controlar el acceso a los atributos del objeto\n",
        "- definir una representación de cadena de una instancia\n",
        "- cambiar la forma en que se aplica el hash a un objeto\n",
        "- permitirle sobrecargar operadores (multiplicación, comparación, ...)\n",
        "\n",
        "Los métodos mágicos no están destinados a ser invocados directamente por el usuario,\n",
        "\n",
        "sino que se invocan dentro de la clase durante una determinada acción."
      ],
      "metadata": {
        "id": "hFySmIohQ3Sh"
      }
    },
    {
      "cell_type": "code",
      "source": [
        "class Employee:\n",
        "# the `new` operator is used to create a new instance of a class\n",
        "# called before the __init__() method\n",
        "# __new__() returns a new object, which is then initialized with __init__()\n",
        "# el operador `new` se utiliza para crear una nueva instancia de una clase\n",
        "# llamado antes del método __init__()\n",
        "# __new__() devuelve un nuevo objeto, que luego se inicializa con __init__()\n",
        "    def __new__(cls, name):\n",
        "        print(\"the `__new__` magic method called\")\n",
        "        inst = object.__new__(cls)\n",
        "        return inst\n",
        "    def __init__(self, name):\n",
        "        print(\"the `__init__` magic method called\")\n",
        "        self.name = name\n",
        "emp = Employee('Olga')\n",
        "emp.name"
      ],
      "metadata": {
        "colab": {
          "base_uri": "https://localhost:8080/",
          "height": 70
        },
        "id": "mCMMS_6gQ44I",
        "outputId": "526de32a-1dd3-48c1-b41f-82bfd2c085b0"
      },
      "execution_count": 14,
      "outputs": [
        {
          "output_type": "stream",
          "name": "stdout",
          "text": [
            "the `__new__` magic method called\n",
            "the `__init__` magic method called\n"
          ]
        },
        {
          "output_type": "execute_result",
          "data": {
            "text/plain": [
              "'Olga'"
            ],
            "application/vnd.google.colaboratory.intrinsic+json": {
              "type": "string"
            }
          },
          "metadata": {},
          "execution_count": 14
        }
      ]
    },
    {
      "cell_type": "code",
      "source": [
        "# operator overloading\n",
        "# a class without object equality definition\n",
        "# sobrecarga del operador\n",
        "# una clase sin definición de igualdad de objetos\n",
        "class Circle0:\n",
        "    def __init__( self, x, y, r ):\n",
        "        self.x = x\n",
        "        self.y = y\n",
        "        self.r = r\n",
        "o01 = Circle0(1, 0, 2)\n",
        "o02 = Circle0(1, 0, 2)\n",
        "print(o01, o02, o01 == o02, sep='\\n')"
      ],
      "metadata": {
        "colab": {
          "base_uri": "https://localhost:8080/"
        },
        "id": "UELGbxszVQnf",
        "outputId": "c30436e4-a756-4cc9-ad28-a67973ad03ef"
      },
      "execution_count": 15,
      "outputs": [
        {
          "output_type": "stream",
          "name": "stdout",
          "text": [
            "<__main__.Circle0 object at 0x7829fbc7f8b0>\n",
            "<__main__.Circle0 object at 0x7829fbc7d3f0>\n",
            "False\n"
          ]
        }
      ]
    },
    {
      "cell_type": "code",
      "source": [
        "class Circle:\n",
        "    def __init__(self, x, y, r):\n",
        "        self.x = x\n",
        "        self.y = y\n",
        "        self.r = r\n",
        "    def __eq__(self, other):\n",
        "        return self.r == other.r\n",
        "    def var(self):\n",
        "        return [k for k,v in globals().items() if v is self][0]\n",
        "    def __str__(self):\n",
        "        return f\"circle {self.var()} => center: {self.x, self.y}, radius: {self.r}\"\n",
        "    def area(self):\n",
        "        return self.r ** 2 * 3.14\n",
        "    def perimeter(self):\n",
        "        return 2 * self.r * 3.14\n",
        "    def move(self, delta_x, delta_y):\n",
        "        self.x = self.x + delta_x\n",
        "        self.y = self.y + delta_y\n",
        "c1 = Circle(1, 0, 3)\n",
        "c2 = Circle(3, 2, 3)\n",
        "c2.move(2, 1)\n",
        "c3 = Circle(1, 0, 2)\n",
        "print(c1, c2, f\"{c1 == c2 = }\", f\"{c1 != c3 = }\", sep='\\n')\n",
        "print(c1.area(), c2.perimeter())"
      ],
      "metadata": {
        "colab": {
          "base_uri": "https://localhost:8080/"
        },
        "id": "fQGwW8goVcdO",
        "outputId": "116af920-f677-4e49-b50c-850410dc3f1e"
      },
      "execution_count": 16,
      "outputs": [
        {
          "output_type": "stream",
          "name": "stdout",
          "text": [
            "circle c1 => center: (1, 0), radius: 3\n",
            "circle c2 => center: (5, 3), radius: 3\n",
            "c1 == c2 = True\n",
            "c1 != c3 = True\n",
            "28.26 18.84\n"
          ]
        }
      ]
    },
    {
      "cell_type": "markdown",
      "source": [
        "Methods and decorators\n",
        "- @staticmethod\n",
        "   - declares a static method in a class\n",
        "   - cannot have `cls` or `self` parameter\n",
        "   - cannot access class attributes or instance attributes\n",
        "   - can be called\n",
        "     - `ClassName.MethodName()` (class)\n",
        "     - `Object.MethodName()` (object - class instance)\n",
        "   - can return a class object\n",
        "- @classmethod\n",
        "   - declares a class method\n",
        "   - the first parameter is `cls`, used to access class attributes\n",
        "   - can only access class attributes, not instance attributes\n",
        "   - can be called\n",
        "     - `ClassName.MethodName()` (class)\n",
        "     - `Object.MethodName()` (object - class instance)\n",
        "    - can return a class object\n",
        "- @property\n",
        "   - declares a method as a property\n",
        "   - allows you to control access, modification and deletion of an attribute\n",
        "   - allows you to declare attributes whose value is calculated at the time of access\n",
        "   - `@<property-name>.setter` - method that sets the value for the property\n",
        "   - `@<property-name>.deleter` - method for deleting a property\n",
        "- object methods (related)\n",
        "   - using `self`\n",
        "     - changes the state of an object\n",
        "     - refers to its other methods and parameters\n",
        "   - using the `self.__class__` attribute\n",
        "     - accesses class attributes\n",
        "     - ability to change the state of the class itself\n",
        "     \n",
        "Métodos y decoradores.\n",
        "- @staticmethod\n",
        "    - declara un método estático en una clase\n",
        "    - no puede tener el parámetro `cls` o `self`\n",
        "    - no puede acceder a atributos de clase o atributos de instancia\n",
        "    - puede ser llamado\n",
        "      - `ClassName.MethodName()` (clase)\n",
        "      - `Object.MethodName()` (objeto - instancia de clase)\n",
        "    - puede devolver un objeto de clase\n",
        "- @classmethod\n",
        "    - declara un método de clase\n",
        "    - el primer parámetro es `cls`, usado para acceder a los atributos de clase\n",
        "    - sólo puede acceder a atributos de clase, no a atributos de instancia\n",
        "    - puede ser llamado\n",
        "      - `ClassName.MethodName()` (clase)\n",
        "      - `Object.MethodName()` (objeto - instancia de clase)\n",
        "     - puede devolver un objeto de clase\n",
        "- @property\n",
        "    - declara un método como una propiedad\n",
        "    - le permite controlar el acceso, modificación y eliminación de un atributo\n",
        "    - le permite declarar atributos cuyo valor se calcula en el momento del acceso\n",
        "    - `@<nombre-propiedad>.setter` - método que establece el valor de la propiedad\n",
        "    - `@<nombre-propiedad>.deleter` - método para eliminar una propiedad\n",
        "- métodos de objeto (relacionados)\n",
        "    - usando `self`\n",
        "      - cambia el estado de un objeto\n",
        "      - se refiere a sus otros métodos y parámetros\n",
        "    - usando el atributo `self.__class__`\n",
        "      - accede a los atributos de clase\n",
        "      - capacidad de cambiar el estado de la clase misma\n",
        "\n"
      ],
      "metadata": {
        "id": "vGwsBYSMMR4f"
      }
    },
    {
      "cell_type": "code",
      "source": [
        "class ToyClass:\n",
        "    static_name = 'Class Example'\n",
        "    def __init__(self, dynamic_name):\n",
        "        self.__dynamic_name = dynamic_name\n",
        "    @classmethod\n",
        "    def classmethod(cls):\n",
        "        return 'the method of ' + cls.static_name + ' is called'\n",
        "    @staticmethod\n",
        "    def staticmethod():\n",
        "        return 'the static method is called'\n",
        "    # recommended to use instead of property()\n",
        "    @property\n",
        "    def dynamic_name(self):\n",
        "        return self.__dynamic_name\n",
        "    def instancemethod(self):\n",
        "        return 'the metod related to the oblect ' + str(self) + ' is called'"
      ],
      "metadata": {
        "id": "X3x4CeaBM69s"
      },
      "execution_count": 17,
      "outputs": []
    },
    {
      "cell_type": "code",
      "source": [
        "tc = ToyClass('the class with a dynamic attribute')\n",
        "(ToyClass.staticmethod(), tc.staticmethod(),\n",
        " ToyClass.classmethod(), tc.classmethod(),\n",
        " ToyClass.dynamic_name, tc.dynamic_name,\n",
        " ToyClass.instancemethod(tc), tc.instancemethod(),\n",
        " ToyClass.instancemethod, ToyClass('___').instancemethod)"
      ],
      "metadata": {
        "colab": {
          "base_uri": "https://localhost:8080/"
        },
        "id": "Wnr-XB3OQpAN",
        "outputId": "7f85788a-02ac-42c2-ed1f-51736994894f"
      },
      "execution_count": 18,
      "outputs": [
        {
          "output_type": "execute_result",
          "data": {
            "text/plain": [
              "('the static method is called',\n",
              " 'the static method is called',\n",
              " 'the method of Class Example is called',\n",
              " 'the method of Class Example is called',\n",
              " <property at 0x7829fbcb3ce0>,\n",
              " 'the class with a dynamic attribute',\n",
              " 'the metod related to the oblect <__main__.ToyClass object at 0x7829fbcbd510> is called',\n",
              " 'the metod related to the oblect <__main__.ToyClass object at 0x7829fbcbd510> is called',\n",
              " <function __main__.ToyClass.instancemethod(self)>,\n",
              " <bound method ToyClass.instancemethod of <__main__.ToyClass object at 0x7829fbcbc8e0>>)"
            ]
          },
          "metadata": {},
          "execution_count": 18
        }
      ]
    },
    {
      "cell_type": "code",
      "source": [
        "from datetime import date\n",
        "class Person:\n",
        "    def __init__(self, name, age):\n",
        "        self.name = name\n",
        "        self.age = age\n",
        "    def is_person_adult(self):\n",
        "        if self.age >= 18:\n",
        "            print(self.name + ' is adult')\n",
        "        else:\n",
        "            print(self.name + ' is not adult')\n",
        "    @classmethod\n",
        "    def from_birth_year(cls, name, year):\n",
        "        return cls(name, date.today().year - year)\n",
        "    @staticmethod\n",
        "    def is_adult(age):\n",
        "        return age >= 18\n",
        "person1 = Person('Sarah', 25)\n",
        "person2 = Person.from_birth_year('Ron', 1994)\n",
        "print(person1.name, person1.age)\n",
        "print(person2.name, person2.age)\n",
        "print(Person.is_adult(25))\n",
        "person1.is_person_adult()"
      ],
      "metadata": {
        "colab": {
          "base_uri": "https://localhost:8080/"
        },
        "id": "fVZbaTU7tMs2",
        "outputId": "b10b61ce-ce2a-4b61-e626-7f3d1a63326f"
      },
      "execution_count": 19,
      "outputs": [
        {
          "output_type": "stream",
          "name": "stdout",
          "text": [
            "Sarah 25\n",
            "Ron 29\n",
            "True\n",
            "Sarah is adult\n"
          ]
        }
      ]
    },
    {
      "cell_type": "markdown",
      "source": [
        "Abstract methods - for abstract classes\n",
        "- are intended for inheritance\n",
        "- avoid implementing specific methods, leaving only signatures\n",
        "- require subclasses to implement abstract methods\n",
        "\n",
        "Métodos abstractos - para clases abstractas\n",
        "- están destinados a la herencia\n",
        "- evitar implementar métodos específicos, dejando solo firmas\n",
        "- requiere subclases para implementar métodos abstractos"
      ],
      "metadata": {
        "id": "_HIPQbOwt9l7"
      }
    },
    {
      "cell_type": "code",
      "source": [
        "import abc\n",
        "class AbstractClass():\n",
        "    __metaclass__ = abc.ABCMeta\n",
        "    @abc.abstractmethod\n",
        "    def abstractMethod(self):\n",
        "        return\n",
        "class ConcreteClass(AbstractClass):\n",
        "    def __init__(self):\n",
        "        self.name = 'subclass'\n",
        "    def abstractMethod(self):\n",
        "        print('this abstract method is implemented in subclass')\n",
        "c = ConcreteClass()\n",
        "c.abstractMethod()"
      ],
      "metadata": {
        "colab": {
          "base_uri": "https://localhost:8080/"
        },
        "id": "mwY24K5tt_CO",
        "outputId": "d1358b58-68ac-4270-ba8e-c679e730a8ab"
      },
      "execution_count": 20,
      "outputs": [
        {
          "output_type": "stream",
          "name": "stdout",
          "text": [
            "this abstract method is implemented in subclass\n"
          ]
        }
      ]
    },
    {
      "cell_type": "markdown",
      "source": [
        "Overridden methods || Métodos anulados"
      ],
      "metadata": {
        "id": "k_LAcnZqvnk6"
      }
    },
    {
      "cell_type": "code",
      "source": [
        "class Parent:\n",
        "    def my_method(self):\n",
        "        print('it calls the parent method')\n",
        "class Child(Parent):\n",
        "    def my_method(self):\n",
        "        print('it calls the descendant method')\n",
        "c = Child()\n",
        "# method is overridden by the descendant class\n",
        "# método es anulado por la clase descendiente\n",
        "c.my_method()"
      ],
      "metadata": {
        "colab": {
          "base_uri": "https://localhost:8080/"
        },
        "id": "rT2n1MyKvmB9",
        "outputId": "15154c45-351f-4f06-b90f-8662b16af7a1"
      },
      "execution_count": 21,
      "outputs": [
        {
          "output_type": "stream",
          "name": "stdout",
          "text": [
            "it calls the descendant method\n"
          ]
        }
      ]
    },
    {
      "cell_type": "markdown",
      "source": [
        "Functions for accessing class attributes and methods\n",
        "- `getattr(<Object>, <Attribute>[,<Default>])`\n",
        "     - returns the value of an attribute by its name, specified as strings\n",
        "     - you can create an attribute name dynamically during program execution\n",
        "- `setattr(<Object>, <Attribute>, <Value>)`\n",
        "     - sets the value of an attribute specified as a string\n",
        "     - the second parameter of the `setattr()` method can pass the name of a non-existent attribute\n",
        "     - => an attribute with the specified name will be created\n",
        "- `delattr (<Object>, <Attribute>)` - deletes an attribute specified as a string\n",
        "- `hasattr(<Object>, <Attribute>)` — checks the presence of the specified attribute\n",
        "     - if it exists => function returns `True`\n",
        "     \n",
        "     \n",
        "Funciones para acceder a atributos y métodos de clase\n",
        "- `getattr(<Object>, <Attribute>[,<Default>])`\n",
        "    - devuelve el valor de un atributo por su nombre, especificado como cadenas\n",
        "    - puede crear un nombre de atributo dinámicamente durante la ejecución del programa\n",
        "- `setattr(<Object>, <Attribute>, <Value>)`\n",
        "    - establece el valor de un atributo especificado como una cadena\n",
        "    - el segundo parámetro del método `setattr()` puede pasar el nombre de un atributo inexistente\n",
        "    - => se creará un atributo con el nombre especificado\n",
        "- `delattr (<Object>, <Attribute>)` - elimina un atributo especificado como una cadena\n",
        "- `hasattr(<Object>, <Attribute>)` — comprueba la presencia del atributo especificado\n",
        "    - si existe => la función devuelve `True`"
      ],
      "metadata": {
        "id": "Jk0Wqv5exDjQ"
      }
    },
    {
      "cell_type": "code",
      "source": [
        "class XClass:\n",
        "    def __init__(self):\n",
        "        self.x = 10\n",
        "    def get_x(self):\n",
        "        return self.x\n",
        "xc = XClass()\n",
        "print(getattr(xc, \"x\"), \"x\")\n",
        "print(getattr(xc, \"get_x\"), \"get_x\")\n",
        "setattr(xc, \"y\", 20)\n",
        "print(hasattr(xc, \"y\"), getattr(xc, \"y\"), \"y\")\n",
        "delattr(xc, \"y\")\n",
        "print(hasattr(xc, \"x\"),hasattr(xc, \"y\"))"
      ],
      "metadata": {
        "colab": {
          "base_uri": "https://localhost:8080/"
        },
        "id": "ErhP2BrHvsCc",
        "outputId": "37fc5ad8-fd01-492b-8890-26f702f73709"
      },
      "execution_count": 22,
      "outputs": [
        {
          "output_type": "stream",
          "name": "stdout",
          "text": [
            "10 x\n",
            "<bound method XClass.get_x of <__main__.XClass object at 0x7829fbcbf0d0>> get_x\n",
            "True 20 y\n",
            "True False\n"
          ]
        }
      ]
    },
    {
      "cell_type": "markdown",
      "source": [
        "Types of inheritance\n",
        "- single (one parent class - one successor class)\n",
        "- multiple (several parent classes and one successor class)\n",
        "- multi-level (chain inheritance)\n",
        "- hierarchical (one parent class and several descendant classes)\n",
        "- hybrid (a mixture of several other forms of inheritance)\n",
        "\n",
        "Tipos de herencia\n",
        "- único (una clase principal - una clase sucesora)\n",
        "- múltiples (varias clases principales y una clase sucesora)\n",
        "- multinivel (herencia en cadena)\n",
        "- jerárquico (una clase principal y varias clases descendientes)\n",
        "- híbrido (una mezcla de varias otras formas de herencia)"
      ],
      "metadata": {
        "id": "-E6Pk6SsDnzD"
      }
    },
    {
      "cell_type": "code",
      "source": [
        "class QuadriLateral:\n",
        "    def __init__(self, a, b, c, d):\n",
        "        self.side1 = a\n",
        "        self.side2 = b\n",
        "        self.side3 = c\n",
        "        self.side4 = d\n",
        "    def perimeter(self):\n",
        "        p = self.side1 + self.side2 + self.side3 + self.side4\n",
        "        print(f\"perimeter = {p}\")\n",
        "ql = QuadriLateral(7, 5, 6, 4)\n",
        "ql.perimeter()"
      ],
      "metadata": {
        "colab": {
          "base_uri": "https://localhost:8080/"
        },
        "id": "2-y1WwgHD1SL",
        "outputId": "2e5854d4-030a-474f-9918-86d482ed2483"
      },
      "execution_count": 23,
      "outputs": [
        {
          "output_type": "stream",
          "name": "stdout",
          "text": [
            "perimeter = 22\n"
          ]
        }
      ]
    },
    {
      "cell_type": "code",
      "source": [
        "class Rectangle(QuadriLateral):\n",
        "    def __init__(self, a, b):\n",
        "        super().__init__(a, b, a, b)\n",
        "    def perimeter(self):\n",
        "        p = 2 * (self.side1 + self.side2)\n",
        "        print(f\"perimeter = {p}\")\n",
        "r = Rectangle(4, 5)\n",
        "r.perimeter()"
      ],
      "metadata": {
        "colab": {
          "base_uri": "https://localhost:8080/"
        },
        "id": "B4wh_ybqDpPY",
        "outputId": "6e741abe-c5c0-43d9-e836-848b49fb2ca2"
      },
      "execution_count": 24,
      "outputs": [
        {
          "output_type": "stream",
          "name": "stdout",
          "text": [
            "perimeter = 18\n"
          ]
        }
      ]
    },
    {
      "cell_type": "code",
      "source": [
        "class Square(Rectangle):\n",
        "    def __init__(self, a):\n",
        "        super().__init__(a, a)\n",
        "    def perimeter(self):\n",
        "        p = 4 * self.side1\n",
        "        print(f\"perimeter = {p}\")\n",
        "s = Square(7)\n",
        "s.perimeter()"
      ],
      "metadata": {
        "colab": {
          "base_uri": "https://localhost:8080/"
        },
        "id": "fLYiWra2EJGt",
        "outputId": "cd09f2c1-2d43-4235-bc7a-ce83e2e2678b"
      },
      "execution_count": 25,
      "outputs": [
        {
          "output_type": "stream",
          "name": "stdout",
          "text": [
            "perimeter = 28\n"
          ]
        }
      ]
    },
    {
      "cell_type": "code",
      "source": [
        "# currency converter\n",
        "# data from the Central Bank of Russia as of the current date\n",
        "import pandas as pd\n",
        "class Dollar:\n",
        "    def __init__(self, amount=0, usd_rub=None):\n",
        "        self.amount = amount\n",
        "        self.usd_rub = usd_rub\n",
        "    def USD2RUB(self):\n",
        "        if not self.usd_rub:\n",
        "            data= pd.read_html(\n",
        "                'https://www.cbr.ru/eng/currency_base/daily/')[0]\n",
        "            self.usd_rub = data[data['Currency']==\"US Dollar\"][\"Rate\"].values[0]\n",
        "        print(f\"the USD RUB current exchange rate: {self.usd_rub}\")\n",
        "        return round(self.amount * self.usd_rub, 4)\n",
        "    @property\n",
        "    def amount(self):\n",
        "        print(\"getting amount\")\n",
        "        return self._amount\n",
        "    @amount.setter\n",
        "    def amount(self, value):\n",
        "        print(\"setting amount\")\n",
        "        if value < 0:\n",
        "            raise ValueError(\"negative values are not allowed\")\n",
        "        self._amount = value\n",
        "dollars1 = Dollar(1153.5)\n",
        "print(dollars1.amount, dollars1.USD2RUB())\n",
        "dollars2 = Dollar(1153.5, 84.31)\n",
        "print(dollars2.amount, dollars2.USD2RUB())"
      ],
      "metadata": {
        "colab": {
          "base_uri": "https://localhost:8080/"
        },
        "id": "2mzz-f4vE6eX",
        "outputId": "d13fb066-4c4f-4ee0-ed6b-0b93b21ffe6c"
      },
      "execution_count": 26,
      "outputs": [
        {
          "output_type": "stream",
          "name": "stdout",
          "text": [
            "setting amount\n",
            "getting amount\n",
            "the USD RUB current exchange rate: 88.8133\n",
            "getting amount\n",
            "1153.5 102446.1416\n",
            "setting amount\n",
            "getting amount\n",
            "the USD RUB current exchange rate: 84.31\n",
            "getting amount\n",
            "1153.5 97251.585\n"
          ]
        }
      ]
    },
    {
      "cell_type": "markdown",
      "source": [
        "Object interactions || Interacciones de objetos"
      ],
      "metadata": {
        "id": "FZTQfm18sK2Z"
      }
    },
    {
      "cell_type": "code",
      "source": [
        "class Object:\n",
        "    examples: dict = dict()\n",
        "    def __init__(self, id: int, coins: int):\n",
        "        self.id = id\n",
        "        self.coins = coins\n",
        "        Object.examples[id] = self\n",
        "    def pass_coin(self, to_id: int, number: int):\n",
        "        Object.examples[to_id].coins += number\n",
        "        self.coins -= number\n",
        "Object(1,10); Object(2,15)\n",
        "print(Object.examples[1].coins, Object.examples[2].coins)\n",
        "Object.examples[1].pass_coin(to_id=2, number=3)\n",
        "print(Object.examples[1].coins, Object.examples[2].coins)"
      ],
      "metadata": {
        "colab": {
          "base_uri": "https://localhost:8080/"
        },
        "id": "rzHx_D96sM7S",
        "outputId": "32262925-acdd-434c-9631-a675d9f9c6b0"
      },
      "execution_count": 27,
      "outputs": [
        {
          "output_type": "stream",
          "name": "stdout",
          "text": [
            "10 15\n",
            "7 18\n"
          ]
        }
      ]
    },
    {
      "cell_type": "code",
      "source": [
        "class Robot:\n",
        "    population = 0\n",
        "    def __init__(self, id):\n",
        "        self.id = id\n",
        "        print(f\"initialization || inicialización Robot-{self.id}\")\n",
        "        Robot.population += 1\n",
        "    def die(self):\n",
        "        print(f\"Robot-{self.id} is destroyed || está destruido\")\n",
        "        Robot.population -= 1\n",
        "        if Robot.population == 0:\n",
        "            print(f\"Robot-{self.id} was the last || fue el último\")\n",
        "        else:\n",
        "            print(f\"number of remaining robots || número de robots restantes: \",\n",
        "                  f\"{Robot.population:d}\")\n",
        "    def hi(self):\n",
        "        print(f\"Hello, I am || Hola, soy Robot-{self.id}\")\n",
        "    @classmethod\n",
        "    def how_many(cls):\n",
        "        print(f\"number of robots on task || número de robots en la tarea: \",\n",
        "              f\"{Robot.population:d}\")\n",
        "droid1 = Robot(\"R2-D2\"); droid1.hi(); Robot.how_many()\n",
        "droid2 = Robot(\"C-3PO\"); droid2.hi(); Robot.how_many()\n",
        "print(\"\\nat this time the robots are doing some work\",\n",
        "      \"\\nen este momento los robots están haciendo algún trabajo\")\n",
        "print(\"\\nthe task is completed, now the robots will be destroyed\",\n",
        "      \"\\nla tarea está completa, ahora los robots serán destruidos\", \"\\n\")\n",
        "droid1.die(); droid2.die(); Robot.how_many()"
      ],
      "metadata": {
        "colab": {
          "base_uri": "https://localhost:8080/"
        },
        "id": "vMvGVBhl5NBw",
        "outputId": "2b000a0e-ec14-4048-e4a1-e42c9af27c79"
      },
      "execution_count": 28,
      "outputs": [
        {
          "output_type": "stream",
          "name": "stdout",
          "text": [
            "initialization || inicialización Robot-R2-D2\n",
            "Hello, I am || Hola, soy Robot-R2-D2\n",
            "number of robots on task || número de robots en la tarea:  1\n",
            "initialization || inicialización Robot-C-3PO\n",
            "Hello, I am || Hola, soy Robot-C-3PO\n",
            "number of robots on task || número de robots en la tarea:  2\n",
            "\n",
            "at this time the robots are doing some work \n",
            "en este momento los robots están haciendo algún trabajo\n",
            "\n",
            "the task is completed, now the robots will be destroyed \n",
            "la tarea está completa, ahora los robots serán destruidos \n",
            "\n",
            "Robot-R2-D2 is destroyed || está destruido\n",
            "number of remaining robots || número de robots restantes:  1\n",
            "Robot-C-3PO is destroyed || está destruido\n",
            "Robot-C-3PO was the last || fue el último\n",
            "number of robots on task || número de robots en la tarea:  0\n"
          ]
        }
      ]
    },
    {
      "cell_type": "markdown",
      "source": [
        "Classes and subclasses with changes of object properties\n",
        "\n",
        "Clases y subclases con cambios de propiedades de objetos"
      ],
      "metadata": {
        "id": "XXQ6xSamOt5S"
      }
    },
    {
      "cell_type": "code",
      "source": [
        "import time, random\n",
        "from IPython.display import display, HTML, Latex\n",
        "class BaseString:\n",
        "    def __init__(self, string=\"\", start=\"\\033[1m\", end=\"\\033[0m\"):\n",
        "        self.string = string\n",
        "        self.start = start\n",
        "        self.end = end\n",
        "    def __str__(self):\n",
        "        return self.start + self.string + self.end\n",
        "    @property\n",
        "    def var(self):\n",
        "        for k, v in globals().items():\n",
        "            if v is self: return k\n",
        "    def __repr__(self):\n",
        "        result = f\"<class: {type(self).__name__}, \"\n",
        "        result += f\"object: {self.var}, \"\n",
        "        result += f\"string: {self.string}>\"\n",
        "        return result\n",
        "    def set_string(self, string):\n",
        "        self.string = string\n",
        "bstring = BaseString()\n",
        "bstring.set_string(\"HELLO\")\n",
        "print(bstring)\n",
        "setattr(bstring, 'string', 'HOLA')\n",
        "print(bstring)\n",
        "bstring"
      ],
      "metadata": {
        "colab": {
          "base_uri": "https://localhost:8080/"
        },
        "id": "0CPCMJkJH9VH",
        "outputId": "df650a41-3233-4d25-edcb-9bbbaa9de650"
      },
      "execution_count": 29,
      "outputs": [
        {
          "output_type": "stream",
          "name": "stdout",
          "text": [
            "\u001b[1mHELLO\u001b[0m\n",
            "\u001b[1mHOLA\u001b[0m\n"
          ]
        },
        {
          "output_type": "execute_result",
          "data": {
            "text/plain": [
              "<class: BaseString, object: bstring, string: HOLA>"
            ]
          },
          "metadata": {},
          "execution_count": 29
        }
      ]
    },
    {
      "cell_type": "code",
      "source": [
        "class ColorString(BaseString):\n",
        "    def __init__(self, string=\"\", color=(0, 0, 0)):\n",
        "        super().__init__(string, start=\"\\033[1;38;2;{};{};{}m\")\n",
        "        self.color = color\n",
        "    def __str__(self):\n",
        "        return self.start.format(*self.color) + self.string + self.end\n",
        "cstring = ColorString('0123456789')\n",
        "print(cstring)\n",
        "setattr(cstring, 'color', (200, 10, 200))\n",
        "print(cstring)"
      ],
      "metadata": {
        "colab": {
          "base_uri": "https://localhost:8080/"
        },
        "id": "zTflpWN020DB",
        "outputId": "0277056f-442f-46dd-e81c-7a47980688c1"
      },
      "execution_count": 30,
      "outputs": [
        {
          "output_type": "stream",
          "name": "stdout",
          "text": [
            "\u001b[1;38;2;0;0;0m0123456789\u001b[0m\n",
            "\u001b[1;38;2;200;10;200m0123456789\u001b[0m\n"
          ]
        }
      ]
    },
    {
      "cell_type": "code",
      "source": [
        "class TimerString(ColorString):\n",
        "    def __init__(self, string=\"\", delay=0, **kwargs):\n",
        "        super().__init__(string, **kwargs)\n",
        "        self.delay = delay\n",
        "    def timer_print(self):\n",
        "        for char in self.string:\n",
        "            print(self.start.format(*self.color) + char + self.end,\n",
        "                  end=\"\", flush=True)\n",
        "            time.sleep(self.delay)\n",
        "        print()\n",
        "tstring = TimerString('0123456789', color=(200, 10, 10))\n",
        "tstring.timer_print()\n",
        "setattr(tstring, 'delay', 1)\n",
        "setattr(tstring, 'color', (10, 200, 100))\n",
        "tstring.timer_print()"
      ],
      "metadata": {
        "colab": {
          "base_uri": "https://localhost:8080/"
        },
        "id": "ZBa-aquWvYH7",
        "outputId": "524b957e-d031-4cf6-9d2f-7fd45f6e4b49"
      },
      "execution_count": 31,
      "outputs": [
        {
          "output_type": "stream",
          "name": "stdout",
          "text": [
            "\u001b[1;38;2;200;10;10m0\u001b[0m\u001b[1;38;2;200;10;10m1\u001b[0m\u001b[1;38;2;200;10;10m2\u001b[0m\u001b[1;38;2;200;10;10m3\u001b[0m\u001b[1;38;2;200;10;10m4\u001b[0m\u001b[1;38;2;200;10;10m5\u001b[0m\u001b[1;38;2;200;10;10m6\u001b[0m\u001b[1;38;2;200;10;10m7\u001b[0m\u001b[1;38;2;200;10;10m8\u001b[0m\u001b[1;38;2;200;10;10m9\u001b[0m\n",
            "\u001b[1;38;2;10;200;100m0\u001b[0m\u001b[1;38;2;10;200;100m1\u001b[0m\u001b[1;38;2;10;200;100m2\u001b[0m\u001b[1;38;2;10;200;100m3\u001b[0m\u001b[1;38;2;10;200;100m4\u001b[0m\u001b[1;38;2;10;200;100m5\u001b[0m\u001b[1;38;2;10;200;100m6\u001b[0m\u001b[1;38;2;10;200;100m7\u001b[0m\u001b[1;38;2;10;200;100m8\u001b[0m\u001b[1;38;2;10;200;100m9\u001b[0m\n"
          ]
        }
      ]
    },
    {
      "cell_type": "code",
      "source": [
        "class LatexString(BaseString):\n",
        "    \"\"\"\n",
        "    latexfont:\n",
        "    normal, rm, frak, scr, it, bf, sf, tt, cal, bb\n",
        "    latexfontsize:\n",
        "    Huge, huge, LARGE, Large, large, normalsize (default),\n",
        "    small, footnotesize, scriptsize, tiny\n",
        "    latexcolor:\n",
        "    black, blue, brown, cyan, darkgray, gray, green,\n",
        "    lightgray, lime, magenta, olive, orange, pink, purple,\n",
        "    red, teal, violet, white, yellow\n",
        "    \"\"\"\n",
        "    def __init__(self, string=\"\",\n",
        "                 latexfont=\"cal\",\n",
        "                 latexfontsize=\"normalsize\",\n",
        "                 latexcolor=\"black\"):\n",
        "        super().__init__(string)\n",
        "        self.latexfont = latexfont\n",
        "        self.latexfontsize = latexfontsize\n",
        "        self.latexcolor = latexcolor\n",
        "        self.latexstring = self.string.replace(\" \", \" \\; \")\n",
        "    def latex_print(self):\n",
        "        self.start = \"$\\displaystyle{\\\\\" + self.latexfontsize\n",
        "        self.start += \"\\math\" + self.latexfont\n",
        "        self.start += \"{\\color{\" + self.latexcolor + \"}{\"\n",
        "        self.end = \"}}}$\"\n",
        "        display(Latex(self.start + self.latexstring + self.end))\n",
        "lstring = LatexString(\"\\\\frac{x}{y} = \\\\frac{2}{3}\")\n",
        "setattr(lstring, 'latexfont', 'it')\n",
        "setattr(lstring, 'latexcolor', 'green')\n",
        "setattr(lstring, 'latexfontsize', 'Huge')\n",
        "lstring.latex_print()\n",
        "lstring"
      ],
      "metadata": {
        "colab": {
          "base_uri": "https://localhost:8080/",
          "height": 127
        },
        "id": "NF-JywhrHnPU",
        "outputId": "1a8e4327-22e4-426b-ef79-19ddde32e4e4"
      },
      "execution_count": 32,
      "outputs": [
        {
          "output_type": "display_data",
          "data": {
            "text/plain": [
              "<IPython.core.display.Latex object>"
            ],
            "text/latex": "$\\displaystyle{\\Huge\\mathit{\\color{green}{\\frac{x}{y} \\; = \\; \\frac{2}{3}}}}$"
          },
          "metadata": {}
        },
        {
          "output_type": "execute_result",
          "data": {
            "text/plain": [
              "<class: LatexString, object: lstring, string: \\frac{x}{y} = \\frac{2}{3}>"
            ]
          },
          "metadata": {},
          "execution_count": 32
        }
      ]
    },
    {
      "cell_type": "code",
      "source": [
        "class HTMLString(BaseString):\n",
        "    def __init__(self, string='',\n",
        "                 htmlfontsize='30',\n",
        "                 htmlfontfamily='Roboto'):\n",
        "        super().__init__(string)\n",
        "        self.htmlfontsize = htmlfontsize\n",
        "        self.htmlfontfamily = htmlfontfamily\n",
        "        self.html = self.generate_html()\n",
        "    def generate_html(self):\n",
        "        r = random.randint(10000, 20000)\n",
        "        self.start =\"<style>@import 'https://fonts.googleapis.com/css?family=\"\n",
        "        self.start += self.htmlfontfamily + \"&effect=3d'; #color\" + str(r)\n",
        "        self.start += \"{font-family:\" + self.htmlfontfamily + \"; color:white; \"\n",
        "        self.start += \"padding-left:10px; font-size:\" + str(self.htmlfontsize)\n",
        "        self.start += \"px;}</style><h1 id='color\"\"\" + str(r)\n",
        "        self.start += \"' class='font-effect-3d'>\"\n",
        "        self.end = \"\"\"</h1>\n",
        "        <script>\n",
        "          var tc=setInterval(function() {\n",
        "          var iddoc=document.getElementById('color\"\"\"+str(r)+\"\"\"'),\n",
        "              sec=new Date().getTime()% 60000/1000;\n",
        "          var r=Math.sin(sec/10*Math.PI)*127+128,\n",
        "              g=Math.sin(sec/8*Math.PI)*127+128,\n",
        "              b=Math.sin(sec/6*Math.PI)*127+128;\n",
        "          var col=\"rgb(\"+r+\",\"+g+\",\"+b+\")\";\n",
        "          iddoc.style.color=col; },1);\n",
        "        </script>\"\"\"\n",
        "        del r\n",
        "        return self.start + self.string + self.end\n",
        "    def html_print(self):\n",
        "        self.html = self.generate_html()\n",
        "        display(HTML(self.html))\n",
        "hstring = HTMLString(\"HELLO! HOLA!\")\n",
        "setattr(hstring, 'htmlfontsize', 28)\n",
        "setattr(hstring, 'htmlfontfamily', 'Akronim')\n",
        "hstring.html_print()"
      ],
      "metadata": {
        "colab": {
          "base_uri": "https://localhost:8080/",
          "height": 74
        },
        "id": "Efg_2El_LoHL",
        "outputId": "f88072b4-9541-4cbf-99fa-2a022e904328"
      },
      "execution_count": 34,
      "outputs": [
        {
          "output_type": "display_data",
          "data": {
            "text/plain": [
              "<IPython.core.display.HTML object>"
            ],
            "text/html": [
              "<style>@import 'https://fonts.googleapis.com/css?family=Akronim&effect=3d'; #color17886{font-family:Akronim; color:white; padding-left:10px; font-size:28px;}</style><h1 id='color17886' class='font-effect-3d'>HELLO! HOLA!</h1>\n",
              "        <script>\n",
              "          var tc=setInterval(function() {\n",
              "          var iddoc=document.getElementById('color17886'),\n",
              "              sec=new Date().getTime()% 60000/1000;\n",
              "          var r=Math.sin(sec/10*Math.PI)*127+128,\n",
              "              g=Math.sin(sec/8*Math.PI)*127+128,\n",
              "              b=Math.sin(sec/6*Math.PI)*127+128;\n",
              "          var col=\"rgb(\"+r+\",\"+g+\",\"+b+\")\";\n",
              "          iddoc.style.color=col; },1);\n",
              "        </script>"
            ]
          },
          "metadata": {}
        }
      ]
    }
  ]
}