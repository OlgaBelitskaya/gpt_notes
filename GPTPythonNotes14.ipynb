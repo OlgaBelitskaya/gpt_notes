{
  "nbformat": 4,
  "nbformat_minor": 0,
  "metadata": {
    "colab": {
      "provenance": []
    },
    "kernelspec": {
      "name": "python3",
      "display_name": "Python 3"
    },
    "language_info": {
      "name": "python"
    }
  },
  "cells": [
    {
      "cell_type": "markdown",
      "source": [
        "# 14. Dictionaries and sets: manipulations, methods, comprehensions\n",
        "# 14. Diccionarios y conjuntos: manipulaciones, métodos, comprensiones"
      ],
      "metadata": {
        "id": "mmkAA7MCUac6"
      }
    },
    {
      "cell_type": "markdown",
      "source": [
        "Sets (sequence types)\n",
        "- changeable (dynamic modification)\n",
        "- unordered (non-indexed)\n",
        "- iterable (iterators can loop through objects)\n",
        "- containers (they contain elements)\n",
        "- consist of elements of different or same types\n",
        "- repeating elements are impossible\n",
        "\n",
        "Sets (tipos de secuencia)\n",
        "- cambiable (modificación dinámica)\n",
        "- desordenado (no indexado)\n",
        "- iterable (los iteradores pueden recorrer objetos)\n",
        "- contenedores (contienen elementos)\n",
        "- consisten en elementos de tipos diferentes o iguales\n",
        "- los elementos repetidos son imposibles"
      ],
      "metadata": {
        "id": "Yn_Vw8Z9fTmu"
      }
    },
    {
      "cell_type": "code",
      "execution_count": 1,
      "metadata": {
        "id": "U2QDAExuUTKV",
        "colab": {
          "base_uri": "https://localhost:8080/"
        },
        "outputId": "944bfb8d-f670-4571-8485-c516baba6d6f"
      },
      "outputs": [
        {
          "output_type": "stream",
          "name": "stdout",
          "text": [
            "['__and__', '__class__', '__class_getitem__', '__contains__', '__delattr__', '__dir__']\n",
            "['__doc__', '__eq__', '__format__', '__ge__', '__getattribute__', '__gt__']\n",
            "['__hash__', '__iand__', '__init__', '__init_subclass__', '__ior__', '__isub__']\n",
            "['__iter__', '__ixor__', '__le__', '__len__', '__lt__', '__ne__']\n",
            "['__new__', '__or__', '__rand__', '__reduce__', '__reduce_ex__', '__repr__']\n",
            "['__ror__', '__rsub__', '__rxor__', '__setattr__', '__sizeof__', '__str__']\n",
            "['__sub__', '__subclasshook__', '__xor__', 'add', 'clear', 'copy']\n",
            "['difference', 'difference_update', 'discard', 'intersection', 'intersection_update', 'isdisjoint']\n",
            "['issubset', 'issuperset', 'pop', 'remove', 'symmetric_difference', 'symmetric_difference_update']\n",
            "['union', 'update']\n"
          ]
        }
      ],
      "source": [
        "for el in [dir(set())[i:i+6] for i in range(0, 60, 6)]:\n",
        "    print(el)"
      ]
    },
    {
      "cell_type": "code",
      "source": [
        "set00 = set()\n",
        "set01 = {1, 2, 3, 1, 2, 3, 'a', 'b', 'c'}\n",
        "set02 = {*[1, 2, 3, 'a', 'b', 'c', 1, 2, 3]}\n",
        "set03 = {*((1, 2), (3, 4), (1, 2), (4, 3))}\n",
        "set04 = {*range(10)}\n",
        "set05 = {*(i for i in range(3))}\n",
        "set06 = {*{1: 'a', 2: 'b', 3: 'c'}}\n",
        "set07 = {*'abc def'}\n",
        "set08 = set(['abc', '123'])\n",
        "set09 = {None}\n",
        "print('type'+10*' ', '\\t', 'value'+30*' ', '=>\\t',\n",
        "      'bool', '\\t', 'all', '\\t', 'any', '\\n')\n",
        "for s in [set00, set01, set02, set03, set04, set05, set06,\n",
        "          set07, set08, set09]:\n",
        "    print(type(s), '\\t', f'{str(s):35}', '=>\\t',\n",
        "          bool(s), '\\t', all(s), '\\t', any(s))"
      ],
      "metadata": {
        "colab": {
          "base_uri": "https://localhost:8080/"
        },
        "id": "eKUjGaF_ce3a",
        "outputId": "bd8c1297-b49b-4673-b7db-4ddb92e46643"
      },
      "execution_count": 2,
      "outputs": [
        {
          "output_type": "stream",
          "name": "stdout",
          "text": [
            "type           \t value                               =>\t bool \t all \t any \n",
            "\n",
            "<class 'set'> \t set()                               =>\t False \t True \t False\n",
            "<class 'set'> \t {1, 2, 3, 'b', 'c', 'a'}            =>\t True \t True \t True\n",
            "<class 'set'> \t {1, 2, 3, 'a', 'b', 'c'}            =>\t True \t True \t True\n",
            "<class 'set'> \t {(1, 2), (3, 4), (4, 3)}            =>\t True \t True \t True\n",
            "<class 'set'> \t {0, 1, 2, 3, 4, 5, 6, 7, 8, 9}      =>\t True \t False \t True\n",
            "<class 'set'> \t {0, 1, 2}                           =>\t True \t False \t True\n",
            "<class 'set'> \t {1, 2, 3}                           =>\t True \t True \t True\n",
            "<class 'set'> \t {' ', 'd', 'e', 'a', 'f', 'b', 'c'} =>\t True \t True \t True\n",
            "<class 'set'> \t {'123', 'abc'}                      =>\t True \t True \t True\n",
            "<class 'set'> \t {None}                              =>\t True \t False \t False\n"
          ]
        }
      ]
    },
    {
      "cell_type": "markdown",
      "source": [
        "Frozensets (sequence types)\n",
        "- unchangeable\n",
        "- unordered (non-indexed)\n",
        "- iterable (iterators can loop through objects)\n",
        "- containers (they contain elements)\n",
        "- consist of elements of different or same types\n",
        "- the object itself and its elements are unique\n",
        "\n",
        "Frozensets (tipos de secuencia)\n",
        "- inmutable\n",
        "- desordenado (no indexado)\n",
        "- iterable (los iteradores pueden recorrer objetos)\n",
        "- contenedores (contienen elementos)\n",
        "- consisten en elementos de tipos diferentes o iguales\n",
        "- el objeto en sí y sus elementos son únicos"
      ],
      "metadata": {
        "id": "50MGwV9Mfawq"
      }
    },
    {
      "cell_type": "code",
      "source": [
        "for el in [dir(frozenset())[i:i+6] for i in range(0, 48, 6)]:\n",
        "    print(el)"
      ],
      "metadata": {
        "colab": {
          "base_uri": "https://localhost:8080/"
        },
        "id": "hND-2Nn4b-1F",
        "outputId": "5f0bef37-e0f5-48df-be53-dd0a3c1fa4ca"
      },
      "execution_count": 3,
      "outputs": [
        {
          "output_type": "stream",
          "name": "stdout",
          "text": [
            "['__and__', '__class__', '__class_getitem__', '__contains__', '__delattr__', '__dir__']\n",
            "['__doc__', '__eq__', '__format__', '__ge__', '__getattribute__', '__gt__']\n",
            "['__hash__', '__init__', '__init_subclass__', '__iter__', '__le__', '__len__']\n",
            "['__lt__', '__ne__', '__new__', '__or__', '__rand__', '__reduce__']\n",
            "['__reduce_ex__', '__repr__', '__ror__', '__rsub__', '__rxor__', '__setattr__']\n",
            "['__sizeof__', '__str__', '__sub__', '__subclasshook__', '__xor__', 'copy']\n",
            "['difference', 'intersection', 'isdisjoint', 'issubset', 'issuperset', 'symmetric_difference']\n",
            "['union']\n"
          ]
        }
      ]
    },
    {
      "cell_type": "code",
      "source": [
        "fset00 = frozenset()\n",
        "fset01 = frozenset({1, 2, 3, 1, 2, 3, 'a', 'b', 'c'})\n",
        "fset02 = frozenset(set02)\n",
        "fset03 = frozenset(((1, 2), (3, 4), (1, 2), (4, 3)))\n",
        "fset04 = frozenset(range(7))\n",
        "fset05 = frozenset((i for i in range(3)))\n",
        "fset06 = frozenset({1: 'a', 2: 'b', 3: 'c'})\n",
        "fset07 = frozenset('ab c')\n",
        "fset08 = frozenset(['abc', '123'])\n",
        "fset09 = frozenset((None, ))\n",
        "print('type'+20*' ', '\\t', 'value'+22*' ', '=>\\t',\n",
        "      'bool', '\\t', 'all', '\\t', 'any', '\\t', 'hash', '\\n')\n",
        "for fs in [fset00, fset01, fset02, fset03, fset04, fset05,\n",
        "           fset06, fset07, fset08, fset09]:\n",
        "    print(type(fs), '\\t', f'{str(fs):35}', '=>\\t',\n",
        "          bool(fs), '\\t', all(fs), '\\t', any(fs), '\\t', hash(fs))"
      ],
      "metadata": {
        "colab": {
          "base_uri": "https://localhost:8080/"
        },
        "id": "j7K8fLsiaBPg",
        "outputId": "d75af718-946e-467c-fa78-e30a90b6b29a"
      },
      "execution_count": 4,
      "outputs": [
        {
          "output_type": "stream",
          "name": "stdout",
          "text": [
            "type                     \t value                       =>\t bool \t all \t any \t hash \n",
            "\n",
            "<class 'frozenset'> \t frozenset()                         =>\t False \t True \t False \t 133146708735736\n",
            "<class 'frozenset'> \t frozenset({1, 2, 3, 'b', 'c', 'a'}) =>\t True \t True \t True \t -6450305170441474044\n",
            "<class 'frozenset'> \t frozenset({1, 2, 3, 'b', 'c', 'a'}) =>\t True \t True \t True \t -6450305170441474044\n",
            "<class 'frozenset'> \t frozenset({(1, 2), (3, 4), (4, 3)}) =>\t True \t True \t True \t -7601582198999199652\n",
            "<class 'frozenset'> \t frozenset({0, 1, 2, 3, 4, 5, 6})    =>\t True \t False \t True \t -3936811188946224554\n",
            "<class 'frozenset'> \t frozenset({0, 1, 2})                =>\t True \t False \t True \t -4850097147344926394\n",
            "<class 'frozenset'> \t frozenset({1, 2, 3})                =>\t True \t True \t True \t -272375401224217160\n",
            "<class 'frozenset'> \t frozenset({'c', ' ', 'b', 'a'})     =>\t True \t True \t True \t -7709339763038566998\n",
            "<class 'frozenset'> \t frozenset({'123', 'abc'})           =>\t True \t True \t True \t 209424202752542800\n",
            "<class 'frozenset'> \t frozenset({None})                   =>\t True \t False \t False \t -4756959075566819265\n"
          ]
        }
      ]
    },
    {
      "cell_type": "code",
      "source": [
        "class MySet(set):\n",
        "    def __repr__(self):\n",
        "        return super().__repr__()[6:-1]\n",
        "my_set = MySet({1, 'a', 2, 'b', 3, 'c'})\n",
        "my_set.__setattr__('name', 'int_letter')\n",
        "my_set.info = 'a set with custom attributes'\n",
        "print(my_set, my_set.__str__(), my_set.__repr__())\n",
        "print(my_set.name, my_set.__getattribute__('name'))\n",
        "print(my_set.info, my_set.__getattribute__('info'))\n",
        "my_set.remove(1)\n",
        "print(my_set, my_set.__str__(), my_set.__repr__())"
      ],
      "metadata": {
        "colab": {
          "base_uri": "https://localhost:8080/"
        },
        "id": "vo-bdnqr-ppb",
        "outputId": "f79685ee-528e-40b6-87cc-8b287d7f2001"
      },
      "execution_count": 5,
      "outputs": [
        {
          "output_type": "stream",
          "name": "stdout",
          "text": [
            "{1, 2, 3, 'b', 'c', 'a'} {1, 2, 3, 'b', 'c', 'a'} {1, 2, 3, 'b', 'c', 'a'}\n",
            "int_letter int_letter\n",
            "a set with custom attributes a set with custom attributes\n",
            "{2, 3, 'b', 'c', 'a'} {2, 3, 'b', 'c', 'a'} {2, 3, 'b', 'c', 'a'}\n"
          ]
        }
      ]
    },
    {
      "cell_type": "code",
      "source": [
        "class MyFrozenSet(frozenset):\n",
        "    def __repr__(self):\n",
        "        return 'frozenset(' + super().__repr__()[12:]\n",
        "my_frozenset = MyFrozenSet({1, 'a', 2, 'b', 3, 'c'})\n",
        "my_frozenset.__setattr__('name', 'int_letter')\n",
        "my_frozenset.info = 'a frozenset with custom attributes'\n",
        "print(my_frozenset, my_frozenset.__str__(), my_frozenset.__repr__())\n",
        "print(my_frozenset.name, my_frozenset.__getattribute__('name'))\n",
        "print(my_frozenset.info, my_frozenset.__getattribute__('info'))\n",
        "# my_frozenset.remove(1) => # AttributeError"
      ],
      "metadata": {
        "colab": {
          "base_uri": "https://localhost:8080/"
        },
        "id": "B_1psbfZOH-y",
        "outputId": "d79061c1-afce-499c-86dc-c777483e5858"
      },
      "execution_count": 6,
      "outputs": [
        {
          "output_type": "stream",
          "name": "stdout",
          "text": [
            "frozenset({1, 2, 3, 'b', 'c', 'a'}) frozenset({1, 2, 3, 'b', 'c', 'a'}) frozenset({1, 2, 3, 'b', 'c', 'a'})\n",
            "int_letter int_letter\n",
            "a frozenset with custom attributes a frozenset with custom attributes\n"
          ]
        }
      ]
    },
    {
      "cell_type": "markdown",
      "source": [
        "Set manipulations and methods || Manipulaciones y métodos de conjuntos"
      ],
      "metadata": {
        "id": "RNn-w597fuuH"
      }
    },
    {
      "cell_type": "code",
      "source": [
        "lst = [1, 2, 3, 1, 2, 3, 'a', 'b', 'c']\n",
        "set_lst = set(lst)\n",
        "frozenset_lst = frozenset(lst)\n",
        "len(lst) == len(set_lst), len(frozenset_lst) == len(set_lst)"
      ],
      "metadata": {
        "colab": {
          "base_uri": "https://localhost:8080/"
        },
        "id": "XVAkBEzvFABC",
        "outputId": "320e1a10-19ac-4322-e9b5-a34ce8053fb7"
      },
      "execution_count": 7,
      "outputs": [
        {
          "output_type": "execute_result",
          "data": {
            "text/plain": [
              "(False, True)"
            ]
          },
          "metadata": {},
          "execution_count": 7
        }
      ]
    },
    {
      "cell_type": "code",
      "source": [
        "set1 = {1, 2, 3,'♔', '♕', '♖', '♗', '♘', '♙'}\n",
        "set2 = set([1, 2, 3, 4, 5, 1, 2])\n",
        "print(set1, set2, set1 & set2)\n",
        "print(set1, set2, set1.intersection(set2))\n",
        "set1 &= set2\n",
        "print(set1, set2)"
      ],
      "metadata": {
        "colab": {
          "base_uri": "https://localhost:8080/"
        },
        "id": "xvHIfaOtfweZ",
        "outputId": "52c4f586-208c-4de9-c137-9eebc86c7cf2"
      },
      "execution_count": 8,
      "outputs": [
        {
          "output_type": "stream",
          "name": "stdout",
          "text": [
            "{1, 2, 3, '♘', '♔', '♙', '♕', '♗', '♖'} {1, 2, 3, 4, 5} {1, 2, 3}\n",
            "{1, 2, 3, '♘', '♔', '♙', '♕', '♗', '♖'} {1, 2, 3, 4, 5} {1, 2, 3}\n",
            "{1, 2, 3} {1, 2, 3, 4, 5}\n"
          ]
        }
      ]
    },
    {
      "cell_type": "code",
      "source": [
        "set1 = {1, 2, 3,'♔', '♕', '♖', '♗', '♘', '♙'}\n",
        "set2 = set([1, 2, 3, 4, 5, 1, 2])\n",
        "print(set1, set2, set1 | set2)\n",
        "print(set1, set2, set1.union(set2))\n",
        "set1 |= set2\n",
        "print(set1, set2)"
      ],
      "metadata": {
        "colab": {
          "base_uri": "https://localhost:8080/"
        },
        "id": "3HK41Z8PxP5j",
        "outputId": "284f199d-31f6-43f3-8ed6-439ee9a5ed45"
      },
      "execution_count": 9,
      "outputs": [
        {
          "output_type": "stream",
          "name": "stdout",
          "text": [
            "{1, 2, 3, '♘', '♔', '♙', '♕', '♗', '♖'} {1, 2, 3, 4, 5} {1, 2, 3, 4, 5, '♘', '♔', '♙', '♕', '♗', '♖'}\n",
            "{1, 2, 3, '♘', '♔', '♙', '♕', '♗', '♖'} {1, 2, 3, 4, 5} {1, 2, 3, 4, 5, '♘', '♔', '♙', '♕', '♗', '♖'}\n",
            "{1, 2, 3, 4, 5, '♘', '♔', '♙', '♕', '♗', '♖'} {1, 2, 3, 4, 5}\n"
          ]
        }
      ]
    },
    {
      "cell_type": "code",
      "source": [
        "set1 = {1, 2, 3,'♔', '♕', '♖', '♗', '♘', '♙'}\n",
        "set2 = set([1, 2, 3, 4, 5, 1, 2])\n",
        "set1.update(set2); set1"
      ],
      "metadata": {
        "colab": {
          "base_uri": "https://localhost:8080/"
        },
        "id": "TBnjpltfxSYS",
        "outputId": "ca6eca94-2948-466b-b42c-baf93663e2a9"
      },
      "execution_count": 10,
      "outputs": [
        {
          "output_type": "execute_result",
          "data": {
            "text/plain": [
              "{1, 2, 3, 4, 5, '♔', '♕', '♖', '♗', '♘', '♙'}"
            ]
          },
          "metadata": {},
          "execution_count": 10
        }
      ]
    },
    {
      "cell_type": "code",
      "source": [
        "set1 = {1, 2, 3,'♔', '♕', '♖', '♗', '♘', '♙'}\n",
        "set2 = set([1, 2, 3, 4, 5, 1, 2])\n",
        "set_ = {*set1, *set2}; print(set_)\n",
        "set_ = {*frozenset(set1), *frozenset(set2)}; print(set_)\n",
        "frozenset_ = frozenset((*set1, *set2)); print(frozenset_)\n",
        "lst1 = [1, 2, 3,'♔', '♕', '♖', '♗', '♘', '♙']\n",
        "lst2 = [1, 2, 3, 4, 5, 1, 2]\n",
        "set_ = {*lst1, *lst2}; print(set_)"
      ],
      "metadata": {
        "colab": {
          "base_uri": "https://localhost:8080/"
        },
        "id": "AGeAwe4vO3E4",
        "outputId": "5abf6cc2-ef55-41fd-92c4-bfc8c4d6c643"
      },
      "execution_count": 11,
      "outputs": [
        {
          "output_type": "stream",
          "name": "stdout",
          "text": [
            "{1, 2, 3, 4, 5, '♘', '♔', '♙', '♕', '♗', '♖'}\n",
            "{1, 2, 3, 4, 5, '♘', '♔', '♙', '♕', '♗', '♖'}\n",
            "frozenset({1, 2, 3, 4, 5, '♗', '♘', '♙', '♕', '♔', '♖'})\n",
            "{1, 2, 3, 4, 5, '♙', '♘', '♗', '♕', '♔', '♖'}\n"
          ]
        }
      ]
    },
    {
      "cell_type": "code",
      "source": [
        "set1, set2 = {1, 2, 3, 4}, {1, 1, 2}\n",
        "set3, set4 = {14, 3, 9, 'a', True}, {1, 2, 5, 7, 'a', 'dddd'}\n",
        "print (f'{set1 = }, {set2 = }, {set1 - set2 = }, {set2 - set1 = }')\n",
        "print (f'{set1 = }, {set2 = }, {set3 - set4 = }, {set4 - set3 = }')"
      ],
      "metadata": {
        "colab": {
          "base_uri": "https://localhost:8080/"
        },
        "id": "LuV-xHW2zYMO",
        "outputId": "4845b6df-4055-4abc-ecaa-dffe2b1945bf"
      },
      "execution_count": 12,
      "outputs": [
        {
          "output_type": "stream",
          "name": "stdout",
          "text": [
            "set1 = {1, 2, 3, 4}, set2 = {1, 2}, set1 - set2 = {3, 4}, set2 - set1 = set()\n",
            "set1 = {1, 2, 3, 4}, set2 = {1, 2}, set3 - set4 = {9, 3, 14}, set4 - set3 = {'dddd', 2, 5, 7}\n"
          ]
        }
      ]
    },
    {
      "cell_type": "code",
      "source": [
        "print(f'{set1.difference(set2) = }, {set2.difference(set1) = }')\n",
        "print(f'{set3.difference(set4) = }, {set4.difference(set3) = }')\n",
        "print(f'{set1.difference(set2) == set2.difference(set1) = }',\n",
        "      f'{set3.difference(set4) == set4.difference(set3) = }', sep = '\\n')"
      ],
      "metadata": {
        "colab": {
          "base_uri": "https://localhost:8080/"
        },
        "id": "mNkIkZGm0MU-",
        "outputId": "84a6dcd7-cf8e-44dc-c990-6a071879d4d9"
      },
      "execution_count": 13,
      "outputs": [
        {
          "output_type": "stream",
          "name": "stdout",
          "text": [
            "set1.difference(set2) = {3, 4}, set2.difference(set1) = set()\n",
            "set3.difference(set4) = {9, 3, 14}, set4.difference(set3) = {'dddd', 2, 5, 7}\n",
            "set1.difference(set2) == set2.difference(set1) = False\n",
            "set3.difference(set4) == set4.difference(set3) = False\n"
          ]
        }
      ]
    },
    {
      "cell_type": "code",
      "source": [
        "set1 = {1, 2, 3,'♔', '♕', '♖', '♗', '♘', '♙'}\n",
        "set2 = set([1, 2, 3, 4, 5, 1, 2])\n",
        "print(f'{set1.symmetric_difference(set2) = }',\n",
        "      f'{set2.symmetric_difference(set1) = }', sep = '\\n')\n",
        "print(f'{set1 ^ set2 = }', f'{set2 ^ set1 = }', sep = '\\n')\n",
        "print(f'{set1.symmetric_difference(set2) == set2.symmetric_difference(set1) = }')\n",
        "print(f'{set1 ^ set2 == set2 ^ set1 = }')"
      ],
      "metadata": {
        "colab": {
          "base_uri": "https://localhost:8080/"
        },
        "id": "oUmaE1-v1sG9",
        "outputId": "f5fbf0d2-9483-41ad-af82-d298fea8c765"
      },
      "execution_count": 14,
      "outputs": [
        {
          "output_type": "stream",
          "name": "stdout",
          "text": [
            "set1.symmetric_difference(set2) = {4, 5, '♘', '♔', '♗', '♙', '♕', '♖'}\n",
            "set2.symmetric_difference(set1) = {4, 5, '♘', '♔', '♙', '♕', '♗', '♖'}\n",
            "set1 ^ set2 = {4, 5, '♘', '♔', '♗', '♙', '♕', '♖'}\n",
            "set2 ^ set1 = {4, 5, '♘', '♔', '♙', '♕', '♗', '♖'}\n",
            "set1.symmetric_difference(set2) == set2.symmetric_difference(set1) = True\n",
            "set1 ^ set2 == set2 ^ set1 = True\n"
          ]
        }
      ]
    },
    {
      "cell_type": "code",
      "source": [
        "# add, remove, pop\n",
        "# for sets only / sólo para conjuntos\n",
        "set_ = {1, 2, 3}; print(set_)\n",
        "set_.add('♔'); print(set_)\n",
        "set_.remove('♔'); print(set_)"
      ],
      "metadata": {
        "colab": {
          "base_uri": "https://localhost:8080/"
        },
        "id": "jsXpkpaUCHMI",
        "outputId": "e9cb36b0-bf3b-48e0-84ce-316f17412c24"
      },
      "execution_count": 15,
      "outputs": [
        {
          "output_type": "stream",
          "name": "stdout",
          "text": [
            "{1, 2, 3}\n",
            "{1, 2, 3, '♔'}\n",
            "{1, 2, 3}\n"
          ]
        }
      ]
    },
    {
      "cell_type": "code",
      "source": [
        "set_ = {1, 2, 3, '♔', '♕', '♖', '♗', '♘', '♙'}\n",
        "print(set_)\n",
        "p = set_.pop(); print(p, set_)\n",
        "p = set_.pop(); print(p, set_)\n",
        "for element in set_:\n",
        "    el = element\n",
        "    print(el); set_.remove(el); print(set_)\n",
        "    break\n",
        "print(set_.isdisjoint({el}))\n",
        "set_ = set_.__and__({el}); print(set_)"
      ],
      "metadata": {
        "colab": {
          "base_uri": "https://localhost:8080/"
        },
        "id": "e6uVFy26C-9s",
        "outputId": "2b69f43b-b507-4c3f-83bb-50e5cb85296e"
      },
      "execution_count": 16,
      "outputs": [
        {
          "output_type": "stream",
          "name": "stdout",
          "text": [
            "{1, 2, 3, '♘', '♔', '♙', '♕', '♗', '♖'}\n",
            "1 {2, 3, '♘', '♔', '♙', '♕', '♗', '♖'}\n",
            "2 {3, '♘', '♔', '♙', '♕', '♗', '♖'}\n",
            "3\n",
            "{'♘', '♔', '♙', '♕', '♗', '♖'}\n",
            "True\n",
            "set()\n"
          ]
        }
      ]
    },
    {
      "cell_type": "code",
      "source": [
        "# no error even if there is no this element\n",
        "# no hay error incluso si no existe este elemento\n",
        "set_ = {1, 2, 3, '♔', '♕', '♖', '♗', '♘', '♙'}\n",
        "set_.remove('♙'); print(set_)\n",
        "set_.discard('♙'); print(set_)\n",
        "set_.discard('♘'); print(set_)\n",
        "set_ = set_.__xor__({'♘'}); print(set_)\n",
        "set_ = set_.__xor__({'♘'}); print(set_)\n",
        "set_.clear(); print(set_)"
      ],
      "metadata": {
        "colab": {
          "base_uri": "https://localhost:8080/"
        },
        "id": "1YagqxAgtg2J",
        "outputId": "58b140f4-4030-4124-8fe7-5672e3c1b0c5"
      },
      "execution_count": 17,
      "outputs": [
        {
          "output_type": "stream",
          "name": "stdout",
          "text": [
            "{1, 2, 3, '♘', '♔', '♕', '♗', '♖'}\n",
            "{1, 2, 3, '♘', '♔', '♕', '♗', '♖'}\n",
            "{1, 2, 3, '♔', '♕', '♗', '♖'}\n",
            "{1, 2, 3, '♘', '♗', '♕', '♔', '♖'}\n",
            "{1, 2, 3, '♗', '♔', '♕', '♖'}\n",
            "set()\n"
          ]
        }
      ]
    },
    {
      "cell_type": "code",
      "source": [
        "set_ = {1, 2, 3}; print(set_)\n",
        "set_.add('a'); print(set_)\n",
        "set_ |= {'bb'}; print(set_)\n",
        "set_ = set_.__or__({'ccc'}); print(set_)\n",
        "set_ = set_.__xor__({'dddd'}); print(set_)\n",
        "set_.update({3, 4}); print(set_)"
      ],
      "metadata": {
        "colab": {
          "base_uri": "https://localhost:8080/"
        },
        "id": "Yci6hYPguMst",
        "outputId": "16349fa8-6103-4fd5-bd39-7a1b6415c19b"
      },
      "execution_count": 18,
      "outputs": [
        {
          "output_type": "stream",
          "name": "stdout",
          "text": [
            "{1, 2, 3}\n",
            "{1, 2, 3, 'a'}\n",
            "{1, 2, 3, 'a', 'bb'}\n",
            "{1, 2, 3, 'ccc', 'a', 'bb'}\n",
            "{1, 'dddd', 3, 2, 'a', 'bb', 'ccc'}\n",
            "{1, 'dddd', 3, 2, 4, 'a', 'bb', 'ccc'}\n"
          ]
        }
      ]
    },
    {
      "cell_type": "code",
      "source": [
        "set1 = {1, 2, 3}\n",
        "set2 = set1\n",
        "set3 = set1.copy()\n",
        "print(set1, set2, set3)\n",
        "print(set1 == set2, set1 == set3)\n",
        "print(set1 is set2, set1 is set3)\n",
        "set1.add(4)\n",
        "print(set1, set2, set3)"
      ],
      "metadata": {
        "colab": {
          "base_uri": "https://localhost:8080/"
        },
        "id": "Kk-zh_UkvSAC",
        "outputId": "4696ab24-81c5-4846-d479-a1e2a1a08aef"
      },
      "execution_count": 19,
      "outputs": [
        {
          "output_type": "stream",
          "name": "stdout",
          "text": [
            "{1, 2, 3} {1, 2, 3} {1, 2, 3}\n",
            "True True\n",
            "True False\n",
            "{1, 2, 3, 4} {1, 2, 3, 4} {1, 2, 3}\n"
          ]
        }
      ]
    },
    {
      "cell_type": "code",
      "source": [
        "frozenset1 = frozenset({1, 2, 3})\n",
        "frozenset2 = frozenset1\n",
        "frozenset3 = frozenset1.copy()\n",
        "print(frozenset1, frozenset2, frozenset3)\n",
        "print(frozenset1 == frozenset2, frozenset1 == frozenset3)\n",
        "print(frozenset1 is frozenset2, frozenset1 is frozenset3)"
      ],
      "metadata": {
        "colab": {
          "base_uri": "https://localhost:8080/"
        },
        "id": "hgIk6WIIRy4A",
        "outputId": "99809c1c-7592-4e6e-c868-be1420e8cc1c"
      },
      "execution_count": 20,
      "outputs": [
        {
          "output_type": "stream",
          "name": "stdout",
          "text": [
            "frozenset({1, 2, 3}) frozenset({1, 2, 3}) frozenset({1, 2, 3})\n",
            "True True\n",
            "True True\n"
          ]
        }
      ]
    },
    {
      "cell_type": "code",
      "source": [
        "set_ = {'♔', '♕', '♖', '♗', '♘', '♙'}\n",
        "frozenset_ = frozenset(set_)\n",
        "print('♔' in set_, '♔' in frozenset_,\n",
        "      set_.__contains__('♖'), frozenset_.__contains__('♖'))"
      ],
      "metadata": {
        "colab": {
          "base_uri": "https://localhost:8080/"
        },
        "id": "v7NDYTe8yKbL",
        "outputId": "c64fe709-a70e-4e21-a481-ec24af21f324"
      },
      "execution_count": 21,
      "outputs": [
        {
          "output_type": "stream",
          "name": "stdout",
          "text": [
            "True True True True\n"
          ]
        }
      ]
    },
    {
      "cell_type": "code",
      "source": [
        "set1 = {'♔', '♕', '♖', '♗', '♘', '♙'}\n",
        "set2 = {'♔', '♕'}\n",
        "set3 = {1, '♔', '♕'}\n",
        "print(set1.issubset(set2), set2.issubset(set1))\n",
        "print(set1.issuperset(set2), set2.issuperset(set1))\n",
        "print(set1 in set2, set2 in set1)\n",
        "print(set1.issubset(set3), set3.issubset(set1))\n",
        "print(set1.issuperset(set3), set3.issuperset(set1))\n",
        "print(set1 in set3, set3 in set1)"
      ],
      "metadata": {
        "colab": {
          "base_uri": "https://localhost:8080/"
        },
        "id": "0eEqEiOzz_lt",
        "outputId": "252eadf3-a3b8-44a4-9108-8081021d2240"
      },
      "execution_count": 22,
      "outputs": [
        {
          "output_type": "stream",
          "name": "stdout",
          "text": [
            "False True\n",
            "True False\n",
            "False False\n",
            "False False\n",
            "False False\n",
            "False False\n"
          ]
        }
      ]
    },
    {
      "cell_type": "code",
      "source": [
        "set1 = {'♔', '♕', '♖', '♗', '♘', '♙'}\n",
        "frozenset2 = frozenset({'♔', '♕'})\n",
        "print(set1.issubset(frozenset2), frozenset2.issubset(set1))\n",
        "print(set1.issuperset(frozenset2), frozenset2.issuperset(set1))\n",
        "print(set1 <= frozenset2, frozenset2 <= set1)\n",
        "print(set1 >= frozenset2, frozenset2 >= set1)"
      ],
      "metadata": {
        "colab": {
          "base_uri": "https://localhost:8080/"
        },
        "id": "dsSSQbnN0UOv",
        "outputId": "51fa6bf8-7e7b-421f-f47a-b58cc615b420"
      },
      "execution_count": 23,
      "outputs": [
        {
          "output_type": "stream",
          "name": "stdout",
          "text": [
            "False True\n",
            "True False\n",
            "False True\n",
            "True False\n"
          ]
        }
      ]
    },
    {
      "cell_type": "code",
      "source": [
        "# sets cannot consist of mutable types (such as lists)\n",
        "# los conjuntos no pueden consistir en tipos mutables (como listas)\n",
        "# set_ = {[1, 2, 3], (4, 5, 6)} # TypeError: unhashable type: 'list'\n",
        "set_ = {(1, 2, 3), (4, 5, 6)}\n",
        "for element in set_: print(hash(element))\n",
        "# hash(set_) # TypeError: unhashable type: 'set'\n",
        "hash(frozenset(set_))"
      ],
      "metadata": {
        "colab": {
          "base_uri": "https://localhost:8080/"
        },
        "id": "VtW4WCpZOaK7",
        "outputId": "1642f7ba-69ed-4413-8985-7919d3abd1f0"
      },
      "execution_count": 24,
      "outputs": [
        {
          "output_type": "stream",
          "name": "stdout",
          "text": [
            "529344067295497451\n",
            "5978594976881860246\n"
          ]
        },
        {
          "output_type": "execute_result",
          "data": {
            "text/plain": [
              "6667061492081776488"
            ]
          },
          "metadata": {},
          "execution_count": 24
        }
      ]
    },
    {
      "cell_type": "markdown",
      "source": [
        "Dictionaries\n",
        "- projecting type (keys <-> values)\n",
        "- changeable (dynamic modification)\n",
        "- iterable (iterators can loop through objects)\n",
        "- containers\n",
        "- unordered objects\n",
        "- keys\n",
        "   - only immutable types\n",
        "   - only unique (non-repeating) objects\n",
        "\n",
        "Diccionarios\n",
        "- tipo de proyección (claves <-> valores)\n",
        "- cambiable (modificación dinámica)\n",
        "- iterable (los iteradores pueden recorrer objetos)\n",
        "- contenedores\n",
        "- objetos desordenados\n",
        "- claves\n",
        "    - sólo tipos inmutables\n",
        "    - sólo objetos únicos (no repetidos)"
      ],
      "metadata": {
        "id": "CzRJcS2mjccR"
      }
    },
    {
      "cell_type": "code",
      "source": [
        "print(type(set()), type({}), type(dict()))"
      ],
      "metadata": {
        "colab": {
          "base_uri": "https://localhost:8080/"
        },
        "id": "M8cVYawRjeuc",
        "outputId": "0c52057d-fe2e-4fa0-9cab-2c89f5a70527"
      },
      "execution_count": 25,
      "outputs": [
        {
          "output_type": "stream",
          "name": "stdout",
          "text": [
            "<class 'set'> <class 'dict'> <class 'dict'>\n"
          ]
        }
      ]
    },
    {
      "cell_type": "code",
      "source": [
        "for el in [dir({})[i:i+6] for i in range(0, 48, 6)]:\n",
        "    print(el)"
      ],
      "metadata": {
        "colab": {
          "base_uri": "https://localhost:8080/"
        },
        "id": "RaDYt8SEkV4U",
        "outputId": "442a9a7a-119b-434a-add5-026f9da55bbf"
      },
      "execution_count": 26,
      "outputs": [
        {
          "output_type": "stream",
          "name": "stdout",
          "text": [
            "['__class__', '__class_getitem__', '__contains__', '__delattr__', '__delitem__', '__dir__']\n",
            "['__doc__', '__eq__', '__format__', '__ge__', '__getattribute__', '__getitem__']\n",
            "['__gt__', '__hash__', '__init__', '__init_subclass__', '__ior__', '__iter__']\n",
            "['__le__', '__len__', '__lt__', '__ne__', '__new__', '__or__']\n",
            "['__reduce__', '__reduce_ex__', '__repr__', '__reversed__', '__ror__', '__setattr__']\n",
            "['__setitem__', '__sizeof__', '__str__', '__subclasshook__', 'clear', 'copy']\n",
            "['fromkeys', 'get', 'items', 'keys', 'pop', 'popitem']\n",
            "['setdefault', 'update', 'values']\n"
          ]
        }
      ]
    },
    {
      "cell_type": "code",
      "source": [
        "xy = {1:'a', 2:'bb', 3:'ccc', 4:'dddd', 5:'eeeee'}\n",
        "yx = dict(zip(xy.values(), xy.keys()))\n",
        "print(xy, yx, sep='\\n')"
      ],
      "metadata": {
        "colab": {
          "base_uri": "https://localhost:8080/"
        },
        "id": "97mGQXrxl6tK",
        "outputId": "1bff7a54-fda5-4a8f-8d6e-f826fa6ab0f6"
      },
      "execution_count": 27,
      "outputs": [
        {
          "output_type": "stream",
          "name": "stdout",
          "text": [
            "{1: 'a', 2: 'bb', 3: 'ccc', 4: 'dddd', 5: 'eeeee'}\n",
            "{'a': 1, 'bb': 2, 'ccc': 3, 'dddd': 4, 'eeeee': 5}\n"
          ]
        }
      ]
    },
    {
      "cell_type": "code",
      "source": [
        "d00 = {}\n",
        "d01 = dict([(1, 'hola'), (2, 'hello')])\n",
        "d02 = dict([[1, 1], [2, 22], [3, 333]])\n",
        "d03 = dict(a=\"hola\", b=\"hello\")\n",
        "d04 = dict.fromkeys([1, 2])\n",
        "d05 = dict.fromkeys([1, 2], ['a', 'b'])\n",
        "d06 = dict(zip([1, 2, 3], [1, 22, 333]))\n",
        "d07 = {'x%d'%i:[]for i in range(3)}\n",
        "d08 = {'x%d'%i:{'y%d%d'%(j,i):j for j in range(1)} for i in range(2)}\n",
        "d09 = {(1, 2):12, (2, 1):21}\n",
        "d10 = {None:[]}\n",
        "print('type'+18*' ', '\\t', 'object'+31*' ', '=>\\t',\n",
        "      'bool', '\\t', 'all', '\\t', 'any', '\\n')\n",
        "for d in [d00, d01, d02, d03, d04, d05, d06,\n",
        "          d07, d08, d09, d10]:\n",
        "    print(type(d), '\\t', f'{str(d):45}', '=>\\t',\n",
        "          bool(d), '\\t', all(d), '\\t', any(d))\n"
      ],
      "metadata": {
        "colab": {
          "base_uri": "https://localhost:8080/"
        },
        "id": "SI8pD1YdrWpX",
        "outputId": "18481a59-85f2-4d0f-e58f-d1bdcf639f34"
      },
      "execution_count": 28,
      "outputs": [
        {
          "output_type": "stream",
          "name": "stdout",
          "text": [
            "type                   \t object                                =>\t bool \t all \t any \n",
            "\n",
            "<class 'dict'> \t {}                                            =>\t False \t True \t False\n",
            "<class 'dict'> \t {1: 'hola', 2: 'hello'}                       =>\t True \t True \t True\n",
            "<class 'dict'> \t {1: 1, 2: 22, 3: 333}                         =>\t True \t True \t True\n",
            "<class 'dict'> \t {'a': 'hola', 'b': 'hello'}                   =>\t True \t True \t True\n",
            "<class 'dict'> \t {1: None, 2: None}                            =>\t True \t True \t True\n",
            "<class 'dict'> \t {1: ['a', 'b'], 2: ['a', 'b']}                =>\t True \t True \t True\n",
            "<class 'dict'> \t {1: 1, 2: 22, 3: 333}                         =>\t True \t True \t True\n",
            "<class 'dict'> \t {'x0': [], 'x1': [], 'x2': []}                =>\t True \t True \t True\n",
            "<class 'dict'> \t {'x0': {'y00': 0}, 'x1': {'y01': 0}}          =>\t True \t True \t True\n",
            "<class 'dict'> \t {(1, 2): 12, (2, 1): 21}                      =>\t True \t True \t True\n",
            "<class 'dict'> \t {None: []}                                    =>\t True \t False \t False\n"
          ]
        }
      ]
    },
    {
      "cell_type": "code",
      "source": [
        "d_class = {int: 1, float: 2, bool: 3}\n",
        "print(type(d_class), d_class, d_class[float])\n",
        "d_func = {bin: 1, hex: 2, oct: 3}\n",
        "print(type(d_func), d_func, d_func[bin])"
      ],
      "metadata": {
        "colab": {
          "base_uri": "https://localhost:8080/"
        },
        "id": "Bjw5Y7DriMHp",
        "outputId": "2b23bcc9-24d9-40dc-8c98-dd4dde234639"
      },
      "execution_count": 29,
      "outputs": [
        {
          "output_type": "stream",
          "name": "stdout",
          "text": [
            "<class 'dict'> {<class 'int'>: 1, <class 'float'>: 2, <class 'bool'>: 3} 2\n",
            "<class 'dict'> {<built-in function bin>: 1, <built-in function hex>: 2, <built-in function oct>: 3} 1\n"
          ]
        }
      ]
    },
    {
      "cell_type": "code",
      "source": [
        "def f1(a, b, c, d): return locals()\n",
        "d1 = f1(1, 2, 3, 4)\n",
        "def f2(a, b, **c): return locals()\n",
        "d2 = f2(1, 2, d=3, e=4)\n",
        "def f3():\n",
        "    return {x:globals()[x] for x in ['a', 'b', 'c']}\n",
        "a, b, c = 1, 2, 3\n",
        "d3 = f3()\n",
        "for d in [d1, d2, d3]:\n",
        "    print(type(d), d)"
      ],
      "metadata": {
        "colab": {
          "base_uri": "https://localhost:8080/"
        },
        "id": "5FACSTj2acll",
        "outputId": "c8561ff9-dd94-4ce8-ad05-6b5547771db5"
      },
      "execution_count": 30,
      "outputs": [
        {
          "output_type": "stream",
          "name": "stdout",
          "text": [
            "<class 'dict'> {'a': 1, 'b': 2, 'c': 3, 'd': 4}\n",
            "<class 'dict'> {'a': 1, 'b': 2, 'c': {'d': 3, 'e': 4}}\n",
            "<class 'dict'> {'a': 1, 'b': 2, 'c': 3}\n"
          ]
        }
      ]
    },
    {
      "cell_type": "code",
      "source": [
        "class A: pass\n",
        "dictA = dict(A.__dict__)\n",
        "display(type(A.__dict__), type(dictA), dictA)\n",
        "dict_int = dict(int.__dict__)\n",
        "dict_int['__doc__']"
      ],
      "metadata": {
        "colab": {
          "base_uri": "https://localhost:8080/",
          "height": 191
        },
        "id": "mTSyPQi_9Cg4",
        "outputId": "99ac886d-104a-4bcf-e891-10d092bfcf97"
      },
      "execution_count": 31,
      "outputs": [
        {
          "output_type": "display_data",
          "data": {
            "text/plain": [
              "mappingproxy"
            ]
          },
          "metadata": {}
        },
        {
          "output_type": "display_data",
          "data": {
            "text/plain": [
              "dict"
            ]
          },
          "metadata": {}
        },
        {
          "output_type": "display_data",
          "data": {
            "text/plain": [
              "{'__module__': '__main__',\n",
              " '__dict__': <attribute '__dict__' of 'A' objects>,\n",
              " '__weakref__': <attribute '__weakref__' of 'A' objects>,\n",
              " '__doc__': None}"
            ]
          },
          "metadata": {}
        },
        {
          "output_type": "execute_result",
          "data": {
            "text/plain": [
              "\"int([x]) -> integer\\nint(x, base=10) -> integer\\n\\nConvert a number or string to an integer, or return 0 if no arguments\\nare given.  If x is a number, return x.__int__().  For floating point\\nnumbers, this truncates towards zero.\\n\\nIf x is not a number or if base is given, then x must be a string,\\nbytes, or bytearray instance representing an integer literal in the\\ngiven base.  The literal can be preceded by '+' or '-' and be surrounded\\nby whitespace.  The base defaults to 10.  Valid bases are 0 and 2-36.\\nBase 0 means to interpret the base from the string as an integer literal.\\n>>> int('0b100', base=0)\\n4\""
            ],
            "application/vnd.google.colaboratory.intrinsic+json": {
              "type": "string"
            }
          },
          "metadata": {},
          "execution_count": 31
        }
      ]
    },
    {
      "cell_type": "code",
      "source": [
        "# using modules of the standard library\n",
        "# usando módulos de la biblioteca estándar\n",
        "from collections import defaultdict as dd\n",
        "ddict = dd(tuple)\n",
        "for i in range(3):\n",
        "    print(ddict[i], bool(ddict[i]), ddict, bool(ddict), sep=' || ')\n",
        "print(dict(ddict))\n",
        "ddict = dd(lambda:0)\n",
        "for i in range(2):\n",
        "    print(ddict[i], bool(ddict[i]), ddict, bool(ddict), sep=' || ')\n",
        "# to the regular dictionary / al diccionario normal\n",
        "print(dict(ddict))"
      ],
      "metadata": {
        "colab": {
          "base_uri": "https://localhost:8080/"
        },
        "id": "Yx-jA_KRZlrU",
        "outputId": "1a47f2b1-7691-48cb-a346-6d6384b38df5"
      },
      "execution_count": 32,
      "outputs": [
        {
          "output_type": "stream",
          "name": "stdout",
          "text": [
            "() || False || defaultdict(<class 'tuple'>, {0: ()}) || True\n",
            "() || False || defaultdict(<class 'tuple'>, {0: (), 1: ()}) || True\n",
            "() || False || defaultdict(<class 'tuple'>, {0: (), 1: (), 2: ()}) || True\n",
            "{0: (), 1: (), 2: ()}\n",
            "0 || False || defaultdict(<function <lambda> at 0x7dc152035c60>, {0: 0}) || True\n",
            "0 || False || defaultdict(<function <lambda> at 0x7dc152035c60>, {0: 0, 1: 0}) || True\n",
            "{0: 0, 1: 0}\n"
          ]
        }
      ]
    },
    {
      "cell_type": "code",
      "source": [
        "import itertools, collections\n",
        "d1 = {'a':1,'bb':3}\n",
        "d2 = {'bb':2,'ccc':3,'dddd':4}\n",
        "d3 = itertools.chain(d1.items(), d2.items())\n",
        "print(d3, dict(d3))\n",
        "d4 = itertools.chain(d2.items(), d1.items())\n",
        "print(d4, dict(d4))\n",
        "d5 = collections.ChainMap(d1, d2)\n",
        "print(d5, dict(d5))\n",
        "d6 = collections.ChainMap(d2, d1)\n",
        "print(d6, dict(d6))"
      ],
      "metadata": {
        "colab": {
          "base_uri": "https://localhost:8080/"
        },
        "id": "ZZIZMbxauHFX",
        "outputId": "dcdeab97-0be7-4300-fd06-0c6903493d01"
      },
      "execution_count": 33,
      "outputs": [
        {
          "output_type": "stream",
          "name": "stdout",
          "text": [
            "<itertools.chain object at 0x7dc15202db10> {'a': 1, 'bb': 2, 'ccc': 3, 'dddd': 4}\n",
            "<itertools.chain object at 0x7dc15202fa00> {'bb': 3, 'ccc': 3, 'dddd': 4, 'a': 1}\n",
            "ChainMap({'a': 1, 'bb': 3}, {'bb': 2, 'ccc': 3, 'dddd': 4}) {'bb': 3, 'ccc': 3, 'dddd': 4, 'a': 1}\n",
            "ChainMap({'bb': 2, 'ccc': 3, 'dddd': 4}, {'a': 1, 'bb': 3}) {'a': 1, 'bb': 2, 'ccc': 3, 'dddd': 4}\n"
          ]
        }
      ]
    },
    {
      "cell_type": "code",
      "source": [
        "from collections import OrderedDict\n",
        "od1 = OrderedDict()\n",
        "od1['red'] = 'r'; od1['green'] = 'g'; od1['blue'] = 'b'\n",
        "print(od1, dict(od1), sep='\\n')\n",
        "od1['yellow'] = 'y'\n",
        "print(od1, dict(od1), sep='\\n')\n",
        "od1.move_to_end('red')\n",
        "print(od1, dict(od1), sep='\\n')\n",
        "od1.move_to_end('red', last=False)\n",
        "print(od1, dict(od1), sep='\\n')"
      ],
      "metadata": {
        "colab": {
          "base_uri": "https://localhost:8080/"
        },
        "id": "EGShvATpwqB7",
        "outputId": "8bc3fbae-5cfd-4729-a4f4-21d0bcbdc9bf"
      },
      "execution_count": 34,
      "outputs": [
        {
          "output_type": "stream",
          "name": "stdout",
          "text": [
            "OrderedDict([('red', 'r'), ('green', 'g'), ('blue', 'b')])\n",
            "{'red': 'r', 'green': 'g', 'blue': 'b'}\n",
            "OrderedDict([('red', 'r'), ('green', 'g'), ('blue', 'b'), ('yellow', 'y')])\n",
            "{'red': 'r', 'green': 'g', 'blue': 'b', 'yellow': 'y'}\n",
            "OrderedDict([('green', 'g'), ('blue', 'b'), ('yellow', 'y'), ('red', 'r')])\n",
            "{'green': 'g', 'blue': 'b', 'yellow': 'y', 'red': 'r'}\n",
            "OrderedDict([('red', 'r'), ('green', 'g'), ('blue', 'b'), ('yellow', 'y')])\n",
            "{'red': 'r', 'green': 'g', 'blue': 'b', 'yellow': 'y'}\n"
          ]
        }
      ]
    },
    {
      "cell_type": "code",
      "source": [
        "from collections import UserDict\n",
        "user_dict = UserDict({'a':1, 'b':2, 'c':3,'d':4})\n",
        "user_dict.__setattr__('name', 'letter2int')\n",
        "user_dict.info = 'a dictionary with custom attributes'\n",
        "print(user_dict, user_dict.items())\n",
        "print(user_dict.keys(), user_dict.values())\n",
        "print(user_dict.name, user_dict.__getattribute__('name'))\n",
        "print(user_dict.info, user_dict.__getattribute__('info'))"
      ],
      "metadata": {
        "colab": {
          "base_uri": "https://localhost:8080/"
        },
        "id": "2j5Xdym2NYuu",
        "outputId": "70307a96-9292-4292-bd17-67c31f08d0e7"
      },
      "execution_count": 35,
      "outputs": [
        {
          "output_type": "stream",
          "name": "stdout",
          "text": [
            "{'a': 1, 'b': 2, 'c': 3, 'd': 4} ItemsView({'a': 1, 'b': 2, 'c': 3, 'd': 4})\n",
            "KeysView({'a': 1, 'b': 2, 'c': 3, 'd': 4}) ValuesView({'a': 1, 'b': 2, 'c': 3, 'd': 4})\n",
            "letter2int letter2int\n",
            "a dictionary with custom attributes a dictionary with custom attributes\n"
          ]
        }
      ]
    },
    {
      "cell_type": "code",
      "source": [
        "from collections import UserDict\n",
        "class IntBinDict(UserDict):\n",
        "    def __setitem__(self, key, value):\n",
        "        value = f'{bin(key)[2:]:0>8}'\n",
        "        super().__setitem__(key, value)\n",
        "numbers = IntBinDict({0: None, 1: None})\n",
        "numbers[2] = None\n",
        "numbers.update({10:_, 100:0})\n",
        "numbers.setdefault(128)\n",
        "print(numbers)"
      ],
      "metadata": {
        "colab": {
          "base_uri": "https://localhost:8080/"
        },
        "id": "1o0LY-3Svpii",
        "outputId": "1ad84be3-d52f-468d-9251-51ef40f3061f"
      },
      "execution_count": 36,
      "outputs": [
        {
          "output_type": "stream",
          "name": "stdout",
          "text": [
            "{0: '00000000', 1: '00000001', 2: '00000010', 10: '00001010', 100: '01100100', 128: '10000000'}\n"
          ]
        }
      ]
    },
    {
      "cell_type": "code",
      "source": [
        "from collections import UserDict\n",
        "EN_TO_SP = {\"hello\": \"hola\", \"bienvenido\":\"welcome\",\n",
        "            \"hi\": \"buenas\", \"hey\": \"oye\"}\n",
        "class EnglishSpanishDict(UserDict):\n",
        "    def __getitem__(self, key):\n",
        "        try: return super().__getitem__(key)\n",
        "        except KeyError: pass\n",
        "        try: return super().__getitem__(EN_TO_SP[key])\n",
        "        except KeyError: pass\n",
        "        raise KeyError(key)\n",
        "    def __setitem__(self, key, value):\n",
        "        try: key = EN_TO_SP[key]\n",
        "        except KeyError: pass\n",
        "        super().__setitem__(key, value)\n",
        "greetings = EnglishSpanishDict(\n",
        "    {\"hello\": \"formal\", \"hi\": \"informal\", \"welcome\": \"formal\"})\n",
        "greetings.update({\"hey\": \"informal\"})\n",
        "print(greetings['hola'], greetings['buenas'],\n",
        "      greetings['bienvenido'], greetings['oye'])\n",
        "greetings = EnglishSpanishDict(\n",
        "    {\"hola\": \"formal\", \"buenas\": \"informal\", \"bienvenido\": \"formal\"})\n",
        "greetings.update({\"oye\": \"informal\"})\n",
        "print(greetings['hello'], greetings['hi'],\n",
        "      greetings['welcome'], greetings['hey'])\n",
        "print(30*'-')\n",
        "class EnglishSpanishDict2(UserDict):\n",
        "    def __getitem__(self, key):\n",
        "        try: return self.data[key]\n",
        "        except KeyError: pass\n",
        "        try: return self.data[EN_TO_SP[key]]\n",
        "        except KeyError: pass\n",
        "        raise KeyError(key)\n",
        "    def __setitem__(self, key, value):\n",
        "        try: key = EN_TO_SP[key]\n",
        "        except KeyError: pass\n",
        "        self.data[key] = value\n",
        "greetings = EnglishSpanishDict2(\n",
        "    {\"hello\": \"formal\", \"hi\": \"informal\", \"welcome\": \"formal\"})\n",
        "greetings.update({\"hey\": \"informal\"})\n",
        "print(greetings['hola'], greetings['buenas'],\n",
        "      greetings['bienvenido'], greetings['oye'])\n",
        "greetings = EnglishSpanishDict2(\n",
        "    {\"hola\": \"formal\", \"buenas\": \"informal\", \"bienvenido\": \"formal\"})\n",
        "greetings.update({\"oye\": \"informal\"})\n",
        "print(greetings['hello'], greetings['hi'],\n",
        "      greetings['welcome'], greetings['hey'])"
      ],
      "metadata": {
        "colab": {
          "base_uri": "https://localhost:8080/"
        },
        "id": "NBxrvpcp5-fF",
        "outputId": "10f05b9b-28f9-4ea5-b700-dada3dbdc3c2"
      },
      "execution_count": 37,
      "outputs": [
        {
          "output_type": "stream",
          "name": "stdout",
          "text": [
            "formal informal formal informal\n",
            "formal informal formal informal\n",
            "------------------------------\n",
            "formal informal formal informal\n",
            "formal informal formal informal\n"
          ]
        }
      ]
    },
    {
      "cell_type": "code",
      "source": [
        "class MyDict(dict): pass\n",
        "my_dict = MyDict({1: 'a', 2: 'b', 3: 'c', 4: 'd'})\n",
        "my_dict.__setattr__('name', 'int2letter')\n",
        "my_dict.info = 'a dictionary with custom attributes'\n",
        "print(my_dict, my_dict.items())\n",
        "print(my_dict.keys(), my_dict.values())\n",
        "print(my_dict.name, my_dict.__getattribute__('name'))\n",
        "print(my_dict.info, my_dict.__getattribute__('info'))"
      ],
      "metadata": {
        "colab": {
          "base_uri": "https://localhost:8080/"
        },
        "id": "XGlHXsYBKmox",
        "outputId": "af8847db-59e0-459e-c086-7235ccf28a29"
      },
      "execution_count": 38,
      "outputs": [
        {
          "output_type": "stream",
          "name": "stdout",
          "text": [
            "{1: 'a', 2: 'b', 3: 'c', 4: 'd'} dict_items([(1, 'a'), (2, 'b'), (3, 'c'), (4, 'd')])\n",
            "dict_keys([1, 2, 3, 4]) dict_values(['a', 'b', 'c', 'd'])\n",
            "int2letter int2letter\n",
            "a dictionary with custom attributes a dictionary with custom attributes\n"
          ]
        }
      ]
    },
    {
      "cell_type": "code",
      "source": [
        "class CustomDict(dict):\n",
        "    def key_of_value(self, value):\n",
        "        for k, v in self.items():\n",
        "            if v == value: return k\n",
        "        raise ValueError(value)\n",
        "    def iter_key_of_value(self, value):\n",
        "        for k, v in self.items():\n",
        "            if v == value: yield k\n",
        "    def apply_to_values(self, func):\n",
        "        for key, value in self.items():\n",
        "            self[key] = func(value)\n",
        "    def remove_item_by_key(self, key):\n",
        "        del self[key]\n",
        "cd = CustomDict({1: 'a', 2: 'b', 3: 'c', 4: 'd', 100:'a'})\n",
        "print(cd)\n",
        "print(f'{cd.key_of_value(\"a\") = }, {list(cd.iter_key_of_value(\"a\")) = }')\n",
        "cd.apply_to_values(lambda s: s.upper())\n",
        "print(cd)\n",
        "cd.remove_item_by_key(100)\n",
        "print(cd)"
      ],
      "metadata": {
        "colab": {
          "base_uri": "https://localhost:8080/"
        },
        "id": "c0OYpWwHXnBz",
        "outputId": "8673f32b-1cad-4421-d724-ee5b3a569c8e"
      },
      "execution_count": 39,
      "outputs": [
        {
          "output_type": "stream",
          "name": "stdout",
          "text": [
            "{1: 'a', 2: 'b', 3: 'c', 4: 'd', 100: 'a'}\n",
            "cd.key_of_value(\"a\") = 1, list(cd.iter_key_of_value(\"a\")) = [1, 100]\n",
            "{1: 'A', 2: 'B', 3: 'C', 4: 'D', 100: 'A'}\n",
            "{1: 'A', 2: 'B', 3: 'C', 4: 'D'}\n"
          ]
        }
      ]
    },
    {
      "cell_type": "markdown",
      "source": [
        "Dictionaries' manipulations and methods || Manipulaciones y métodos de los diccionarios"
      ],
      "metadata": {
        "id": "jAjfj2bXdlmc"
      }
    },
    {
      "cell_type": "code",
      "source": [
        "d = {1:'a', 2:'bb', 3:'ccc', 4:'dddd', 5:'eeeee'}\n",
        "d.keys(), d.values(), d.items(), d.get(3), d[5]"
      ],
      "metadata": {
        "colab": {
          "base_uri": "https://localhost:8080/"
        },
        "id": "kjTMUHBUdkb_",
        "outputId": "acd9606f-6c30-49c0-8200-4c9a313a1644"
      },
      "execution_count": 40,
      "outputs": [
        {
          "output_type": "execute_result",
          "data": {
            "text/plain": [
              "(dict_keys([1, 2, 3, 4, 5]),\n",
              " dict_values(['a', 'bb', 'ccc', 'dddd', 'eeeee']),\n",
              " dict_items([(1, 'a'), (2, 'bb'), (3, 'ccc'), (4, 'dddd'), (5, 'eeeee')]),\n",
              " 'ccc',\n",
              " 'eeeee')"
            ]
          },
          "metadata": {},
          "execution_count": 40
        }
      ]
    },
    {
      "cell_type": "code",
      "source": [
        "d = {1:'e', 22:'d', 333:'c', 4444:'b', 55555:'a'}\n",
        "print(len(d) == len(d.items()) == len(d.keys()) == len(d.values()))\n",
        "print(max(d), d[max(d.keys(), key=(lambda k: d[k]))])\n",
        "print(min(d), d[min(d.keys(), key=(lambda k: d[k]))])"
      ],
      "metadata": {
        "colab": {
          "base_uri": "https://localhost:8080/"
        },
        "id": "TskTMlhShOe8",
        "outputId": "62af4512-8126-421f-b264-a93970743de6"
      },
      "execution_count": 41,
      "outputs": [
        {
          "output_type": "stream",
          "name": "stdout",
          "text": [
            "True\n",
            "55555 e\n",
            "1 a\n"
          ]
        }
      ]
    },
    {
      "cell_type": "code",
      "source": [
        "person = {\"name\":\"Max\", \"age\":28, \"city\":\"New York\"}\n",
        "print(person)\n",
        "print(person.get('name'), person.get('name', 'Lisa'))\n",
        "print(person.get('salary'), person.get('salary', 1000))\n",
        "print(person)"
      ],
      "metadata": {
        "colab": {
          "base_uri": "https://localhost:8080/"
        },
        "id": "27yQgmqLiupg",
        "outputId": "0bc64093-d465-4736-d202-49647dd0aa8a"
      },
      "execution_count": 42,
      "outputs": [
        {
          "output_type": "stream",
          "name": "stdout",
          "text": [
            "{'name': 'Max', 'age': 28, 'city': 'New York'}\n",
            "Max Max\n",
            "None 1000\n",
            "{'name': 'Max', 'age': 28, 'city': 'New York'}\n"
          ]
        }
      ]
    },
    {
      "cell_type": "code",
      "source": [
        "dict_ = {'e':1, 'd':2, 'c':3, 'b':4, 'a':5}\n",
        "value_f = dict_.setdefault('f')\n",
        "print(value_f, dict_)\n",
        "value_e = dict_.setdefault('e')\n",
        "print(value_e, dict_)\n",
        "value_f = dict_.setdefault('f', 0)\n",
        "print(value_f, dict_)\n",
        "p = dict_.pop('f')\n",
        "value_f = dict_.setdefault('f', 0)\n",
        "print(p, value_f, dict_)"
      ],
      "metadata": {
        "colab": {
          "base_uri": "https://localhost:8080/"
        },
        "id": "MWIS2rOMgS8-",
        "outputId": "c2cb9e2b-f82e-40c1-9e69-c30da5a54a3c"
      },
      "execution_count": 43,
      "outputs": [
        {
          "output_type": "stream",
          "name": "stdout",
          "text": [
            "None {'e': 1, 'd': 2, 'c': 3, 'b': 4, 'a': 5, 'f': None}\n",
            "1 {'e': 1, 'd': 2, 'c': 3, 'b': 4, 'a': 5, 'f': None}\n",
            "None {'e': 1, 'd': 2, 'c': 3, 'b': 4, 'a': 5, 'f': None}\n",
            "None 0 {'e': 1, 'd': 2, 'c': 3, 'b': 4, 'a': 5, 'f': 0}\n"
          ]
        }
      ]
    },
    {
      "cell_type": "code",
      "source": [
        "d = {1:'a', 2:'bb'}; print(d)\n",
        "d.update({3:'dddd', 4:'ccc'}); print(d)\n",
        "d[3] = 'ccc'; print(d)\n",
        "del d[4]; print(d)\n",
        "p = d.pop(3); print(p, d)\n",
        "p = d.pop(5, 'eeeee'); print(p, d)\n",
        "p = d.popitem(); print(p, d)\n",
        "d.clear(); print(d)"
      ],
      "metadata": {
        "colab": {
          "base_uri": "https://localhost:8080/"
        },
        "id": "7nnCl3Rydctf",
        "outputId": "e7718b02-7911-42d1-c9a9-da9e9f5999c6"
      },
      "execution_count": 44,
      "outputs": [
        {
          "output_type": "stream",
          "name": "stdout",
          "text": [
            "{1: 'a', 2: 'bb'}\n",
            "{1: 'a', 2: 'bb', 3: 'dddd', 4: 'ccc'}\n",
            "{1: 'a', 2: 'bb', 3: 'ccc', 4: 'ccc'}\n",
            "{1: 'a', 2: 'bb', 3: 'ccc'}\n",
            "ccc {1: 'a', 2: 'bb'}\n",
            "eeeee {1: 'a', 2: 'bb'}\n",
            "(2, 'bb') {1: 'a'}\n",
            "{}\n"
          ]
        }
      ]
    },
    {
      "cell_type": "code",
      "source": [
        "d1 = {1:'a', 2:'b'}\n",
        "d2 = {2:'bb', 3:'ccc', 4:'dddd'}\n",
        "d = {**d1, **d2}; print(d1, d2, d)\n",
        "d = {**d2, **d1}; print(d1, d2, d)\n",
        "d = {*d1, *d2}; print(d1, d2, d)\n",
        "d = {*d2, *d1}; print(d1, d2, d)\n",
        "d = d1 | d2; print(d1, d2, d)\n",
        "d = (d1 or d2); print(d1, d2, d, d1.__or__(d2))\n",
        "d = d2 | d1; print(d1, d2, d)\n",
        "d = d2 or d1; print(d1, d2, d, d2.__or__(d1))"
      ],
      "metadata": {
        "colab": {
          "base_uri": "https://localhost:8080/"
        },
        "id": "zCaDzj-5iM5T",
        "outputId": "2411f540-58b5-4ed3-c943-68b1aafdfb6f"
      },
      "execution_count": 45,
      "outputs": [
        {
          "output_type": "stream",
          "name": "stdout",
          "text": [
            "{1: 'a', 2: 'b'} {2: 'bb', 3: 'ccc', 4: 'dddd'} {1: 'a', 2: 'bb', 3: 'ccc', 4: 'dddd'}\n",
            "{1: 'a', 2: 'b'} {2: 'bb', 3: 'ccc', 4: 'dddd'} {2: 'b', 3: 'ccc', 4: 'dddd', 1: 'a'}\n",
            "{1: 'a', 2: 'b'} {2: 'bb', 3: 'ccc', 4: 'dddd'} {1, 2, 3, 4}\n",
            "{1: 'a', 2: 'b'} {2: 'bb', 3: 'ccc', 4: 'dddd'} {1, 2, 3, 4}\n",
            "{1: 'a', 2: 'b'} {2: 'bb', 3: 'ccc', 4: 'dddd'} {1: 'a', 2: 'bb', 3: 'ccc', 4: 'dddd'}\n",
            "{1: 'a', 2: 'b'} {2: 'bb', 3: 'ccc', 4: 'dddd'} {1: 'a', 2: 'b'} {1: 'a', 2: 'bb', 3: 'ccc', 4: 'dddd'}\n",
            "{1: 'a', 2: 'b'} {2: 'bb', 3: 'ccc', 4: 'dddd'} {2: 'b', 3: 'ccc', 4: 'dddd', 1: 'a'}\n",
            "{1: 'a', 2: 'b'} {2: 'bb', 3: 'ccc', 4: 'dddd'} {2: 'bb', 3: 'ccc', 4: 'dddd'} {2: 'b', 3: 'ccc', 4: 'dddd', 1: 'a'}\n"
          ]
        }
      ]
    },
    {
      "cell_type": "code",
      "source": [
        "# only for strings as keys\n",
        "# sólo para cadenas como claves\n",
        "d1 = {'a':1, 'bb':3}\n",
        "d2 = {'bb':2, 'ccc':3, 'dddd':4}\n",
        "d1 = dict(d1,**d2); print(d1)\n",
        "d1 = {'a':1, 'bb':3}\n",
        "d1.update(bb=2, ccc=3, dddd=4); print(d1)"
      ],
      "metadata": {
        "colab": {
          "base_uri": "https://localhost:8080/"
        },
        "id": "G_Jt11KRrr3O",
        "outputId": "bd128de7-549b-4e82-c169-206fccefe09e"
      },
      "execution_count": 46,
      "outputs": [
        {
          "output_type": "stream",
          "name": "stdout",
          "text": [
            "{'a': 1, 'bb': 2, 'ccc': 3, 'dddd': 4}\n",
            "{'a': 1, 'bb': 2, 'ccc': 3, 'dddd': 4}\n"
          ]
        }
      ]
    },
    {
      "cell_type": "code",
      "source": [
        "d = {1:'eeeee', 22:'dddd', 333:'ccc', 4444:'bb', 55555:'a'}\n",
        "print(f'{sorted(d) = }, {sorted(d.keys()) = }')\n",
        "print(f'{list(reversed(d)) = }, {[*reversed(d.keys())] = }')\n",
        "print(f'{sorted(d.values()) = }')\n",
        "print(f'{[*reversed(d.values())] = }')\n",
        "print(f'{sorted(d.items()) = }')\n",
        "print(f'{dict(sorted(d.items())) = }')\n",
        "print(f'{[*reversed(sorted(d.items()))] = }')"
      ],
      "metadata": {
        "colab": {
          "base_uri": "https://localhost:8080/"
        },
        "id": "ASfXTI80YMSd",
        "outputId": "18a2dbdc-3d67-4e7b-e077-fe18a6a3092e"
      },
      "execution_count": 47,
      "outputs": [
        {
          "output_type": "stream",
          "name": "stdout",
          "text": [
            "sorted(d) = [1, 22, 333, 4444, 55555], sorted(d.keys()) = [1, 22, 333, 4444, 55555]\n",
            "list(reversed(d)) = [55555, 4444, 333, 22, 1], [*reversed(d.keys())] = [55555, 4444, 333, 22, 1]\n",
            "sorted(d.values()) = ['a', 'bb', 'ccc', 'dddd', 'eeeee']\n",
            "[*reversed(d.values())] = ['a', 'bb', 'ccc', 'dddd', 'eeeee']\n",
            "sorted(d.items()) = [(1, 'eeeee'), (22, 'dddd'), (333, 'ccc'), (4444, 'bb'), (55555, 'a')]\n",
            "dict(sorted(d.items())) = {1: 'eeeee', 22: 'dddd', 333: 'ccc', 4444: 'bb', 55555: 'a'}\n",
            "[*reversed(sorted(d.items()))] = [(55555, 'a'), (4444, 'bb'), (333, 'ccc'), (22, 'dddd'), (1, 'eeeee')]\n"
          ]
        }
      ]
    },
    {
      "cell_type": "code",
      "source": [
        "print(dict(sorted(d.items(), key=lambda item: len(str(item[0])))))\n",
        "print(dict(sorted(d.items(), key=lambda item: item[0], reverse=True)))\n",
        "print(dict(sorted(d.items(), key=lambda item: item[1])))\n",
        "print(dict(sorted(d.items(), key=lambda item: len(item[1]), reverse=True)))"
      ],
      "metadata": {
        "colab": {
          "base_uri": "https://localhost:8080/"
        },
        "id": "aF9XnMm7ZasS",
        "outputId": "9ad2f3f0-388b-4243-ac59-f9398d68941a"
      },
      "execution_count": 48,
      "outputs": [
        {
          "output_type": "stream",
          "name": "stdout",
          "text": [
            "{1: 'eeeee', 22: 'dddd', 333: 'ccc', 4444: 'bb', 55555: 'a'}\n",
            "{55555: 'a', 4444: 'bb', 333: 'ccc', 22: 'dddd', 1: 'eeeee'}\n",
            "{55555: 'a', 4444: 'bb', 333: 'ccc', 22: 'dddd', 1: 'eeeee'}\n",
            "{1: 'eeeee', 22: 'dddd', 333: 'ccc', 4444: 'bb', 55555: 'a'}\n"
          ]
        }
      ]
    },
    {
      "cell_type": "code",
      "source": [
        "from operator import itemgetter\n",
        "print(dict(sorted(d.items(), key=itemgetter(0))))\n",
        "print(dict(sorted(d.items(), key=itemgetter(1))))"
      ],
      "metadata": {
        "colab": {
          "base_uri": "https://localhost:8080/"
        },
        "id": "erLQfmiwboGB",
        "outputId": "e6572952-74f8-4ee7-c2ca-5250b1573337"
      },
      "execution_count": 49,
      "outputs": [
        {
          "output_type": "stream",
          "name": "stdout",
          "text": [
            "{1: 'eeeee', 22: 'dddd', 333: 'ccc', 4444: 'bb', 55555: 'a'}\n",
            "{55555: 'a', 4444: 'bb', 333: 'ccc', 22: 'dddd', 1: 'eeeee'}\n"
          ]
        }
      ]
    },
    {
      "cell_type": "code",
      "source": [
        "from timeit import timeit\n",
        "dict_example = {'a%d'%i:'a'*i for i in range(100)}\n",
        "sorted_lambda = \"sorted(dict_example.items(), key=lambda item: item[1])\"\n",
        "sorted_itemgetter = \"sorted(dict_example.items(), key=itemgetter(1))\"\n",
        "sorted_lambda_time = timeit(stmt=sorted_lambda, globals=globals())\n",
        "sorted_itemgetter_time = timeit(\n",
        "    stmt=sorted_itemgetter,\n",
        "    setup=\"from operator import itemgetter\",\n",
        "    globals=globals())\n",
        "sorted_lambda_time / sorted_itemgetter_time"
      ],
      "metadata": {
        "colab": {
          "base_uri": "https://localhost:8080/"
        },
        "id": "2LyQQlRld8X7",
        "outputId": "c3ddc699-3644-4dad-a62e-364f09a3a1fd"
      },
      "execution_count": 50,
      "outputs": [
        {
          "output_type": "execute_result",
          "data": {
            "text/plain": [
              "3.58943800276457"
            ]
          },
          "metadata": {},
          "execution_count": 50
        }
      ]
    },
    {
      "cell_type": "code",
      "source": [
        "d = {1: ('♔', '♕'), 2:('♖', '♗'), 3:('♘', '♙')}\n",
        "print(('♔' in d, d.__contains__('♔' )),\n",
        "      (('♔', '♕') in d, d.__contains__(('♔', '♕'))),\n",
        "      (1 in d, d.__contains__(1 )),\n",
        "      ((1, ('♔', '♕')) in d, d.__contains__((1, ('♔', '♕')))))\n",
        "print(('♔' in d[1], d[1].__contains__('♔')),\n",
        "      (('♔', '♕') in d.values(), ),\n",
        "      (1 in d.keys(), d.keys().__contains__(1)),\n",
        "      ((1, ('♔', '♕')) in d.items(),\n",
        "       d.items().__contains__((1, ('♔', '♕')))))"
      ],
      "metadata": {
        "colab": {
          "base_uri": "https://localhost:8080/"
        },
        "id": "moeIdvRS8Poj",
        "outputId": "4f1bfc92-eac7-4d68-ac5c-38e5f6d089b3"
      },
      "execution_count": 51,
      "outputs": [
        {
          "output_type": "stream",
          "name": "stdout",
          "text": [
            "(False, False) (False, False) (True, True) (False, False)\n",
            "(True, True) (True,) (True, True) (True, True)\n"
          ]
        }
      ]
    },
    {
      "cell_type": "code",
      "source": [
        "# nested dictionaries / diccionarios anidados\n",
        "students = {'1':{'name':'Milena', 'age':'22', 'id':10027},\n",
        "            '2':{'name':'Tom','age':'23', 'id':10003}}\n",
        "print(students['1']['id'])\n",
        "powers = {str(i):{str(k):i**k for k in range(2, 5)} for i in range(3)}\n",
        "print(powers)"
      ],
      "metadata": {
        "colab": {
          "base_uri": "https://localhost:8080/"
        },
        "id": "eAk1C5WFfBnu",
        "outputId": "a852605b-a7ab-45ee-8c82-b00c7a6dd1c1"
      },
      "execution_count": 52,
      "outputs": [
        {
          "output_type": "stream",
          "name": "stdout",
          "text": [
            "10027\n",
            "{'0': {'2': 0, '3': 0, '4': 0}, '1': {'2': 1, '3': 1, '4': 1}, '2': {'2': 4, '3': 8, '4': 16}}\n"
          ]
        }
      ]
    },
    {
      "cell_type": "code",
      "source": [
        "d = {'a':'apple', 'b':'banana', 'c':None}\n",
        "print({key:value for (key, value) in d.items() if value is not None})\n",
        "d = {'a':'apple', 'b':'banana', 'c':'cherry'}\n",
        "print({key:value for (key, value) in d.items() if value[0] == 'a'})"
      ],
      "metadata": {
        "colab": {
          "base_uri": "https://localhost:8080/"
        },
        "id": "_MUcqUcnj5k_",
        "outputId": "9fd85f8e-a369-4600-debd-164ac380a309"
      },
      "execution_count": 53,
      "outputs": [
        {
          "output_type": "stream",
          "name": "stdout",
          "text": [
            "{'a': 'apple', 'b': 'banana'}\n",
            "{'a': 'apple'}\n"
          ]
        }
      ]
    },
    {
      "cell_type": "code",
      "source": [
        "d1 = {\"name\":\"Max\", \"age\":28, \"city\":\"New York\"}\n",
        "d2 = d1\n",
        "d3 = d1.copy()\n",
        "print(f'{d1 = }', f'{d2 = }', f'{d3 = }', sep='\\n')\n",
        "print(f'{d1 == d2 = }, {d1 == d3 = }')\n",
        "print(f'{d1 is d2 = }, {d1 is d3 = }')\n",
        "d1[\"name\"] = \"Mary\"\n",
        "print(f'{d1 = }', f'{d2 = }', f'{d3 = }', 50*'-', sep='\\n')\n",
        "d2[\"name\"] = \"Lisa\"\n",
        "print(f'{d1 = }', f'{d2 = }', f'{d3 = }', 50*'-', sep='\\n')\n",
        "d3[\"name\"] = \"Tom\"\n",
        "print(f'{d1 = }', f'{d2 = }', f'{d3 = }', sep='\\n')"
      ],
      "metadata": {
        "colab": {
          "base_uri": "https://localhost:8080/"
        },
        "id": "nb6f2X9l0RAb",
        "outputId": "024c5a90-aed8-4012-ff9a-8ab9982fb732"
      },
      "execution_count": 54,
      "outputs": [
        {
          "output_type": "stream",
          "name": "stdout",
          "text": [
            "d1 = {'name': 'Max', 'age': 28, 'city': 'New York'}\n",
            "d2 = {'name': 'Max', 'age': 28, 'city': 'New York'}\n",
            "d3 = {'name': 'Max', 'age': 28, 'city': 'New York'}\n",
            "d1 == d2 = True, d1 == d3 = True\n",
            "d1 is d2 = True, d1 is d3 = False\n",
            "d1 = {'name': 'Mary', 'age': 28, 'city': 'New York'}\n",
            "d2 = {'name': 'Mary', 'age': 28, 'city': 'New York'}\n",
            "d3 = {'name': 'Max', 'age': 28, 'city': 'New York'}\n",
            "--------------------------------------------------\n",
            "d1 = {'name': 'Lisa', 'age': 28, 'city': 'New York'}\n",
            "d2 = {'name': 'Lisa', 'age': 28, 'city': 'New York'}\n",
            "d3 = {'name': 'Max', 'age': 28, 'city': 'New York'}\n",
            "--------------------------------------------------\n",
            "d1 = {'name': 'Lisa', 'age': 28, 'city': 'New York'}\n",
            "d2 = {'name': 'Lisa', 'age': 28, 'city': 'New York'}\n",
            "d3 = {'name': 'Tom', 'age': 28, 'city': 'New York'}\n"
          ]
        }
      ]
    },
    {
      "cell_type": "code",
      "source": [
        "person = {\"name\":\"Max\", \"age\":28, \"city\":\"New York\"}\n",
        "print('His name is {name}, his age is {age}.'.format(**person))\n",
        "stringified_person = ' '.join(\n",
        "    [f'{k.capitalize()} {v}' for k,v in person.items()])\n",
        "print(f'string variable:\\n{stringified_person}')\n",
        "stringify_dict = lambda dict_val: ' '.join(\n",
        "    [f'{k.capitalize()} {v}' for k,v in dict_val.items()])\n",
        "stringified_person = stringify_dict(person)\n",
        "print(f'lambda function:\\n{stringified_person}')\n",
        "def stringify_dict(d:dict) -> str:\n",
        "    return ' '.join([f'{k.capitalize()} {v}' for k,v in d.items()])\n",
        "stringified_person = stringify_dict(person)\n",
        "print(f'custom function:\\n{stringified_person}')"
      ],
      "metadata": {
        "colab": {
          "base_uri": "https://localhost:8080/"
        },
        "id": "LOQZsY0J5kqL",
        "outputId": "add9ce70-ed9f-475a-c303-942c703f4995"
      },
      "execution_count": 55,
      "outputs": [
        {
          "output_type": "stream",
          "name": "stdout",
          "text": [
            "His name is Max, his age is 28.\n",
            "string variable:\n",
            "Name Max Age 28 City New York\n",
            "lambda function:\n",
            "Name Max Age 28 City New York\n",
            "custom function:\n",
            "Name Max Age 28 City New York\n"
          ]
        }
      ]
    },
    {
      "cell_type": "code",
      "source": [
        "from functools import reduce\n",
        "d = {'a': 1, 'bb': 2, 'ccc': 3, 'dddd': 4}\n",
        "print(reduce(lambda x, value:x + value ** 2, d.values(), 0))\n",
        "def merge_keys(dict_out, dict_in):\n",
        "    key, value = dict_in\n",
        "    dict_out[value] = dict_out.get(value, []) + [key]\n",
        "    return dict_out\n",
        "print(reduce(merge_keys, {1: 'a', 2: 'a'}.items(), {}))"
      ],
      "metadata": {
        "colab": {
          "base_uri": "https://localhost:8080/"
        },
        "id": "lnOlfrLk-zAZ",
        "outputId": "068ea5ff-c76b-4a40-ecc2-9b0f8be15909"
      },
      "execution_count": 56,
      "outputs": [
        {
          "output_type": "stream",
          "name": "stdout",
          "text": [
            "30\n",
            "{'a': [1, 2]}\n"
          ]
        }
      ]
    },
    {
      "cell_type": "markdown",
      "source": [
        "Interaction with modules || Interacción con módulos"
      ],
      "metadata": {
        "id": "wlM_Soi6l7-8"
      }
    },
    {
      "cell_type": "code",
      "source": [
        "import re\n",
        "re_list_of_dict = lambda string: re.finditer(\n",
        "    r\"(?:\\[\\]|\\[\\s*?{.*?}\\s*\\])\", string)\n",
        "dict_lst = [{1:1}, {2:2}, {3:3}]\n",
        "dict_ = {1:1, 2:2, 3:3}\n",
        "lst = [1, 2, 3]\n",
        "string = str(dict_lst) + ' ' + str(dict_) + ' ' + str(lst)\n",
        "result_iter = re_list_of_dict(string)\n",
        "result = next(result_iter)\n",
        "try: result2 = next(result_iter)\n",
        "except: result2 = None\n",
        "print(string, result, result2, result[0], sep='\\n')\n",
        "exec(f'dict_lst2 = {result[0]}')\n",
        "dict_lst2, type(dict_lst2)"
      ],
      "metadata": {
        "colab": {
          "base_uri": "https://localhost:8080/"
        },
        "id": "eb40Y-cCPjN4",
        "outputId": "f9f40545-cc33-472b-f588-f1d6c2cc8510"
      },
      "execution_count": 57,
      "outputs": [
        {
          "output_type": "stream",
          "name": "stdout",
          "text": [
            "[{1: 1}, {2: 2}, {3: 3}] {1: 1, 2: 2, 3: 3} [1, 2, 3]\n",
            "<re.Match object; span=(0, 24), match='[{1: 1}, {2: 2}, {3: 3}]'>\n",
            "None\n",
            "[{1: 1}, {2: 2}, {3: 3}]\n"
          ]
        },
        {
          "output_type": "execute_result",
          "data": {
            "text/plain": [
              "([{1: 1}, {2: 2}, {3: 3}], list)"
            ]
          },
          "metadata": {},
          "execution_count": 57
        }
      ]
    },
    {
      "cell_type": "code",
      "source": [
        "from datetime import timedelta, date\n",
        "def date_dict(start, end, step):\n",
        "    return {f'day_{i // step + 1}': start + timedelta(i)\n",
        "            for i in range(0, int((end - start).days), step)}\n",
        "dd = date_dict(date(2023, 10, 1), date(2023, 10, 10), 4)\n",
        "print(type(dd), dd, sep='\\n')"
      ],
      "metadata": {
        "colab": {
          "base_uri": "https://localhost:8080/"
        },
        "id": "74S8nA4PVbcq",
        "outputId": "f9c5a94c-eaf3-4082-b478-01adab1d4599"
      },
      "execution_count": 58,
      "outputs": [
        {
          "output_type": "stream",
          "name": "stdout",
          "text": [
            "<class 'dict'>\n",
            "{'day_1': datetime.date(2023, 10, 1), 'day_2': datetime.date(2023, 10, 5), 'day_3': datetime.date(2023, 10, 9)}\n"
          ]
        }
      ]
    },
    {
      "cell_type": "code",
      "source": [
        "import random\n",
        "set_ = {'♔', '♕', '♖', '♗', '♘', '♙'}\n",
        "random_dict, i = {}, 1\n",
        "while set_:\n",
        "    rc = random.choice([*set_])\n",
        "    random_dict.update({rc: i})\n",
        "    set_.remove(rc)\n",
        "    i+=1\n",
        "random_dict"
      ],
      "metadata": {
        "colab": {
          "base_uri": "https://localhost:8080/"
        },
        "id": "3RAfUddfYqhY",
        "outputId": "302b4281-45a3-475c-b576-8d7248000aa4"
      },
      "execution_count": 59,
      "outputs": [
        {
          "output_type": "execute_result",
          "data": {
            "text/plain": [
              "{'♖': 1, '♘': 2, '♔': 3, '♕': 4, '♙': 5, '♗': 6}"
            ]
          },
          "metadata": {},
          "execution_count": 59
        }
      ]
    },
    {
      "cell_type": "code",
      "source": [
        "%%writefile personal_data.json\n",
        "{\n",
        "  \"person1\": {\n",
        "    \"name\": \"John Doe\",\n",
        "    \"age\": 30,\n",
        "    \"address\": {\n",
        "      \"street\": \"123 Main St\",\n",
        "      \"city\": \"Anytown\"\n",
        "    },\n",
        "    \"email\": \"johndoe@example.com\"\n",
        "  },\n",
        "  \"person2\": {\n",
        "    \"name\": \"Jane Smith\",\n",
        "    \"age\": 25,\n",
        "    \"address\": {\n",
        "      \"street\": \"456 Elm St\",\n",
        "      \"city\": \"Othertown\"\n",
        "    },\n",
        "    \"email\": \"janesmith@example.com\"\n",
        "  }\n",
        "}"
      ],
      "metadata": {
        "colab": {
          "base_uri": "https://localhost:8080/"
        },
        "id": "tWBKeqBVjlVH",
        "outputId": "7762a5ca-58e3-41b2-8182-e0d88d3b8f3e"
      },
      "execution_count": 60,
      "outputs": [
        {
          "output_type": "stream",
          "name": "stdout",
          "text": [
            "Writing personal_data.json\n"
          ]
        }
      ]
    },
    {
      "cell_type": "code",
      "source": [
        "import json\n",
        "with open('personal_data.json', 'r') as f:\n",
        "    personal_data = json.load(f)\n",
        "print(type(personal_data))\n",
        "display(personal_data)"
      ],
      "metadata": {
        "colab": {
          "base_uri": "https://localhost:8080/",
          "height": 173
        },
        "id": "vAdsook-jzTB",
        "outputId": "1e0cef6a-883e-4aa1-a057-2199884e6b8d"
      },
      "execution_count": 61,
      "outputs": [
        {
          "output_type": "stream",
          "name": "stdout",
          "text": [
            "<class 'dict'>\n"
          ]
        },
        {
          "output_type": "display_data",
          "data": {
            "text/plain": [
              "{'person1': {'name': 'John Doe',\n",
              "  'age': 30,\n",
              "  'address': {'street': '123 Main St', 'city': 'Anytown'},\n",
              "  'email': 'johndoe@example.com'},\n",
              " 'person2': {'name': 'Jane Smith',\n",
              "  'age': 25,\n",
              "  'address': {'street': '456 Elm St', 'city': 'Othertown'},\n",
              "  'email': 'janesmith@example.com'}}"
            ]
          },
          "metadata": {}
        }
      ]
    },
    {
      "cell_type": "code",
      "source": [
        "import random, pylab as pl\n",
        "from collections import namedtuple\n",
        "point = namedtuple(\"point\", \"x y r a\")\n",
        "def fill_dict(d, c, r, a):\n",
        "    x, y = random.random(), random.random()\n",
        "    x0, y0 = c\n",
        "    t = ((x - x0) ** 2 + (y - y0) ** 2) ** .5 - r\n",
        "    if abs(t) < a:\n",
        "        d.update({point(x, y, r, a): t})\n",
        "d, n = {}, 100\n",
        "while len(d) < n: fill_dict(d, (.5, .5), .3, .1)\n",
        "print(list(d.items())[0])\n",
        "dk = list(d.keys())\n",
        "for i in range(n):\n",
        "    pl.scatter(dk[i].x, dk[i].y, s=5, marker='*')"
      ],
      "metadata": {
        "colab": {
          "base_uri": "https://localhost:8080/",
          "height": 447
        },
        "id": "Wih1NNNuMhwk",
        "outputId": "2e49070d-2b20-42df-8516-4b604f050fb3"
      },
      "execution_count": 108,
      "outputs": [
        {
          "output_type": "stream",
          "name": "stdout",
          "text": [
            "(point(x=0.13554646733514708, y=0.5606252243733132, r=0.3, a=0.1), 0.0694614936663977)\n"
          ]
        },
        {
          "output_type": "display_data",
          "data": {
            "text/plain": [
              "<Figure size 640x480 with 1 Axes>"
            ],
            "image/png": "[encoded data removed]"
          },
          "metadata": {}
        }
      ]
    },
    {
      "cell_type": "code",
      "source": [
        "import polars as po\n",
        "df_po = po.DataFrame(list(d.items()), schema=[\"point\", \"t\"])\n",
        "df_po.head()"
      ],
      "metadata": {
        "colab": {
          "base_uri": "https://localhost:8080/",
          "height": 255
        },
        "id": "DN6ujJHXaa4T",
        "outputId": "ecbdb3c4-0109-4e39-9fa5-a7ba9a8df7da"
      },
      "execution_count": 114,
      "outputs": [
        {
          "output_type": "execute_result",
          "data": {
            "text/plain": [
              "shape: (5, 2)\n",
              "┌───────────────────────────────────┬───────────┐\n",
              "│ point                             ┆ t         │\n",
              "│ ---                               ┆ ---       │\n",
              "│ object                            ┆ f64       │\n",
              "╞═══════════════════════════════════╪═══════════╡\n",
              "│ point(x=0.13554646733514708, y=0… ┆ 0.069461  │\n",
              "│ point(x=0.6084429872917309, y=0.… ┆ -0.078094 │\n",
              "│ point(x=0.6834852565732696, y=0.… ┆ -0.06123  │\n",
              "│ point(x=0.33604284157440134, y=0… ┆ 0.08439   │\n",
              "│ point(x=0.36450682411002566, y=0… ┆ 0.06931   │\n",
              "└───────────────────────────────────┴───────────┘"
            ],
            "text/html": [
              "<div><style>\n",
              ".dataframe > thead > tr > th,\n",
              ".dataframe > tbody > tr > td {\n",
              "  text-align: right;\n",
              "}\n",
              "</style>\n",
              "<small>shape: (5, 2)</small><table border=\"1\" class=\"dataframe\"><thead><tr><th>point</th><th>t</th></tr><tr><td>object</td><td>f64</td></tr></thead><tbody><tr><td>point(x=0.13554646733514708, y=0.5606252243733132, r=0.3, a=0.1)</td><td>0.069461</td></tr><tr><td>point(x=0.6084429872917309, y=0.3063967890360765, r=0.3, a=0.1)</td><td>-0.078094</td></tr><tr><td>point(x=0.6834852565732696, y=0.6527884052089851, r=0.3, a=0.1)</td><td>-0.06123</td></tr><tr><td>point(x=0.33604284157440134, y=0.15233129423070402, r=0.3, a=0.1)</td><td>0.08439</td></tr><tr><td>point(x=0.36450682411002566, y=0.15644325958025218, r=0.3, a=0.1)</td><td>0.06931</td></tr></tbody></table></div>"
            ]
          },
          "metadata": {},
          "execution_count": 114
        }
      ]
    },
    {
      "cell_type": "code",
      "source": [
        "import numpy as np, pandas as pd, seaborn as sn"
      ],
      "metadata": {
        "id": "CFl9tQPQjrNm"
      },
      "execution_count": 62,
      "outputs": []
    },
    {
      "cell_type": "code",
      "source": [
        "set_ = {1.5, 2, 3., 3.4, 1, 4., 5.0}\n",
        "frozenset_ = frozenset(set_)\n",
        "arr_1 = np.array(frozenset_)\n",
        "print(arr_1, arr_1.shape)\n",
        "arr_2 = np.array([*frozenset_])\n",
        "print(arr_2, arr_2.shape, arr_2[0])"
      ],
      "metadata": {
        "colab": {
          "base_uri": "https://localhost:8080/"
        },
        "id": "QIfTu_9cmxey",
        "outputId": "3c32e8c9-9cb6-4a67-f382-ed7a6590e8ef"
      },
      "execution_count": 63,
      "outputs": [
        {
          "output_type": "stream",
          "name": "stdout",
          "text": [
            "frozenset({1.5, 2, 3.0, 3.4, 1, 4.0, 5.0}) ()\n",
            "[1.5 2.  3.  3.4 1.  4.  5. ] (7,) 1.5\n"
          ]
        }
      ]
    },
    {
      "cell_type": "code",
      "source": [
        "dict_ = {1.5: 1.0, 2.0: 5.0, 3.4: 3.0, 1.0: 4.0}\n",
        "arr_1 = np.array(dict_)\n",
        "print(arr_1, arr_1.shape, arr_1.dtype)\n",
        "arr_2 = np.array([*dict_])\n",
        "print(arr_2, arr_2.shape, arr_2[0], arr_2.dtype)\n",
        "arr_3 = np.array([*dict_.items()])\n",
        "print(arr_3, arr_3.shape, arr_3[0], arr_3.dtype)\n",
        "arr_4 = np.array([list(dict_.keys()), list(dict_.values())])\n",
        "print(arr_4, arr_4.shape, arr_4[0], arr_4.dtype)\n",
        "arr_5 = np.array([*dict_.keys(), *dict_.values()])\n",
        "print(arr_5, arr_5.shape, arr_5[0], arr_5.dtype)"
      ],
      "metadata": {
        "colab": {
          "base_uri": "https://localhost:8080/"
        },
        "id": "6N0FvDhipMrV",
        "outputId": "6443f35b-e0a9-4912-be5a-e3dc2ea59392"
      },
      "execution_count": 64,
      "outputs": [
        {
          "output_type": "stream",
          "name": "stdout",
          "text": [
            "{1.5: 1.0, 2.0: 5.0, 3.4: 3.0, 1.0: 4.0} () object\n",
            "[1.5 2.  3.4 1. ] (4,) 1.5 float64\n",
            "[[1.5 1. ]\n",
            " [2.  5. ]\n",
            " [3.4 3. ]\n",
            " [1.  4. ]] (4, 2) [1.5 1. ] float64\n",
            "[[1.5 2.  3.4 1. ]\n",
            " [1.  5.  3.  4. ]] (2, 4) [1.5 2.  3.4 1. ] float64\n",
            "[1.5 2.  3.4 1.  1.  5.  3.  4. ] (8,) 1.5 float64\n"
          ]
        }
      ]
    },
    {
      "cell_type": "code",
      "source": [
        "arr = np.array([[1.5, 2, 3.4, 1, 2], [1, 2, 3, 4, 5]])\n",
        "print(arr, arr.shape)\n",
        "print(set(arr.reshape(-1)), frozenset(arr.reshape(-1)))\n",
        "print(arr.reshape(-1), arr.reshape(-1).shape)\n",
        "print(dict(arr.T))\n",
        "print(arr.T, arr.T.shape)"
      ],
      "metadata": {
        "colab": {
          "base_uri": "https://localhost:8080/"
        },
        "id": "JxnEf2-UkDHV",
        "outputId": "207b297e-4a8e-46cb-dc82-17850a77595a"
      },
      "execution_count": 65,
      "outputs": [
        {
          "output_type": "stream",
          "name": "stdout",
          "text": [
            "[[1.5 2.  3.4 1.  2. ]\n",
            " [1.  2.  3.  4.  5. ]] (2, 5)\n",
            "{1.5, 2.0, 3.0, 3.4, 1.0, 4.0, 5.0} frozenset({1.5, 2.0, 3.0, 3.4, 1.0, 4.0, 5.0})\n",
            "[1.5 2.  3.4 1.  2.  1.  2.  3.  4.  5. ] (10,)\n",
            "{1.5: 1.0, 2.0: 5.0, 3.4: 3.0, 1.0: 4.0}\n",
            "[[1.5 1. ]\n",
            " [2.  2. ]\n",
            " [3.4 3. ]\n",
            " [1.  4. ]\n",
            " [2.  5. ]] (5, 2)\n"
          ]
        }
      ]
    },
    {
      "cell_type": "code",
      "source": [
        "dtypes = {'col1': ('?', 0), 'col2':('i1', 0), 'col3': ('f4', 1)}\n",
        "arr = np.array([(1, 2, 3), (4, 5, 6), (0, 10, 20)], dtype=dtypes)\n",
        "(arr, arr.shape ,\n",
        " (arr['col1'], arr['col2'], arr['col3']),\n",
        " arr[1])"
      ],
      "metadata": {
        "colab": {
          "base_uri": "https://localhost:8080/"
        },
        "id": "dSw_aLHkOACy",
        "outputId": "de6e5f23-67c7-4b88-ccc6-d4e47b5bcd00"
      },
      "execution_count": 66,
      "outputs": [
        {
          "output_type": "execute_result",
          "data": {
            "text/plain": [
              "(array([( True,  2,  3.), ( True,  5,  6.), ( True, 10, 20.)],\n",
              "       dtype={'names': ['col1', 'col2', 'col3'], 'formats': ['?', 'i1', '<f4'], 'offsets': [0, 0, 1], 'itemsize': 5}),\n",
              " (3,),\n",
              " (array([ True,  True,  True]),\n",
              "  array([ 2,  5, 10], dtype=int8),\n",
              "  array([ 3.,  6., 20.], dtype=float32)),\n",
              " (True, 5, 6.))"
            ]
          },
          "metadata": {},
          "execution_count": 66
        }
      ]
    },
    {
      "cell_type": "code",
      "source": [
        "set_ = {1.5, 2, 3., 3.4, 1, 4., 5.}\n",
        "frozenset_ = frozenset(set_)\n",
        "ds = pd.Series([*frozenset_])\n",
        "df = pd.DataFrame([*frozenset_]).T\n",
        "display(ds, df)"
      ],
      "metadata": {
        "colab": {
          "base_uri": "https://localhost:8080/",
          "height": 219
        },
        "id": "nepILNXQdxgf",
        "outputId": "020c49e9-1587-43cf-981d-72b5a66503a7"
      },
      "execution_count": 67,
      "outputs": [
        {
          "output_type": "display_data",
          "data": {
            "text/plain": [
              "0    1.5\n",
              "1    2.0\n",
              "2    3.0\n",
              "3    3.4\n",
              "4    1.0\n",
              "5    4.0\n",
              "6    5.0\n",
              "dtype: float64"
            ]
          },
          "metadata": {}
        },
        {
          "output_type": "display_data",
          "data": {
            "text/plain": [
              "     0    1    2    3    4    5    6\n",
              "0  1.5  2.0  3.0  3.4  1.0  4.0  5.0"
            ],
            "text/html": [
              "\n",
              "  <div id=\"df-f5792038-7d09-4355-a695-920f0e302c84\" class=\"colab-df-container\">\n",
              "    <div>\n",
              "<style scoped>\n",
              "    .dataframe tbody tr th:only-of-type {\n",
              "        vertical-align: middle;\n",
              "    }\n",
              "\n",
              "    .dataframe tbody tr th {\n",
              "        vertical-align: top;\n",
              "    }\n",
              "\n",
              "    .dataframe thead th {\n",
              "        text-align: right;\n",
              "    }\n",
              "</style>\n",
              "<table border=\"1\" class=\"dataframe\">\n",
              "  <thead>\n",
              "    <tr style=\"text-align: right;\">\n",
              "      <th></th>\n",
              "      <th>0</th>\n",
              "      <th>1</th>\n",
              "      <th>2</th>\n",
              "      <th>3</th>\n",
              "      <th>4</th>\n",
              "      <th>5</th>\n",
              "      <th>6</th>\n",
              "    </tr>\n",
              "  </thead>\n",
              "  <tbody>\n",
              "    <tr>\n",
              "      <th>0</th>\n",
              "      <td>1.5</td>\n",
              "      <td>2.0</td>\n",
              "      <td>3.0</td>\n",
              "      <td>3.4</td>\n",
              "      <td>1.0</td>\n",
              "      <td>4.0</td>\n",
              "      <td>5.0</td>\n",
              "    </tr>\n",
              "  </tbody>\n",
              "</table>\n",
              "</div>\n",
              "    <div class=\"colab-df-buttons\">\n",
              "\n",
              "  <div class=\"colab-df-container\">\n",
              "    <button class=\"colab-df-convert\" onclick=\"convertToInteractive('df-f5792038-7d09-4355-a695-920f0e302c84')\"\n",
              "            title=\"Convert this dataframe to an interactive table.\"\n",
              "            style=\"display:none;\">\n",
              "\n",
              "  <svg xmlns=\"http://www.w3.org/2000/svg\" height=\"24px\" viewBox=\"0 -960 960 960\">\n",
              "    <path d=\"M120-120v-720h720v720H120Zm60-500h600v-160H180v160Zm220 220h160v-160H400v160Zm0 220h160v-160H400v160ZM180-400h160v-160H180v160Zm440 0h160v-160H620v160ZM180-180h160v-160H180v160Zm440 0h160v-160H620v160Z\"/>\n",
              "  </svg>\n",
              "    </button>\n",
              "\n",
              "  <style>\n",
              "    .colab-df-container {\n",
              "      display:flex;\n",
              "      gap: 12px;\n",
              "    }\n",
              "\n",
              "    .colab-df-convert {\n",
              "      background-color: #E8F0FE;\n",
              "      border: none;\n",
              "      border-radius: 50%;\n",
              "      cursor: pointer;\n",
              "      display: none;\n",
              "      fill: #1967D2;\n",
              "      height: 32px;\n",
              "      padding: 0 0 0 0;\n",
              "      width: 32px;\n",
              "    }\n",
              "\n",
              "    .colab-df-convert:hover {\n",
              "      background-color: #E2EBFA;\n",
              "      box-shadow: 0px 1px 2px rgba(60, 64, 67, 0.3), 0px 1px 3px 1px rgba(60, 64, 67, 0.15);\n",
              "      fill: #174EA6;\n",
              "    }\n",
              "\n",
              "    .colab-df-buttons div {\n",
              "      margin-bottom: 4px;\n",
              "    }\n",
              "\n",
              "    [theme=dark] .colab-df-convert {\n",
              "      background-color: #3B4455;\n",
              "      fill: #D2E3FC;\n",
              "    }\n",
              "\n",
              "    [theme=dark] .colab-df-convert:hover {\n",
              "      background-color: #434B5C;\n",
              "      box-shadow: 0px 1px 3px 1px rgba(0, 0, 0, 0.15);\n",
              "      filter: drop-shadow(0px 1px 2px rgba(0, 0, 0, 0.3));\n",
              "      fill: #FFFFFF;\n",
              "    }\n",
              "  </style>\n",
              "\n",
              "    <script>\n",
              "      const buttonEl =\n",
              "        document.querySelector('#df-f5792038-7d09-4355-a695-920f0e302c84 button.colab-df-convert');\n",
              "      buttonEl.style.display =\n",
              "        google.colab.kernel.accessAllowed ? 'block' : 'none';\n",
              "\n",
              "      async function convertToInteractive(key) {\n",
              "        const element = document.querySelector('#df-f5792038-7d09-4355-a695-920f0e302c84');\n",
              "        const dataTable =\n",
              "          await google.colab.kernel.invokeFunction('convertToInteractive',\n",
              "                                                    [key], {});\n",
              "        if (!dataTable) return;\n",
              "\n",
              "        const docLinkHtml = 'Like what you see? Visit the ' +\n",
              "          '<a target=\"_blank\" href=https://colab.research.google.com/notebooks/data_table.ipynb>data table notebook</a>'\n",
              "          + ' to learn more about interactive tables.';\n",
              "        element.innerHTML = '';\n",
              "        dataTable['output_type'] = 'display_data';\n",
              "        await google.colab.output.renderOutput(dataTable, element);\n",
              "        const docLink = document.createElement('div');\n",
              "        docLink.innerHTML = docLinkHtml;\n",
              "        element.appendChild(docLink);\n",
              "      }\n",
              "    </script>\n",
              "  </div>\n",
              "\n",
              "    </div>\n",
              "  </div>\n"
            ]
          },
          "metadata": {}
        }
      ]
    },
    {
      "cell_type": "code",
      "source": [
        " dict_ = {'♔':[1,2], '♕':[2,3], '♖':[3,4], '♗':4, '♘':5, '♙':6}\n",
        " ds = pd.Series(dict_)\n",
        " df = pd.DataFrame(dict_)\n",
        " display(ds, df)"
      ],
      "metadata": {
        "colab": {
          "base_uri": "https://localhost:8080/",
          "height": 233
        },
        "id": "AyQvzYTQc0VO",
        "outputId": "34568040-20ec-4279-806c-da1f6e836ccf"
      },
      "execution_count": 68,
      "outputs": [
        {
          "output_type": "display_data",
          "data": {
            "text/plain": [
              "♔    [1, 2]\n",
              "♕    [2, 3]\n",
              "♖    [3, 4]\n",
              "♗         4\n",
              "♘         5\n",
              "♙         6\n",
              "dtype: object"
            ]
          },
          "metadata": {}
        },
        {
          "output_type": "display_data",
          "data": {
            "text/plain": [
              "   ♔  ♕  ♖  ♗  ♘  ♙\n",
              "0  1  2  3  4  5  6\n",
              "1  2  3  4  4  5  6"
            ],
            "text/html": [
              "\n",
              "  <div id=\"df-9f3c84c4-e6b7-41ec-977a-23e4a13d7570\" class=\"colab-df-container\">\n",
              "    <div>\n",
              "<style scoped>\n",
              "    .dataframe tbody tr th:only-of-type {\n",
              "        vertical-align: middle;\n",
              "    }\n",
              "\n",
              "    .dataframe tbody tr th {\n",
              "        vertical-align: top;\n",
              "    }\n",
              "\n",
              "    .dataframe thead th {\n",
              "        text-align: right;\n",
              "    }\n",
              "</style>\n",
              "<table border=\"1\" class=\"dataframe\">\n",
              "  <thead>\n",
              "    <tr style=\"text-align: right;\">\n",
              "      <th></th>\n",
              "      <th>♔</th>\n",
              "      <th>♕</th>\n",
              "      <th>♖</th>\n",
              "      <th>♗</th>\n",
              "      <th>♘</th>\n",
              "      <th>♙</th>\n",
              "    </tr>\n",
              "  </thead>\n",
              "  <tbody>\n",
              "    <tr>\n",
              "      <th>0</th>\n",
              "      <td>1</td>\n",
              "      <td>2</td>\n",
              "      <td>3</td>\n",
              "      <td>4</td>\n",
              "      <td>5</td>\n",
              "      <td>6</td>\n",
              "    </tr>\n",
              "    <tr>\n",
              "      <th>1</th>\n",
              "      <td>2</td>\n",
              "      <td>3</td>\n",
              "      <td>4</td>\n",
              "      <td>4</td>\n",
              "      <td>5</td>\n",
              "      <td>6</td>\n",
              "    </tr>\n",
              "  </tbody>\n",
              "</table>\n",
              "</div>\n",
              "    <div class=\"colab-df-buttons\">\n",
              "\n",
              "  <div class=\"colab-df-container\">\n",
              "    <button class=\"colab-df-convert\" onclick=\"convertToInteractive('df-9f3c84c4-e6b7-41ec-977a-23e4a13d7570')\"\n",
              "            title=\"Convert this dataframe to an interactive table.\"\n",
              "            style=\"display:none;\">\n",
              "\n",
              "  <svg xmlns=\"http://www.w3.org/2000/svg\" height=\"24px\" viewBox=\"0 -960 960 960\">\n",
              "    <path d=\"M120-120v-720h720v720H120Zm60-500h600v-160H180v160Zm220 220h160v-160H400v160Zm0 220h160v-160H400v160ZM180-400h160v-160H180v160Zm440 0h160v-160H620v160ZM180-180h160v-160H180v160Zm440 0h160v-160H620v160Z\"/>\n",
              "  </svg>\n",
              "    </button>\n",
              "\n",
              "  <style>\n",
              "    .colab-df-container {\n",
              "      display:flex;\n",
              "      gap: 12px;\n",
              "    }\n",
              "\n",
              "    .colab-df-convert {\n",
              "      background-color: #E8F0FE;\n",
              "      border: none;\n",
              "      border-radius: 50%;\n",
              "      cursor: pointer;\n",
              "      display: none;\n",
              "      fill: #1967D2;\n",
              "      height: 32px;\n",
              "      padding: 0 0 0 0;\n",
              "      width: 32px;\n",
              "    }\n",
              "\n",
              "    .colab-df-convert:hover {\n",
              "      background-color: #E2EBFA;\n",
              "      box-shadow: 0px 1px 2px rgba(60, 64, 67, 0.3), 0px 1px 3px 1px rgba(60, 64, 67, 0.15);\n",
              "      fill: #174EA6;\n",
              "    }\n",
              "\n",
              "    .colab-df-buttons div {\n",
              "      margin-bottom: 4px;\n",
              "    }\n",
              "\n",
              "    [theme=dark] .colab-df-convert {\n",
              "      background-color: #3B4455;\n",
              "      fill: #D2E3FC;\n",
              "    }\n",
              "\n",
              "    [theme=dark] .colab-df-convert:hover {\n",
              "      background-color: #434B5C;\n",
              "      box-shadow: 0px 1px 3px 1px rgba(0, 0, 0, 0.15);\n",
              "      filter: drop-shadow(0px 1px 2px rgba(0, 0, 0, 0.3));\n",
              "      fill: #FFFFFF;\n",
              "    }\n",
              "  </style>\n",
              "\n",
              "    <script>\n",
              "      const buttonEl =\n",
              "        document.querySelector('#df-9f3c84c4-e6b7-41ec-977a-23e4a13d7570 button.colab-df-convert');\n",
              "      buttonEl.style.display =\n",
              "        google.colab.kernel.accessAllowed ? 'block' : 'none';\n",
              "\n",
              "      async function convertToInteractive(key) {\n",
              "        const element = document.querySelector('#df-9f3c84c4-e6b7-41ec-977a-23e4a13d7570');\n",
              "        const dataTable =\n",
              "          await google.colab.kernel.invokeFunction('convertToInteractive',\n",
              "                                                    [key], {});\n",
              "        if (!dataTable) return;\n",
              "\n",
              "        const docLinkHtml = 'Like what you see? Visit the ' +\n",
              "          '<a target=\"_blank\" href=https://colab.research.google.com/notebooks/data_table.ipynb>data table notebook</a>'\n",
              "          + ' to learn more about interactive tables.';\n",
              "        element.innerHTML = '';\n",
              "        dataTable['output_type'] = 'display_data';\n",
              "        await google.colab.output.renderOutput(dataTable, element);\n",
              "        const docLink = document.createElement('div');\n",
              "        docLink.innerHTML = docLinkHtml;\n",
              "        element.appendChild(docLink);\n",
              "      }\n",
              "    </script>\n",
              "  </div>\n",
              "\n",
              "\n",
              "<div id=\"df-9e0405c9-1868-468b-8512-fe00d4007e2f\">\n",
              "  <button class=\"colab-df-quickchart\" onclick=\"quickchart('df-9e0405c9-1868-468b-8512-fe00d4007e2f')\"\n",
              "            title=\"Suggest charts\"\n",
              "            style=\"display:none;\">\n",
              "\n",
              "<svg xmlns=\"http://www.w3.org/2000/svg\" height=\"24px\"viewBox=\"0 0 24 24\"\n",
              "     width=\"24px\">\n",
              "    <g>\n",
              "        <path d=\"M19 3H5c-1.1 0-2 .9-2 2v14c0 1.1.9 2 2 2h14c1.1 0 2-.9 2-2V5c0-1.1-.9-2-2-2zM9 17H7v-7h2v7zm4 0h-2V7h2v10zm4 0h-2v-4h2v4z\"/>\n",
              "    </g>\n",
              "</svg>\n",
              "  </button>\n",
              "\n",
              "<style>\n",
              "  .colab-df-quickchart {\n",
              "      --bg-color: #E8F0FE;\n",
              "      --fill-color: #1967D2;\n",
              "      --hover-bg-color: #E2EBFA;\n",
              "      --hover-fill-color: #174EA6;\n",
              "      --disabled-fill-color: #AAA;\n",
              "      --disabled-bg-color: #DDD;\n",
              "  }\n",
              "\n",
              "  [theme=dark] .colab-df-quickchart {\n",
              "      --bg-color: #3B4455;\n",
              "      --fill-color: #D2E3FC;\n",
              "      --hover-bg-color: #434B5C;\n",
              "      --hover-fill-color: #FFFFFF;\n",
              "      --disabled-bg-color: #3B4455;\n",
              "      --disabled-fill-color: #666;\n",
              "  }\n",
              "\n",
              "  .colab-df-quickchart {\n",
              "    background-color: var(--bg-color);\n",
              "    border: none;\n",
              "    border-radius: 50%;\n",
              "    cursor: pointer;\n",
              "    display: none;\n",
              "    fill: var(--fill-color);\n",
              "    height: 32px;\n",
              "    padding: 0;\n",
              "    width: 32px;\n",
              "  }\n",
              "\n",
              "  .colab-df-quickchart:hover {\n",
              "    background-color: var(--hover-bg-color);\n",
              "    box-shadow: 0 1px 2px rgba(60, 64, 67, 0.3), 0 1px 3px 1px rgba(60, 64, 67, 0.15);\n",
              "    fill: var(--button-hover-fill-color);\n",
              "  }\n",
              "\n",
              "  .colab-df-quickchart-complete:disabled,\n",
              "  .colab-df-quickchart-complete:disabled:hover {\n",
              "    background-color: var(--disabled-bg-color);\n",
              "    fill: var(--disabled-fill-color);\n",
              "    box-shadow: none;\n",
              "  }\n",
              "\n",
              "  .colab-df-spinner {\n",
              "    border: 2px solid var(--fill-color);\n",
              "    border-color: transparent;\n",
              "    border-bottom-color: var(--fill-color);\n",
              "    animation:\n",
              "      spin 1s steps(1) infinite;\n",
              "  }\n",
              "\n",
              "  @keyframes spin {\n",
              "    0% {\n",
              "      border-color: transparent;\n",
              "      border-bottom-color: var(--fill-color);\n",
              "      border-left-color: var(--fill-color);\n",
              "    }\n",
              "    20% {\n",
              "      border-color: transparent;\n",
              "      border-left-color: var(--fill-color);\n",
              "      border-top-color: var(--fill-color);\n",
              "    }\n",
              "    30% {\n",
              "      border-color: transparent;\n",
              "      border-left-color: var(--fill-color);\n",
              "      border-top-color: var(--fill-color);\n",
              "      border-right-color: var(--fill-color);\n",
              "    }\n",
              "    40% {\n",
              "      border-color: transparent;\n",
              "      border-right-color: var(--fill-color);\n",
              "      border-top-color: var(--fill-color);\n",
              "    }\n",
              "    60% {\n",
              "      border-color: transparent;\n",
              "      border-right-color: var(--fill-color);\n",
              "    }\n",
              "    80% {\n",
              "      border-color: transparent;\n",
              "      border-right-color: var(--fill-color);\n",
              "      border-bottom-color: var(--fill-color);\n",
              "    }\n",
              "    90% {\n",
              "      border-color: transparent;\n",
              "      border-bottom-color: var(--fill-color);\n",
              "    }\n",
              "  }\n",
              "</style>\n",
              "\n",
              "  <script>\n",
              "    async function quickchart(key) {\n",
              "      const quickchartButtonEl =\n",
              "        document.querySelector('#' + key + ' button');\n",
              "      quickchartButtonEl.disabled = true;  // To prevent multiple clicks.\n",
              "      quickchartButtonEl.classList.add('colab-df-spinner');\n",
              "      try {\n",
              "        const charts = await google.colab.kernel.invokeFunction(\n",
              "            'suggestCharts', [key], {});\n",
              "      } catch (error) {\n",
              "        console.error('Error during call to suggestCharts:', error);\n",
              "      }\n",
              "      quickchartButtonEl.classList.remove('colab-df-spinner');\n",
              "      quickchartButtonEl.classList.add('colab-df-quickchart-complete');\n",
              "    }\n",
              "    (() => {\n",
              "      let quickchartButtonEl =\n",
              "        document.querySelector('#df-9e0405c9-1868-468b-8512-fe00d4007e2f button');\n",
              "      quickchartButtonEl.style.display =\n",
              "        google.colab.kernel.accessAllowed ? 'block' : 'none';\n",
              "    })();\n",
              "  </script>\n",
              "</div>\n",
              "    </div>\n",
              "  </div>\n"
            ]
          },
          "metadata": {}
        }
      ]
    },
    {
      "cell_type": "code",
      "source": [
        "def df_style():\n",
        "    return [dict(selector='th',\n",
        "                 props=[('font-size', '16pt'), ('text-align', 'center')]),\n",
        "            dict(selector='td',\n",
        "                 props=[('min-width', '30px'), ('text-align', 'center')]),\n",
        "            dict(selector='th:hover',\n",
        "                 props=[('text-shadow', '2px 2px 2px #777'),\n",
        "                        ('color', 'transparent')]),\n",
        "            dict(selector='tr:hover td:hover',\n",
        "                 props=[('max-width', '100px'), ('font-size', '12pt'),\n",
        "                        ('text-shadow', '2px 2px 2px #777')])]\n",
        "df = pd.DataFrame(np.random.randn(5, 10)).cumsum()\n",
        "color_map = sn.diverging_palette(255, 1, as_cmap=True)\n",
        "display(df.style.background_gradient(color_map, axis=1)\\\n",
        "          .set_properties(**{'font-size':'1pt'})\\\n",
        "          .set_caption('hover styling')\\\n",
        "          .set_table_styles(df_style()))"
      ],
      "metadata": {
        "colab": {
          "base_uri": "https://localhost:8080/",
          "height": 322
        },
        "id": "yw4bMx-Hm8Nv",
        "outputId": "eafc64ea-948c-41d6-a585-017fe88efb91"
      },
      "execution_count": 69,
      "outputs": [
        {
          "output_type": "display_data",
          "data": {
            "text/plain": [
              "<pandas.io.formats.style.Styler at 0x7dc11c7ab5e0>"
            ],
            "text/html": [
              "<style type=\"text/css\">\n",
              "#T_5e8eb th {\n",
              "  font-size: 16pt;\n",
              "  text-align: center;\n",
              "}\n",
              "#T_5e8eb td {\n",
              "  min-width: 30px;\n",
              "  text-align: center;\n",
              "}\n",
              "#T_5e8eb th:hover {\n",
              "  text-shadow: 2px 2px 2px #777;\n",
              "  color: transparent;\n",
              "}\n",
              "#T_5e8eb tr:hover td:hover {\n",
              "  max-width: 100px;\n",
              "  font-size: 12pt;\n",
              "  text-shadow: 2px 2px 2px #777;\n",
              "}\n",
              "#T_5e8eb_row0_col0 {\n",
              "  background-color: #e7adbd;\n",
              "  color: #000000;\n",
              "  font-size: 1pt;\n",
              "}\n",
              "#T_5e8eb_row0_col1 {\n",
              "  background-color: #bac9e5;\n",
              "  color: #000000;\n",
              "  font-size: 1pt;\n",
              "}\n",
              "#T_5e8eb_row0_col2, #T_5e8eb_row1_col0, #T_5e8eb_row2_col0, #T_5e8eb_row3_col0, #T_5e8eb_row4_col0 {\n",
              "  background-color: #4676ca;\n",
              "  color: #f1f1f1;\n",
              "  font-size: 1pt;\n",
              "}\n",
              "#T_5e8eb_row0_col3 {\n",
              "  background-color: #e393a9;\n",
              "  color: #f1f1f1;\n",
              "  font-size: 1pt;\n",
              "}\n",
              "#T_5e8eb_row0_col4 {\n",
              "  background-color: #c6d2e8;\n",
              "  color: #000000;\n",
              "  font-size: 1pt;\n",
              "}\n",
              "#T_5e8eb_row0_col5, #T_5e8eb_row1_col4 {\n",
              "  background-color: #e1869f;\n",
              "  color: #f1f1f1;\n",
              "  font-size: 1pt;\n",
              "}\n",
              "#T_5e8eb_row0_col6, #T_5e8eb_row1_col3, #T_5e8eb_row2_col3, #T_5e8eb_row3_col3, #T_5e8eb_row4_col4, #T_5e8eb_row4_col7 {\n",
              "  background-color: #d53c67;\n",
              "  color: #f1f1f1;\n",
              "  font-size: 1pt;\n",
              "}\n",
              "#T_5e8eb_row0_col7 {\n",
              "  background-color: #d95378;\n",
              "  color: #f1f1f1;\n",
              "  font-size: 1pt;\n",
              "}\n",
              "#T_5e8eb_row0_col8 {\n",
              "  background-color: #799ad6;\n",
              "  color: #f1f1f1;\n",
              "  font-size: 1pt;\n",
              "}\n",
              "#T_5e8eb_row0_col9 {\n",
              "  background-color: #e8aebe;\n",
              "  color: #000000;\n",
              "  font-size: 1pt;\n",
              "}\n",
              "#T_5e8eb_row1_col1 {\n",
              "  background-color: #becce6;\n",
              "  color: #000000;\n",
              "  font-size: 1pt;\n",
              "}\n",
              "#T_5e8eb_row1_col2 {\n",
              "  background-color: #e8b3c1;\n",
              "  color: #000000;\n",
              "  font-size: 1pt;\n",
              "}\n",
              "#T_5e8eb_row1_col5 {\n",
              "  background-color: #dd6b8b;\n",
              "  color: #f1f1f1;\n",
              "  font-size: 1pt;\n",
              "}\n",
              "#T_5e8eb_row1_col6 {\n",
              "  background-color: #edcfd7;\n",
              "  color: #000000;\n",
              "  font-size: 1pt;\n",
              "}\n",
              "#T_5e8eb_row1_col7 {\n",
              "  background-color: #d7486f;\n",
              "  color: #f1f1f1;\n",
              "  font-size: 1pt;\n",
              "}\n",
              "#T_5e8eb_row1_col8, #T_5e8eb_row2_col5 {\n",
              "  background-color: #e59fb2;\n",
              "  color: #000000;\n",
              "  font-size: 1pt;\n",
              "}\n",
              "#T_5e8eb_row1_col9 {\n",
              "  background-color: #ecc9d3;\n",
              "  color: #000000;\n",
              "  font-size: 1pt;\n",
              "}\n",
              "#T_5e8eb_row2_col1 {\n",
              "  background-color: #dfe4ee;\n",
              "  color: #000000;\n",
              "  font-size: 1pt;\n",
              "}\n",
              "#T_5e8eb_row2_col2 {\n",
              "  background-color: #ebc2cd;\n",
              "  color: #000000;\n",
              "  font-size: 1pt;\n",
              "}\n",
              "#T_5e8eb_row2_col4 {\n",
              "  background-color: #e28ea6;\n",
              "  color: #f1f1f1;\n",
              "  font-size: 1pt;\n",
              "}\n",
              "#T_5e8eb_row2_col6 {\n",
              "  background-color: #df7995;\n",
              "  color: #f1f1f1;\n",
              "  font-size: 1pt;\n",
              "}\n",
              "#T_5e8eb_row2_col7 {\n",
              "  background-color: #da5c7f;\n",
              "  color: #f1f1f1;\n",
              "  font-size: 1pt;\n",
              "}\n",
              "#T_5e8eb_row2_col8 {\n",
              "  background-color: #f1e5e8;\n",
              "  color: #000000;\n",
              "  font-size: 1pt;\n",
              "}\n",
              "#T_5e8eb_row2_col9 {\n",
              "  background-color: #e289a1;\n",
              "  color: #f1f1f1;\n",
              "  font-size: 1pt;\n",
              "}\n",
              "#T_5e8eb_row3_col1 {\n",
              "  background-color: #e1e5ef;\n",
              "  color: #000000;\n",
              "  font-size: 1pt;\n",
              "}\n",
              "#T_5e8eb_row3_col2 {\n",
              "  background-color: #dbe2ed;\n",
              "  color: #000000;\n",
              "  font-size: 1pt;\n",
              "}\n",
              "#T_5e8eb_row3_col4 {\n",
              "  background-color: #d95277;\n",
              "  color: #f1f1f1;\n",
              "  font-size: 1pt;\n",
              "}\n",
              "#T_5e8eb_row3_col5, #T_5e8eb_row3_col6 {\n",
              "  background-color: #e28da5;\n",
              "  color: #f1f1f1;\n",
              "  font-size: 1pt;\n",
              "}\n",
              "#T_5e8eb_row3_col7 {\n",
              "  background-color: #e1839d;\n",
              "  color: #f1f1f1;\n",
              "  font-size: 1pt;\n",
              "}\n",
              "#T_5e8eb_row3_col8 {\n",
              "  background-color: #ebedf1;\n",
              "  color: #000000;\n",
              "  font-size: 1pt;\n",
              "}\n",
              "#T_5e8eb_row3_col9 {\n",
              "  background-color: #f0e4e7;\n",
              "  color: #000000;\n",
              "  font-size: 1pt;\n",
              "}\n",
              "#T_5e8eb_row4_col1 {\n",
              "  background-color: #c3d0e8;\n",
              "  color: #000000;\n",
              "  font-size: 1pt;\n",
              "}\n",
              "#T_5e8eb_row4_col2 {\n",
              "  background-color: #e7aabb;\n",
              "  color: #000000;\n",
              "  font-size: 1pt;\n",
              "}\n",
              "#T_5e8eb_row4_col3 {\n",
              "  background-color: #da597c;\n",
              "  color: #f1f1f1;\n",
              "  font-size: 1pt;\n",
              "}\n",
              "#T_5e8eb_row4_col5 {\n",
              "  background-color: #e07f9a;\n",
              "  color: #f1f1f1;\n",
              "  font-size: 1pt;\n",
              "}\n",
              "#T_5e8eb_row4_col6 {\n",
              "  background-color: #dd6e8d;\n",
              "  color: #f1f1f1;\n",
              "  font-size: 1pt;\n",
              "}\n",
              "#T_5e8eb_row4_col8 {\n",
              "  background-color: #e6a7b9;\n",
              "  color: #000000;\n",
              "  font-size: 1pt;\n",
              "}\n",
              "#T_5e8eb_row4_col9 {\n",
              "  background-color: #edd2d9;\n",
              "  color: #000000;\n",
              "  font-size: 1pt;\n",
              "}\n",
              "</style>\n",
              "<table id=\"T_5e8eb\" class=\"dataframe\">\n",
              "  <caption>hover styling</caption>\n",
              "  <thead>\n",
              "    <tr>\n",
              "      <th class=\"blank level0\" >&nbsp;</th>\n",
              "      <th id=\"T_5e8eb_level0_col0\" class=\"col_heading level0 col0\" >0</th>\n",
              "      <th id=\"T_5e8eb_level0_col1\" class=\"col_heading level0 col1\" >1</th>\n",
              "      <th id=\"T_5e8eb_level0_col2\" class=\"col_heading level0 col2\" >2</th>\n",
              "      <th id=\"T_5e8eb_level0_col3\" class=\"col_heading level0 col3\" >3</th>\n",
              "      <th id=\"T_5e8eb_level0_col4\" class=\"col_heading level0 col4\" >4</th>\n",
              "      <th id=\"T_5e8eb_level0_col5\" class=\"col_heading level0 col5\" >5</th>\n",
              "      <th id=\"T_5e8eb_level0_col6\" class=\"col_heading level0 col6\" >6</th>\n",
              "      <th id=\"T_5e8eb_level0_col7\" class=\"col_heading level0 col7\" >7</th>\n",
              "      <th id=\"T_5e8eb_level0_col8\" class=\"col_heading level0 col8\" >8</th>\n",
              "      <th id=\"T_5e8eb_level0_col9\" class=\"col_heading level0 col9\" >9</th>\n",
              "    </tr>\n",
              "  </thead>\n",
              "  <tbody>\n",
              "    <tr>\n",
              "      <th id=\"T_5e8eb_level0_row0\" class=\"row_heading level0 row0\" >0</th>\n",
              "      <td id=\"T_5e8eb_row0_col0\" class=\"data row0 col0\" >0.516307</td>\n",
              "      <td id=\"T_5e8eb_row0_col1\" class=\"data row0 col1\" >0.032276</td>\n",
              "      <td id=\"T_5e8eb_row0_col2\" class=\"data row0 col2\" >-0.437847</td>\n",
              "      <td id=\"T_5e8eb_row0_col3\" class=\"data row0 col3\" >0.616782</td>\n",
              "      <td id=\"T_5e8eb_row0_col4\" class=\"data row0 col4\" >0.080222</td>\n",
              "      <td id=\"T_5e8eb_row0_col5\" class=\"data row0 col5\" >0.667722</td>\n",
              "      <td id=\"T_5e8eb_row0_col6\" class=\"data row0 col6\" >0.949919</td>\n",
              "      <td id=\"T_5e8eb_row0_col7\" class=\"data row0 col7\" >0.858208</td>\n",
              "      <td id=\"T_5e8eb_row0_col8\" class=\"data row0 col8\" >-0.227580</td>\n",
              "      <td id=\"T_5e8eb_row0_col9\" class=\"data row0 col9\" >0.514661</td>\n",
              "    </tr>\n",
              "    <tr>\n",
              "      <th id=\"T_5e8eb_level0_row1\" class=\"row_heading level0 row1\" >1</th>\n",
              "      <td id=\"T_5e8eb_row1_col0\" class=\"data row1 col0\" >-1.591428</td>\n",
              "      <td id=\"T_5e8eb_row1_col1\" class=\"data row1 col1\" >-0.622340</td>\n",
              "      <td id=\"T_5e8eb_row1_col2\" class=\"data row1 col2\" >0.275719</td>\n",
              "      <td id=\"T_5e8eb_row1_col3\" class=\"data row1 col3\" >1.178505</td>\n",
              "      <td id=\"T_5e8eb_row1_col4\" class=\"data row1 col4\" >0.606990</td>\n",
              "      <td id=\"T_5e8eb_row1_col5\" class=\"data row1 col5\" >0.818027</td>\n",
              "      <td id=\"T_5e8eb_row1_col6\" class=\"data row1 col6\" >0.059661</td>\n",
              "      <td id=\"T_5e8eb_row1_col7\" class=\"data row1 col7\" >1.084387</td>\n",
              "      <td id=\"T_5e8eb_row1_col8\" class=\"data row1 col8\" >0.428873</td>\n",
              "      <td id=\"T_5e8eb_row1_col9\" class=\"data row1 col9\" >0.103541</td>\n",
              "    </tr>\n",
              "    <tr>\n",
              "      <th id=\"T_5e8eb_level0_row2\" class=\"row_heading level0 row2\" >2</th>\n",
              "      <td id=\"T_5e8eb_row2_col0\" class=\"data row2 col0\" >-3.567214</td>\n",
              "      <td id=\"T_5e8eb_row2_col1\" class=\"data row2 col1\" >-1.123264</td>\n",
              "      <td id=\"T_5e8eb_row2_col2\" class=\"data row2 col2\" >-0.140415</td>\n",
              "      <td id=\"T_5e8eb_row2_col3\" class=\"data row2 col3\" >1.874985</td>\n",
              "      <td id=\"T_5e8eb_row2_col4\" class=\"data row2 col4\" >0.641142</td>\n",
              "      <td id=\"T_5e8eb_row2_col5\" class=\"data row2 col5\" >0.390743</td>\n",
              "      <td id=\"T_5e8eb_row2_col6\" class=\"data row2 col6\" >0.943577</td>\n",
              "      <td id=\"T_5e8eb_row2_col7\" class=\"data row2 col7\" >1.400114</td>\n",
              "      <td id=\"T_5e8eb_row2_col8\" class=\"data row2 col8\" >-0.672750</td>\n",
              "      <td id=\"T_5e8eb_row2_col9\" class=\"data row2 col9\" >0.716513</td>\n",
              "    </tr>\n",
              "    <tr>\n",
              "      <th id=\"T_5e8eb_level0_row3\" class=\"row_heading level0 row3\" >3</th>\n",
              "      <td id=\"T_5e8eb_row3_col0\" class=\"data row3 col0\" >-4.544064</td>\n",
              "      <td id=\"T_5e8eb_row3_col1\" class=\"data row3 col1\" >-1.472499</td>\n",
              "      <td id=\"T_5e8eb_row3_col2\" class=\"data row3 col2\" >-1.568716</td>\n",
              "      <td id=\"T_5e8eb_row3_col3\" class=\"data row3 col3\" >2.286828</td>\n",
              "      <td id=\"T_5e8eb_row3_col4\" class=\"data row3 col4\" >1.878474</td>\n",
              "      <td id=\"T_5e8eb_row3_col5\" class=\"data row3 col5\" >0.741611</td>\n",
              "      <td id=\"T_5e8eb_row3_col6\" class=\"data row3 col6\" >0.746709</td>\n",
              "      <td id=\"T_5e8eb_row3_col7\" class=\"data row3 col7\" >0.940459</td>\n",
              "      <td id=\"T_5e8eb_row3_col8\" class=\"data row3 col8\" >-1.238893</td>\n",
              "      <td id=\"T_5e8eb_row3_col9\" class=\"data row3 col9\" >-0.868945</td>\n",
              "    </tr>\n",
              "    <tr>\n",
              "      <th id=\"T_5e8eb_level0_row4\" class=\"row_heading level0 row4\" >4</th>\n",
              "      <td id=\"T_5e8eb_row4_col0\" class=\"data row4 col0\" >-4.518712</td>\n",
              "      <td id=\"T_5e8eb_row4_col1\" class=\"data row4 col1\" >-2.188179</td>\n",
              "      <td id=\"T_5e8eb_row4_col2\" class=\"data row4 col2\" >-0.073518</td>\n",
              "      <td id=\"T_5e8eb_row4_col3\" class=\"data row4 col3\" >1.348441</td>\n",
              "      <td id=\"T_5e8eb_row4_col4\" class=\"data row4 col4\" >1.831576</td>\n",
              "      <td id=\"T_5e8eb_row4_col5\" class=\"data row4 col5\" >0.659325</td>\n",
              "      <td id=\"T_5e8eb_row4_col6\" class=\"data row4 col6\" >0.976932</td>\n",
              "      <td id=\"T_5e8eb_row4_col7\" class=\"data row4 col7\" >1.850294</td>\n",
              "      <td id=\"T_5e8eb_row4_col8\" class=\"data row4 col8\" >-0.032496</td>\n",
              "      <td id=\"T_5e8eb_row4_col9\" class=\"data row4 col9\" >-0.769948</td>\n",
              "    </tr>\n",
              "  </tbody>\n",
              "</table>\n"
            ]
          },
          "metadata": {}
        }
      ]
    }
  ]
}